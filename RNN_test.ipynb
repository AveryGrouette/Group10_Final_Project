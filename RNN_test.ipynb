{
 "cells": [
  {
   "cell_type": "code",
   "execution_count": 126,
   "metadata": {},
   "outputs": [],
   "source": [
    "import pandas as pd\n",
    "import numpy as np\n",
    "from sklearn.preprocessing import MinMaxScaler\n",
    "from keras.models import Sequential\n",
    "from keras.layers import Dense, LSTM, Dropout, RepeatVector, TimeDistributed\n",
    "import matplotlib.pyplot as plt\n",
    "import plotly.graph_objects as go"
   ]
  },
  {
   "cell_type": "code",
   "execution_count": 127,
   "metadata": {},
   "outputs": [
    {
     "data": {
      "text/html": [
       "<div>\n",
       "<style scoped>\n",
       "    .dataframe tbody tr th:only-of-type {\n",
       "        vertical-align: middle;\n",
       "    }\n",
       "\n",
       "    .dataframe tbody tr th {\n",
       "        vertical-align: top;\n",
       "    }\n",
       "\n",
       "    .dataframe thead th {\n",
       "        text-align: right;\n",
       "    }\n",
       "</style>\n",
       "<table border=\"1\" class=\"dataframe\">\n",
       "  <thead>\n",
       "    <tr style=\"text-align: right;\">\n",
       "      <th></th>\n",
       "      <th>ID</th>\n",
       "      <th>tripduration</th>\n",
       "      <th>starttime</th>\n",
       "      <th>stoptime</th>\n",
       "      <th>ss_id</th>\n",
       "      <th>ss_name</th>\n",
       "      <th>ss_latitude</th>\n",
       "      <th>ss_longitude</th>\n",
       "      <th>es_id</th>\n",
       "      <th>es_name</th>\n",
       "      <th>es_latitude</th>\n",
       "      <th>es_longitude</th>\n",
       "      <th>bikeid</th>\n",
       "      <th>usertype</th>\n",
       "      <th>birth year</th>\n",
       "      <th>gender</th>\n",
       "    </tr>\n",
       "  </thead>\n",
       "  <tbody>\n",
       "    <tr>\n",
       "      <th>0</th>\n",
       "      <td>0</td>\n",
       "      <td>695</td>\n",
       "      <td>2013-06-01 00:00:00</td>\n",
       "      <td>2013-06-01 00:11:00</td>\n",
       "      <td>444</td>\n",
       "      <td>Broadway &amp; W 24 St</td>\n",
       "      <td>40.742354</td>\n",
       "      <td>-73.989151</td>\n",
       "      <td>434</td>\n",
       "      <td>9 Ave &amp; W 18 St</td>\n",
       "      <td>40.743174</td>\n",
       "      <td>-74.003664</td>\n",
       "      <td>19678</td>\n",
       "      <td>Subscriber</td>\n",
       "      <td>1983</td>\n",
       "      <td>1</td>\n",
       "    </tr>\n",
       "    <tr>\n",
       "      <th>1</th>\n",
       "      <td>1</td>\n",
       "      <td>693</td>\n",
       "      <td>2013-06-01 00:00:00</td>\n",
       "      <td>2013-06-01 00:11:00</td>\n",
       "      <td>444</td>\n",
       "      <td>Broadway &amp; W 24 St</td>\n",
       "      <td>40.742354</td>\n",
       "      <td>-73.989151</td>\n",
       "      <td>434</td>\n",
       "      <td>9 Ave &amp; W 18 St</td>\n",
       "      <td>40.743174</td>\n",
       "      <td>-74.003664</td>\n",
       "      <td>16649</td>\n",
       "      <td>Subscriber</td>\n",
       "      <td>1984</td>\n",
       "      <td>1</td>\n",
       "    </tr>\n",
       "    <tr>\n",
       "      <th>2</th>\n",
       "      <td>2</td>\n",
       "      <td>2059</td>\n",
       "      <td>2013-06-01 00:00:00</td>\n",
       "      <td>2013-06-01 00:35:00</td>\n",
       "      <td>406</td>\n",
       "      <td>Hicks St &amp; Montague St</td>\n",
       "      <td>40.695128</td>\n",
       "      <td>-73.995951</td>\n",
       "      <td>406</td>\n",
       "      <td>Hicks St &amp; Montague St</td>\n",
       "      <td>40.695128</td>\n",
       "      <td>-73.995951</td>\n",
       "      <td>19599</td>\n",
       "      <td>Customer</td>\n",
       "      <td>0</td>\n",
       "      <td>0</td>\n",
       "    </tr>\n",
       "    <tr>\n",
       "      <th>3</th>\n",
       "      <td>3</td>\n",
       "      <td>123</td>\n",
       "      <td>2013-06-01 00:01:00</td>\n",
       "      <td>2013-06-01 00:03:00</td>\n",
       "      <td>475</td>\n",
       "      <td>E 15 St &amp; Irving Pl</td>\n",
       "      <td>40.735243</td>\n",
       "      <td>-73.987586</td>\n",
       "      <td>262</td>\n",
       "      <td>Washington Park</td>\n",
       "      <td>40.691782</td>\n",
       "      <td>-73.973730</td>\n",
       "      <td>16352</td>\n",
       "      <td>Subscriber</td>\n",
       "      <td>1960</td>\n",
       "      <td>1</td>\n",
       "    </tr>\n",
       "    <tr>\n",
       "      <th>4</th>\n",
       "      <td>4</td>\n",
       "      <td>1521</td>\n",
       "      <td>2013-06-01 00:01:00</td>\n",
       "      <td>2013-06-01 00:26:00</td>\n",
       "      <td>2008</td>\n",
       "      <td>Little West St &amp; 1 Pl</td>\n",
       "      <td>40.705693</td>\n",
       "      <td>-74.016777</td>\n",
       "      <td>310</td>\n",
       "      <td>State St &amp; Smith St</td>\n",
       "      <td>40.689269</td>\n",
       "      <td>-73.989129</td>\n",
       "      <td>15567</td>\n",
       "      <td>Subscriber</td>\n",
       "      <td>1983</td>\n",
       "      <td>1</td>\n",
       "    </tr>\n",
       "  </tbody>\n",
       "</table>\n",
       "</div>"
      ],
      "text/plain": [
       "   ID  tripduration           starttime            stoptime  ss_id  \\\n",
       "0   0           695 2013-06-01 00:00:00 2013-06-01 00:11:00    444   \n",
       "1   1           693 2013-06-01 00:00:00 2013-06-01 00:11:00    444   \n",
       "2   2          2059 2013-06-01 00:00:00 2013-06-01 00:35:00    406   \n",
       "3   3           123 2013-06-01 00:01:00 2013-06-01 00:03:00    475   \n",
       "4   4          1521 2013-06-01 00:01:00 2013-06-01 00:26:00   2008   \n",
       "\n",
       "                  ss_name  ss_latitude  ss_longitude  es_id  \\\n",
       "0      Broadway & W 24 St    40.742354    -73.989151    434   \n",
       "1      Broadway & W 24 St    40.742354    -73.989151    434   \n",
       "2  Hicks St & Montague St    40.695128    -73.995951    406   \n",
       "3     E 15 St & Irving Pl    40.735243    -73.987586    262   \n",
       "4   Little West St & 1 Pl    40.705693    -74.016777    310   \n",
       "\n",
       "                  es_name  es_latitude  es_longitude  bikeid    usertype  \\\n",
       "0         9 Ave & W 18 St    40.743174    -74.003664   19678  Subscriber   \n",
       "1         9 Ave & W 18 St    40.743174    -74.003664   16649  Subscriber   \n",
       "2  Hicks St & Montague St    40.695128    -73.995951   19599    Customer   \n",
       "3         Washington Park    40.691782    -73.973730   16352  Subscriber   \n",
       "4     State St & Smith St    40.689269    -73.989129   15567  Subscriber   \n",
       "\n",
       "   birth year  gender  \n",
       "0        1983       1  \n",
       "1        1984       1  \n",
       "2           0       0  \n",
       "3        1960       1  \n",
       "4        1983       1  "
      ]
     },
     "execution_count": 127,
     "metadata": {},
     "output_type": "execute_result"
    }
   ],
   "source": [
    "# Load the bike trip data from CSV file\n",
    "df = pd.read_csv(\"clean_data.csv\", parse_dates=['starttime','stoptime'])\n",
    "df.head()"
   ]
  },
  {
   "cell_type": "code",
   "execution_count": 128,
   "metadata": {},
   "outputs": [
    {
     "data": {
      "text/plain": [
       "ID              577703\n",
       "tripduration    577703\n",
       "starttime       577703\n",
       "stoptime        577703\n",
       "ss_id           577703\n",
       "ss_name         577703\n",
       "ss_latitude     577703\n",
       "ss_longitude    577703\n",
       "es_id           577703\n",
       "es_name         577703\n",
       "es_latitude     577703\n",
       "es_longitude    577703\n",
       "bikeid          577703\n",
       "usertype        577703\n",
       "birth year      577703\n",
       "gender          577703\n",
       "dtype: int64"
      ]
     },
     "execution_count": 128,
     "metadata": {},
     "output_type": "execute_result"
    }
   ],
   "source": [
    "df.count()"
   ]
  },
  {
   "cell_type": "code",
   "execution_count": 129,
   "metadata": {},
   "outputs": [],
   "source": [
    "# Drop irrelevant columns\n",
    "df = df.drop(['ID', 'bikeid', 'usertype', 'birth year', 'gender','es_id'], axis=1)\n",
    "\n",
    "# Set the index to the starttime column\n",
    "df = df.set_index('starttime')\n",
    "# Aggregate the data by hour and station\n",
    "df = df.resample('H').agg({'tripduration': 'count', 'ss_id': 'nunique'})"
   ]
  },
  {
   "cell_type": "code",
   "execution_count": 130,
   "metadata": {},
   "outputs": [
    {
     "data": {
      "text/html": [
       "<div>\n",
       "<style scoped>\n",
       "    .dataframe tbody tr th:only-of-type {\n",
       "        vertical-align: middle;\n",
       "    }\n",
       "\n",
       "    .dataframe tbody tr th {\n",
       "        vertical-align: top;\n",
       "    }\n",
       "\n",
       "    .dataframe thead th {\n",
       "        text-align: right;\n",
       "    }\n",
       "</style>\n",
       "<table border=\"1\" class=\"dataframe\">\n",
       "  <thead>\n",
       "    <tr style=\"text-align: right;\">\n",
       "      <th></th>\n",
       "      <th>tripduration</th>\n",
       "      <th>ss_id</th>\n",
       "    </tr>\n",
       "    <tr>\n",
       "      <th>starttime</th>\n",
       "      <th></th>\n",
       "      <th></th>\n",
       "    </tr>\n",
       "  </thead>\n",
       "  <tbody>\n",
       "    <tr>\n",
       "      <th>2013-06-01 00:00:00</th>\n",
       "      <td>152</td>\n",
       "      <td>101</td>\n",
       "    </tr>\n",
       "    <tr>\n",
       "      <th>2013-06-01 01:00:00</th>\n",
       "      <td>102</td>\n",
       "      <td>74</td>\n",
       "    </tr>\n",
       "    <tr>\n",
       "      <th>2013-06-01 02:00:00</th>\n",
       "      <td>67</td>\n",
       "      <td>52</td>\n",
       "    </tr>\n",
       "    <tr>\n",
       "      <th>2013-06-01 03:00:00</th>\n",
       "      <td>41</td>\n",
       "      <td>32</td>\n",
       "    </tr>\n",
       "    <tr>\n",
       "      <th>2013-06-01 04:00:00</th>\n",
       "      <td>16</td>\n",
       "      <td>15</td>\n",
       "    </tr>\n",
       "  </tbody>\n",
       "</table>\n",
       "</div>"
      ],
      "text/plain": [
       "                     tripduration  ss_id\n",
       "starttime                               \n",
       "2013-06-01 00:00:00           152    101\n",
       "2013-06-01 01:00:00           102     74\n",
       "2013-06-01 02:00:00            67     52\n",
       "2013-06-01 03:00:00            41     32\n",
       "2013-06-01 04:00:00            16     15"
      ]
     },
     "execution_count": 130,
     "metadata": {},
     "output_type": "execute_result"
    }
   ],
   "source": [
    "df.head()"
   ]
  },
  {
   "cell_type": "code",
   "execution_count": 131,
   "metadata": {},
   "outputs": [
    {
     "data": {
      "text/plain": [
       "tripduration    721\n",
       "ss_id           721\n",
       "dtype: int64"
      ]
     },
     "execution_count": 131,
     "metadata": {},
     "output_type": "execute_result"
    }
   ],
   "source": [
    "df.count()"
   ]
  },
  {
   "cell_type": "code",
   "execution_count": 132,
   "metadata": {},
   "outputs": [
    {
     "data": {
      "text/plain": [
       "<Axes: xlabel='starttime'>"
      ]
     },
     "execution_count": 132,
     "metadata": {},
     "output_type": "execute_result"
    },
    {
     "data": {
      "image/png": "[encoded data removed]",
      "text/plain": [
       "<Figure size 640x480 with 1 Axes>"
      ]
     },
     "metadata": {},
     "output_type": "display_data"
    }
   ],
   "source": [
    "df.plot()"
   ]
  },
  {
   "cell_type": "code",
   "execution_count": 133,
   "metadata": {},
   "outputs": [],
   "source": [
    "# Split the data into training and testing sets\n",
    "train_size = int(len(df) * 0.8)\n",
    "test_size = len(df) - train_size\n",
    "train_data, test_data = df[0:train_size], df[train_size:len(df)]"
   ]
  },
  {
   "cell_type": "code",
   "execution_count": 134,
   "metadata": {},
   "outputs": [
    {
     "name": "stdout",
     "output_type": "stream",
     "text": [
      "(145, 2)\n",
      "(576, 2)\n"
     ]
    }
   ],
   "source": [
    "print(test_data.shape)\n",
    "print(train_data.shape)"
   ]
  },
  {
   "cell_type": "code",
   "execution_count": 135,
   "metadata": {},
   "outputs": [],
   "source": [
    "# Split the data into training and testing sets\n",
    "train_size = int(len(df) * 0.8)\n",
    "test_size = len(df) - train_size\n",
    "train_data, test_data = df[0:train_size], df[train_size:len(df)]"
   ]
  },
  {
   "cell_type": "code",
   "execution_count": 136,
   "metadata": {},
   "outputs": [
    {
     "name": "stderr",
     "output_type": "stream",
     "text": [
      "C:\\Users\\Rahul\\AppData\\Local\\Temp\\ipykernel_9608\\3533000856.py:7: SettingWithCopyWarning:\n",
      "\n",
      "\n",
      "A value is trying to be set on a copy of a slice from a DataFrame.\n",
      "Try using .loc[row_indexer,col_indexer] = value instead\n",
      "\n",
      "See the caveats in the documentation: https://pandas.pydata.org/pandas-docs/stable/user_guide/indexing.html#returning-a-view-versus-a-copy\n",
      "\n",
      "C:\\Users\\Rahul\\AppData\\Local\\Temp\\ipykernel_9608\\3533000856.py:8: SettingWithCopyWarning:\n",
      "\n",
      "\n",
      "A value is trying to be set on a copy of a slice from a DataFrame.\n",
      "Try using .loc[row_indexer,col_indexer] = value instead\n",
      "\n",
      "See the caveats in the documentation: https://pandas.pydata.org/pandas-docs/stable/user_guide/indexing.html#returning-a-view-versus-a-copy\n",
      "\n"
     ]
    }
   ],
   "source": [
    "from sklearn.preprocessing import StandardScaler\n",
    "\n",
    "# Normalize the data using MinMaxScaler\n",
    "scaler = StandardScaler()\n",
    "scaler = scaler.fit(train_data[['tripduration','ss_id']])\n",
    "\n",
    "train_data[['tripduration','ss_id']] = scaler.transform(train_data[['tripduration','ss_id']])\n",
    "test_data[['tripduration','ss_id']] = scaler.transform(test_data[['tripduration','ss_id']])"
   ]
  },
  {
   "cell_type": "code",
   "execution_count": 137,
   "metadata": {},
   "outputs": [
    {
     "data": {
      "text/html": [
       "<div>\n",
       "<style scoped>\n",
       "    .dataframe tbody tr th:only-of-type {\n",
       "        vertical-align: middle;\n",
       "    }\n",
       "\n",
       "    .dataframe tbody tr th {\n",
       "        vertical-align: top;\n",
       "    }\n",
       "\n",
       "    .dataframe thead th {\n",
       "        text-align: right;\n",
       "    }\n",
       "</style>\n",
       "<table border=\"1\" class=\"dataframe\">\n",
       "  <thead>\n",
       "    <tr style=\"text-align: right;\">\n",
       "      <th></th>\n",
       "      <th>tripduration</th>\n",
       "      <th>ss_id</th>\n",
       "    </tr>\n",
       "    <tr>\n",
       "      <th>starttime</th>\n",
       "      <th></th>\n",
       "      <th></th>\n",
       "    </tr>\n",
       "  </thead>\n",
       "  <tbody>\n",
       "    <tr>\n",
       "      <th>2013-06-01 00:00:00</th>\n",
       "      <td>-0.827179</td>\n",
       "      <td>-0.788981</td>\n",
       "    </tr>\n",
       "    <tr>\n",
       "      <th>2013-06-01 01:00:00</th>\n",
       "      <td>-0.900252</td>\n",
       "      <td>-1.059388</td>\n",
       "    </tr>\n",
       "    <tr>\n",
       "      <th>2013-06-01 02:00:00</th>\n",
       "      <td>-0.951404</td>\n",
       "      <td>-1.279719</td>\n",
       "    </tr>\n",
       "    <tr>\n",
       "      <th>2013-06-01 03:00:00</th>\n",
       "      <td>-0.989402</td>\n",
       "      <td>-1.480020</td>\n",
       "    </tr>\n",
       "    <tr>\n",
       "      <th>2013-06-01 04:00:00</th>\n",
       "      <td>-1.025939</td>\n",
       "      <td>-1.650276</td>\n",
       "    </tr>\n",
       "    <tr>\n",
       "      <th>...</th>\n",
       "      <td>...</td>\n",
       "      <td>...</td>\n",
       "    </tr>\n",
       "    <tr>\n",
       "      <th>2013-06-24 19:00:00</th>\n",
       "      <td>2.108922</td>\n",
       "      <td>1.264105</td>\n",
       "    </tr>\n",
       "    <tr>\n",
       "      <th>2013-06-24 20:00:00</th>\n",
       "      <td>1.046430</td>\n",
       "      <td>1.143924</td>\n",
       "    </tr>\n",
       "    <tr>\n",
       "      <th>2013-06-24 21:00:00</th>\n",
       "      <td>0.524684</td>\n",
       "      <td>0.793397</td>\n",
       "    </tr>\n",
       "    <tr>\n",
       "      <th>2013-06-24 22:00:00</th>\n",
       "      <td>-0.010215</td>\n",
       "      <td>0.573066</td>\n",
       "    </tr>\n",
       "    <tr>\n",
       "      <th>2013-06-24 23:00:00</th>\n",
       "      <td>-0.358046</td>\n",
       "      <td>0.132404</td>\n",
       "    </tr>\n",
       "  </tbody>\n",
       "</table>\n",
       "<p>576 rows × 2 columns</p>\n",
       "</div>"
      ],
      "text/plain": [
       "                     tripduration     ss_id\n",
       "starttime                                  \n",
       "2013-06-01 00:00:00     -0.827179 -0.788981\n",
       "2013-06-01 01:00:00     -0.900252 -1.059388\n",
       "2013-06-01 02:00:00     -0.951404 -1.279719\n",
       "2013-06-01 03:00:00     -0.989402 -1.480020\n",
       "2013-06-01 04:00:00     -1.025939 -1.650276\n",
       "...                           ...       ...\n",
       "2013-06-24 19:00:00      2.108922  1.264105\n",
       "2013-06-24 20:00:00      1.046430  1.143924\n",
       "2013-06-24 21:00:00      0.524684  0.793397\n",
       "2013-06-24 22:00:00     -0.010215  0.573066\n",
       "2013-06-24 23:00:00     -0.358046  0.132404\n",
       "\n",
       "[576 rows x 2 columns]"
      ]
     },
     "execution_count": 137,
     "metadata": {},
     "output_type": "execute_result"
    }
   ],
   "source": [
    "train_data"
   ]
  },
  {
   "cell_type": "markdown",
   "metadata": {},
   "source": [
    "def create_sequences(data, seq_length):\n",
    "    X, y = [], []\n",
    "    for i in range(len(data)-seq_length):\n",
    "        X.append(data[i:(i+seq_length)])\n",
    "        y.append(data[i+seq_length])\n",
    "    return np.array(X), np.array(y)"
   ]
  },
  {
   "cell_type": "code",
   "execution_count": 138,
   "metadata": {},
   "outputs": [],
   "source": [
    "def create_sequences(X,y, time_steps):\n",
    "    Xs, ys = [], []\n",
    "    for i in range(len(X)-time_steps):\n",
    "        Xs.append(X.iloc[i:(i+time_steps)].values)\n",
    "        ys.append(y.iloc[i+time_steps])\n",
    "    \n",
    "    return np.array(Xs), np.array(ys)"
   ]
  },
  {
   "cell_type": "code",
   "execution_count": 139,
   "metadata": {},
   "outputs": [],
   "source": [
    "seq_length = 24 # number of hours in a day\n",
    "train_X, train_y = create_sequences(train_data[['tripduration']],train_data[['ss_id']], seq_length)\n",
    "test_X, test_y = create_sequences(test_data[['tripduration']],test_data[['ss_id']], seq_length)"
   ]
  },
  {
   "cell_type": "code",
   "execution_count": 140,
   "metadata": {},
   "outputs": [
    {
     "name": "stdout",
     "output_type": "stream",
     "text": [
      "(552, 24, 1)\n"
     ]
    },
    {
     "data": {
      "text/plain": [
       "(552, 1)"
      ]
     },
     "execution_count": 140,
     "metadata": {},
     "output_type": "execute_result"
    }
   ],
   "source": [
    "print(train_X.shape)\n",
    "train_y.shape"
   ]
  },
  {
   "cell_type": "code",
   "execution_count": 141,
   "metadata": {},
   "outputs": [
    {
     "name": "stdout",
     "output_type": "stream",
     "text": [
      "(121, 24, 1)\n"
     ]
    },
    {
     "data": {
      "text/plain": [
       "(121, 1)"
      ]
     },
     "execution_count": 141,
     "metadata": {},
     "output_type": "execute_result"
    }
   ],
   "source": [
    "print(test_X.shape)\n",
    "test_y.shape"
   ]
  },
  {
   "cell_type": "code",
   "execution_count": 142,
   "metadata": {},
   "outputs": [],
   "source": [
    "# define the model architecture\n",
    "model = Sequential()\n",
    "model.add(LSTM(128, input_shape=(train_X.shape[1], train_X.shape[2]), return_sequences=True))\n",
    "model.add(Dropout(rate=0.2))\n",
    "model.add(TimeDistributed(Dense(64, activation='relu')))\n",
    "model.add(Dropout(rate=0.2))\n",
    "model.add(TimeDistributed(Dense(1)))\n",
    "\n",
    "# compile the model\n",
    "model.compile(optimizer='adam', loss='mae')\n",
    "\n"
   ]
  },
  {
   "cell_type": "code",
   "execution_count": 143,
   "metadata": {},
   "outputs": [
    {
     "name": "stdout",
     "output_type": "stream",
     "text": [
      "Model: \"sequential_2\"\n",
      "_________________________________________________________________\n",
      " Layer (type)                Output Shape              Param #   \n",
      "=================================================================\n",
      " lstm_2 (LSTM)               (None, 24, 128)           66560     \n",
      "                                                                 \n",
      " dropout_4 (Dropout)         (None, 24, 128)           0         \n",
      "                                                                 \n",
      " time_distributed_4 (TimeDis  (None, 24, 64)           8256      \n",
      " tributed)                                                       \n",
      "                                                                 \n",
      " dropout_5 (Dropout)         (None, 24, 64)            0         \n",
      "                                                                 \n",
      " time_distributed_5 (TimeDis  (None, 24, 1)            65        \n",
      " tributed)                                                       \n",
      "                                                                 \n",
      "=================================================================\n",
      "Total params: 74,881\n",
      "Trainable params: 74,881\n",
      "Non-trainable params: 0\n",
      "_________________________________________________________________\n"
     ]
    }
   ],
   "source": [
    "model.summary()"
   ]
  },
  {
   "cell_type": "code",
   "execution_count": 144,
   "metadata": {},
   "outputs": [
    {
     "name": "stdout",
     "output_type": "stream",
     "text": [
      "Epoch 1/20\n",
      "248/248 [==============================] - 7s 16ms/step - loss: 0.8882 - val_loss: 0.6922\n",
      "Epoch 2/20\n",
      "248/248 [==============================] - 3s 14ms/step - loss: 0.8763 - val_loss: 0.6903\n",
      "Epoch 3/20\n",
      "248/248 [==============================] - 4s 14ms/step - loss: 0.8643 - val_loss: 0.6913\n",
      "Epoch 4/20\n",
      "248/248 [==============================] - 3s 14ms/step - loss: 0.8426 - val_loss: 0.6275\n",
      "Epoch 5/20\n",
      "248/248 [==============================] - 3s 14ms/step - loss: 0.8377 - val_loss: 0.5437\n",
      "Epoch 6/20\n",
      "248/248 [==============================] - 3s 14ms/step - loss: 0.8268 - val_loss: 0.5162\n",
      "Epoch 7/20\n",
      "248/248 [==============================] - 4s 14ms/step - loss: 0.8457 - val_loss: 0.4781\n",
      "Epoch 8/20\n",
      "248/248 [==============================] - 4s 14ms/step - loss: 0.8628 - val_loss: 0.6048\n",
      "Epoch 9/20\n",
      "248/248 [==============================] - 3s 14ms/step - loss: 0.8285 - val_loss: 0.4845\n",
      "Epoch 10/20\n",
      "248/248 [==============================] - 4s 15ms/step - loss: 0.8070 - val_loss: 0.4269\n",
      "Epoch 11/20\n",
      "248/248 [==============================] - 3s 14ms/step - loss: 0.8035 - val_loss: 0.4228\n",
      "Epoch 12/20\n",
      "248/248 [==============================] - 3s 14ms/step - loss: 0.7969 - val_loss: 0.3812\n",
      "Epoch 13/20\n",
      "248/248 [==============================] - 3s 14ms/step - loss: 0.7381 - val_loss: 0.3744\n",
      "Epoch 14/20\n",
      "248/248 [==============================] - 4s 15ms/step - loss: 0.6890 - val_loss: 0.3449\n",
      "Epoch 15/20\n",
      "248/248 [==============================] - 4s 14ms/step - loss: 0.6665 - val_loss: 0.3406\n",
      "Epoch 16/20\n",
      "248/248 [==============================] - 3s 14ms/step - loss: 0.6397 - val_loss: 0.3231\n",
      "Epoch 17/20\n",
      "248/248 [==============================] - 4s 15ms/step - loss: 0.6380 - val_loss: 0.3407\n",
      "Epoch 18/20\n",
      "248/248 [==============================] - 4s 14ms/step - loss: 0.6298 - val_loss: 0.3294\n",
      "Epoch 19/20\n",
      "248/248 [==============================] - 4s 14ms/step - loss: 0.6216 - val_loss: 0.3074\n",
      "Epoch 20/20\n",
      "248/248 [==============================] - 4s 14ms/step - loss: 0.6158 - val_loss: 0.3176\n"
     ]
    }
   ],
   "source": [
    "# train the model\n",
    "history = model.fit(train_X, train_y, epochs=20, batch_size=2, validation_split=0.1, shuffle=False)"
   ]
  },
  {
   "cell_type": "code",
   "execution_count": 145,
   "metadata": {},
   "outputs": [
    {
     "data": {
      "text/plain": [
       "<matplotlib.legend.Legend at 0x2490762c130>"
      ]
     },
     "execution_count": 145,
     "metadata": {},
     "output_type": "execute_result"
    },
    {
     "data": {
      "image/png": "[encoded data removed]",
      "text/plain": [
       "<Figure size 640x480 with 1 Axes>"
      ]
     },
     "metadata": {},
     "output_type": "display_data"
    }
   ],
   "source": [
    "plt.plot(history.history['loss'], label='Training loss')\n",
    "plt.plot(history.history['val_loss'], label='Validation loss')\n",
    "plt.legend()"
   ]
  },
  {
   "cell_type": "code",
   "execution_count": 146,
   "metadata": {},
   "outputs": [
    {
     "name": "stdout",
     "output_type": "stream",
     "text": [
      "4/4 [==============================] - 1s 12ms/step - loss: 0.2914\n"
     ]
    },
    {
     "data": {
      "text/plain": [
       "0.29139673709869385"
      ]
     },
     "execution_count": 146,
     "metadata": {},
     "output_type": "execute_result"
    }
   ],
   "source": [
    "model.evaluate(test_X, test_y)"
   ]
  },
  {
   "cell_type": "code",
   "execution_count": 147,
   "metadata": {},
   "outputs": [
    {
     "name": "stdout",
     "output_type": "stream",
     "text": [
      "Reconstruction error threshold: 1.7906939593741324\n"
     ]
    },
    {
     "data": {
      "image/png": "[encoded data removed]",
      "text/plain": [
       "<Figure size 640x480 with 1 Axes>"
      ]
     },
     "metadata": {},
     "output_type": "display_data"
    }
   ],
   "source": [
    "X_train_pred = model.predict(train_X, verbose=0)\n",
    "train_mae_loss = np.mean(np.abs(X_train_pred - train_X), axis=1)\n",
    "\n",
    "plt.hist(train_mae_loss, bins=50)\n",
    "plt.xlabel('Train MAE loss')\n",
    "plt.ylabel('Number of Samples');\n",
    "\n",
    "threshold = np.max(train_mae_loss)\n",
    "print(f'Reconstruction error threshold: {threshold}')"
   ]
  },
  {
   "cell_type": "code",
   "execution_count": 148,
   "metadata": {},
   "outputs": [
    {
     "data": {
      "image/png": "[encoded data removed]",
      "text/plain": [
       "<Figure size 640x480 with 1 Axes>"
      ]
     },
     "metadata": {},
     "output_type": "display_data"
    }
   ],
   "source": [
    "X_test_pred = model.predict(test_X, verbose=0)\n",
    "test_mae_loss = np.mean(np.abs(X_test_pred-test_X), axis=1)\n",
    "\n",
    "plt.hist(test_mae_loss, bins=50)\n",
    "plt.xlabel('Test MAE loss')\n",
    "plt.ylabel('Number of samples');"
   ]
  },
  {
   "cell_type": "code",
   "execution_count": 149,
   "metadata": {},
   "outputs": [],
   "source": [
    "test_score_df = pd.DataFrame(test_data[seq_length:])\n",
    "test_score_df['loss'] = test_mae_loss\n",
    "test_score_df['threshold'] = threshold\n",
    "test_score_df['anomaly'] = test_score_df['loss'] > test_score_df['threshold']\n",
    "test_score_df['tripduration'] = test_data[seq_length:]['tripduration']\n",
    "test_score_df['ss_id'] = test_data[seq_length:]['ss_id']"
   ]
  },
  {
   "cell_type": "code",
   "execution_count": 150,
   "metadata": {},
   "outputs": [
    {
     "data": {
      "text/html": [
       "<div>\n",
       "<style scoped>\n",
       "    .dataframe tbody tr th:only-of-type {\n",
       "        vertical-align: middle;\n",
       "    }\n",
       "\n",
       "    .dataframe tbody tr th {\n",
       "        vertical-align: top;\n",
       "    }\n",
       "\n",
       "    .dataframe thead th {\n",
       "        text-align: right;\n",
       "    }\n",
       "</style>\n",
       "<table border=\"1\" class=\"dataframe\">\n",
       "  <thead>\n",
       "    <tr style=\"text-align: right;\">\n",
       "      <th></th>\n",
       "      <th>tripduration</th>\n",
       "      <th>ss_id</th>\n",
       "      <th>loss</th>\n",
       "      <th>threshold</th>\n",
       "      <th>anomaly</th>\n",
       "    </tr>\n",
       "    <tr>\n",
       "      <th>starttime</th>\n",
       "      <th></th>\n",
       "      <th></th>\n",
       "      <th></th>\n",
       "      <th></th>\n",
       "      <th></th>\n",
       "    </tr>\n",
       "  </thead>\n",
       "  <tbody>\n",
       "    <tr>\n",
       "      <th>2013-06-30 20:00:00</th>\n",
       "      <td>1.084429</td>\n",
       "      <td>1.194000</td>\n",
       "      <td>0.970215</td>\n",
       "      <td>1.790694</td>\n",
       "      <td>False</td>\n",
       "    </tr>\n",
       "    <tr>\n",
       "      <th>2013-06-30 21:00:00</th>\n",
       "      <td>0.397536</td>\n",
       "      <td>0.853488</td>\n",
       "      <td>0.937284</td>\n",
       "      <td>1.790694</td>\n",
       "      <td>False</td>\n",
       "    </tr>\n",
       "    <tr>\n",
       "      <th>2013-06-30 22:00:00</th>\n",
       "      <td>0.096472</td>\n",
       "      <td>0.543021</td>\n",
       "      <td>0.922491</td>\n",
       "      <td>1.790694</td>\n",
       "      <td>False</td>\n",
       "    </tr>\n",
       "    <tr>\n",
       "      <th>2013-06-30 23:00:00</th>\n",
       "      <td>-0.423812</td>\n",
       "      <td>0.082329</td>\n",
       "      <td>0.904085</td>\n",
       "      <td>1.790694</td>\n",
       "      <td>False</td>\n",
       "    </tr>\n",
       "    <tr>\n",
       "      <th>2013-07-01 00:00:00</th>\n",
       "      <td>-1.047861</td>\n",
       "      <td>-1.790486</td>\n",
       "      <td>0.904252</td>\n",
       "      <td>1.790694</td>\n",
       "      <td>False</td>\n",
       "    </tr>\n",
       "  </tbody>\n",
       "</table>\n",
       "</div>"
      ],
      "text/plain": [
       "                     tripduration     ss_id      loss  threshold  anomaly\n",
       "starttime                                                                \n",
       "2013-06-30 20:00:00      1.084429  1.194000  0.970215   1.790694    False\n",
       "2013-06-30 21:00:00      0.397536  0.853488  0.937284   1.790694    False\n",
       "2013-06-30 22:00:00      0.096472  0.543021  0.922491   1.790694    False\n",
       "2013-06-30 23:00:00     -0.423812  0.082329  0.904085   1.790694    False\n",
       "2013-07-01 00:00:00     -1.047861 -1.790486  0.904252   1.790694    False"
      ]
     },
     "execution_count": 150,
     "metadata": {},
     "output_type": "execute_result"
    }
   ],
   "source": [
    "test_score_df.tail()"
   ]
  },
  {
   "cell_type": "code",
   "execution_count": 151,
   "metadata": {},
   "outputs": [
    {
     "data": {
      "application/vnd.plotly.v1+json": {
       "config": {
        "plotlyServerURL": "https://plot.ly"
       },
       "data": [
        {
         "name": "Test loss",
         "type": "scatter",
         "x": [
          "2013-06-26T00:00:00",
          "2013-06-26T01:00:00",
          "2013-06-26T02:00:00",
          "2013-06-26T03:00:00",
          "2013-06-26T04:00:00",
          "2013-06-26T05:00:00",
          "2013-06-26T06:00:00",
          "2013-06-26T07:00:00",
          "2013-06-26T08:00:00",
          "2013-06-26T09:00:00",
          "2013-06-26T10:00:00",
          "2013-06-26T11:00:00",
          "2013-06-26T12:00:00",
          "2013-06-26T13:00:00",
          "2013-06-26T14:00:00",
          "2013-06-26T15:00:00",
          "2013-06-26T16:00:00",
          "2013-06-26T17:00:00",
          "2013-06-26T18:00:00",
          "2013-06-26T19:00:00",
          "2013-06-26T20:00:00",
          "2013-06-26T21:00:00",
          "2013-06-26T22:00:00",
          "2013-06-26T23:00:00",
          "2013-06-27T00:00:00",
          "2013-06-27T01:00:00",
          "2013-06-27T02:00:00",
          "2013-06-27T03:00:00",
          "2013-06-27T04:00:00",
          "2013-06-27T05:00:00",
          "2013-06-27T06:00:00",
          "2013-06-27T07:00:00",
          "2013-06-27T08:00:00",
          "2013-06-27T09:00:00",
          "2013-06-27T10:00:00",
          "2013-06-27T11:00:00",
          "2013-06-27T12:00:00",
          "2013-06-27T13:00:00",
          "2013-06-27T14:00:00",
          "2013-06-27T15:00:00",
          "2013-06-27T16:00:00",
          "2013-06-27T17:00:00",
          "2013-06-27T18:00:00",
          "2013-06-27T19:00:00",
          "2013-06-27T20:00:00",
          "2013-06-27T21:00:00",
          "2013-06-27T22:00:00",
          "2013-06-27T23:00:00",
          "2013-06-28T00:00:00",
          "2013-06-28T01:00:00",
          "2013-06-28T02:00:00",
          "2013-06-28T03:00:00",
          "2013-06-28T04:00:00",
          "2013-06-28T05:00:00",
          "2013-06-28T06:00:00",
          "2013-06-28T07:00:00",
          "2013-06-28T08:00:00",
          "2013-06-28T09:00:00",
          "2013-06-28T10:00:00",
          "2013-06-28T11:00:00",
          "2013-06-28T12:00:00",
          "2013-06-28T13:00:00",
          "2013-06-28T14:00:00",
          "2013-06-28T15:00:00",
          "2013-06-28T16:00:00",
          "2013-06-28T17:00:00",
          "2013-06-28T18:00:00",
          "2013-06-28T19:00:00",
          "2013-06-28T20:00:00",
          "2013-06-28T21:00:00",
          "2013-06-28T22:00:00",
          "2013-06-28T23:00:00",
          "2013-06-29T00:00:00",
          "2013-06-29T01:00:00",
          "2013-06-29T02:00:00",
          "2013-06-29T03:00:00",
          "2013-06-29T04:00:00",
          "2013-06-29T05:00:00",
          "2013-06-29T06:00:00",
          "2013-06-29T07:00:00",
          "2013-06-29T08:00:00",
          "2013-06-29T09:00:00",
          "2013-06-29T10:00:00",
          "2013-06-29T11:00:00",
          "2013-06-29T12:00:00",
          "2013-06-29T13:00:00",
          "2013-06-29T14:00:00",
          "2013-06-29T15:00:00",
          "2013-06-29T16:00:00",
          "2013-06-29T17:00:00",
          "2013-06-29T18:00:00",
          "2013-06-29T19:00:00",
          "2013-06-29T20:00:00",
          "2013-06-29T21:00:00",
          "2013-06-29T22:00:00",
          "2013-06-29T23:00:00",
          "2013-06-30T00:00:00",
          "2013-06-30T01:00:00",
          "2013-06-30T02:00:00",
          "2013-06-30T03:00:00",
          "2013-06-30T04:00:00",
          "2013-06-30T05:00:00",
          "2013-06-30T06:00:00",
          "2013-06-30T07:00:00",
          "2013-06-30T08:00:00",
          "2013-06-30T09:00:00",
          "2013-06-30T10:00:00",
          "2013-06-30T11:00:00",
          "2013-06-30T12:00:00",
          "2013-06-30T13:00:00",
          "2013-06-30T14:00:00",
          "2013-06-30T15:00:00",
          "2013-06-30T16:00:00",
          "2013-06-30T17:00:00",
          "2013-06-30T18:00:00",
          "2013-06-30T19:00:00",
          "2013-06-30T20:00:00",
          "2013-06-30T21:00:00",
          "2013-06-30T22:00:00",
          "2013-06-30T23:00:00",
          "2013-07-01T00:00:00"
         ],
         "y": [
          1.6101317486049584,
          1.6408602459019843,
          1.6585749287977434,
          1.6754621710476147,
          1.6812421453161814,
          1.5192215673651048,
          0.8394210195549542,
          0.9535044454487994,
          1.023801998865921,
          1.0476569750059055,
          1.0386111274254861,
          1.0490017753776408,
          1.0596758453573247,
          1.0607992280803498,
          1.0513863324856028,
          1.0367186356259999,
          1.0208842455397715,
          1.0043882150994505,
          1.007624199211755,
          0.9946015012465206,
          0.9861947756454019,
          0.9727818475939595,
          0.9763445504862321,
          1.0643903085388893,
          1.7129137933149121,
          1.744882620686723,
          1.762491033916529,
          1.7777248748912207,
          1.7824066347379668,
          1.571974839659979,
          0.9045189321064203,
          0.9841552322250692,
          1.0274129258779832,
          1.0300591445812968,
          1.0215705844435752,
          1.03343462044994,
          1.0470782407193449,
          1.0552844184139616,
          1.06343149227905,
          1.0686034935261068,
          1.0610910328133774,
          1.0468766505228329,
          0.9853627962974071,
          0.9281123257113238,
          0.903238886510966,
          0.8650335685684344,
          0.869791289233707,
          0.7994490182213282,
          1.381800721256453,
          1.4324011184370686,
          1.450322406580847,
          1.46124107006131,
          1.4567776417564484,
          1.268033182671727,
          0.9157416194977586,
          0.9699322113108493,
          1.0177014898513468,
          1.0348554593712178,
          1.0268075270901453,
          1.0476603212046087,
          1.0553538225706596,
          1.05135654463547,
          1.0344809531601207,
          1.011625949563869,
          1.0067087361640705,
          1.0177888822262924,
          1.042073362618809,
          1.0517677766104534,
          1.0352639334001472,
          0.8468139944339702,
          0.8590227007480564,
          1.0764826737979079,
          1.6092778831955545,
          1.6548055445214789,
          1.6813035995177354,
          1.7030368134646643,
          1.7132348657756544,
          1.5880047297765243,
          0.8611911753758403,
          0.9406784410762009,
          1.0231229897441756,
          1.0455071194838024,
          1.0710849599904797,
          1.0657560618732804,
          1.0719308121191806,
          1.1068220475194408,
          1.1474730390212498,
          1.1934046856565081,
          1.241843980856098,
          1.2535181085464226,
          1.2343427455977827,
          1.2153623428270446,
          1.212914379095657,
          1.19284996285326,
          1.1747636055663238,
          1.1647544951031048,
          1.1409432042101468,
          1.6239042878891803,
          1.7437452949565593,
          1.7806872830220126,
          1.8025935076385078,
          1.8120209748084264,
          1.7740483391939765,
          1.271511969090584,
          1.2361913798762785,
          1.2317630011956326,
          1.2393650319645626,
          1.2494948761628681,
          1.230401168424562,
          1.206853597745975,
          1.1882168283206658,
          1.1728654019147715,
          1.109802853490931,
          1.0506563188424158,
          1.0165938558118042,
          0.9914051136398024,
          0.9702148194451247,
          0.9372842537894582,
          0.9224909174392648,
          0.9040850447431561,
          0.9042523141903711
         ]
        },
        {
         "name": "Threshold",
         "type": "scatter",
         "x": [
          "2013-06-26T00:00:00",
          "2013-06-26T01:00:00",
          "2013-06-26T02:00:00",
          "2013-06-26T03:00:00",
          "2013-06-26T04:00:00",
          "2013-06-26T05:00:00",
          "2013-06-26T06:00:00",
          "2013-06-26T07:00:00",
          "2013-06-26T08:00:00",
          "2013-06-26T09:00:00",
          "2013-06-26T10:00:00",
          "2013-06-26T11:00:00",
          "2013-06-26T12:00:00",
          "2013-06-26T13:00:00",
          "2013-06-26T14:00:00",
          "2013-06-26T15:00:00",
          "2013-06-26T16:00:00",
          "2013-06-26T17:00:00",
          "2013-06-26T18:00:00",
          "2013-06-26T19:00:00",
          "2013-06-26T20:00:00",
          "2013-06-26T21:00:00",
          "2013-06-26T22:00:00",
          "2013-06-26T23:00:00",
          "2013-06-27T00:00:00",
          "2013-06-27T01:00:00",
          "2013-06-27T02:00:00",
          "2013-06-27T03:00:00",
          "2013-06-27T04:00:00",
          "2013-06-27T05:00:00",
          "2013-06-27T06:00:00",
          "2013-06-27T07:00:00",
          "2013-06-27T08:00:00",
          "2013-06-27T09:00:00",
          "2013-06-27T10:00:00",
          "2013-06-27T11:00:00",
          "2013-06-27T12:00:00",
          "2013-06-27T13:00:00",
          "2013-06-27T14:00:00",
          "2013-06-27T15:00:00",
          "2013-06-27T16:00:00",
          "2013-06-27T17:00:00",
          "2013-06-27T18:00:00",
          "2013-06-27T19:00:00",
          "2013-06-27T20:00:00",
          "2013-06-27T21:00:00",
          "2013-06-27T22:00:00",
          "2013-06-27T23:00:00",
          "2013-06-28T00:00:00",
          "2013-06-28T01:00:00",
          "2013-06-28T02:00:00",
          "2013-06-28T03:00:00",
          "2013-06-28T04:00:00",
          "2013-06-28T05:00:00",
          "2013-06-28T06:00:00",
          "2013-06-28T07:00:00",
          "2013-06-28T08:00:00",
          "2013-06-28T09:00:00",
          "2013-06-28T10:00:00",
          "2013-06-28T11:00:00",
          "2013-06-28T12:00:00",
          "2013-06-28T13:00:00",
          "2013-06-28T14:00:00",
          "2013-06-28T15:00:00",
          "2013-06-28T16:00:00",
          "2013-06-28T17:00:00",
          "2013-06-28T18:00:00",
          "2013-06-28T19:00:00",
          "2013-06-28T20:00:00",
          "2013-06-28T21:00:00",
          "2013-06-28T22:00:00",
          "2013-06-28T23:00:00",
          "2013-06-29T00:00:00",
          "2013-06-29T01:00:00",
          "2013-06-29T02:00:00",
          "2013-06-29T03:00:00",
          "2013-06-29T04:00:00",
          "2013-06-29T05:00:00",
          "2013-06-29T06:00:00",
          "2013-06-29T07:00:00",
          "2013-06-29T08:00:00",
          "2013-06-29T09:00:00",
          "2013-06-29T10:00:00",
          "2013-06-29T11:00:00",
          "2013-06-29T12:00:00",
          "2013-06-29T13:00:00",
          "2013-06-29T14:00:00",
          "2013-06-29T15:00:00",
          "2013-06-29T16:00:00",
          "2013-06-29T17:00:00",
          "2013-06-29T18:00:00",
          "2013-06-29T19:00:00",
          "2013-06-29T20:00:00",
          "2013-06-29T21:00:00",
          "2013-06-29T22:00:00",
          "2013-06-29T23:00:00",
          "2013-06-30T00:00:00",
          "2013-06-30T01:00:00",
          "2013-06-30T02:00:00",
          "2013-06-30T03:00:00",
          "2013-06-30T04:00:00",
          "2013-06-30T05:00:00",
          "2013-06-30T06:00:00",
          "2013-06-30T07:00:00",
          "2013-06-30T08:00:00",
          "2013-06-30T09:00:00",
          "2013-06-30T10:00:00",
          "2013-06-30T11:00:00",
          "2013-06-30T12:00:00",
          "2013-06-30T13:00:00",
          "2013-06-30T14:00:00",
          "2013-06-30T15:00:00",
          "2013-06-30T16:00:00",
          "2013-06-30T17:00:00",
          "2013-06-30T18:00:00",
          "2013-06-30T19:00:00",
          "2013-06-30T20:00:00",
          "2013-06-30T21:00:00",
          "2013-06-30T22:00:00",
          "2013-06-30T23:00:00",
          "2013-07-01T00:00:00"
         ],
         "y": [
          1.7906939593741324,
          1.7906939593741324,
          1.7906939593741324,
          1.7906939593741324,
          1.7906939593741324,
          1.7906939593741324,
          1.7906939593741324,
          1.7906939593741324,
          1.7906939593741324,
          1.7906939593741324,
          1.7906939593741324,
          1.7906939593741324,
          1.7906939593741324,
          1.7906939593741324,
          1.7906939593741324,
          1.7906939593741324,
          1.7906939593741324,
          1.7906939593741324,
          1.7906939593741324,
          1.7906939593741324,
          1.7906939593741324,
          1.7906939593741324,
          1.7906939593741324,
          1.7906939593741324,
          1.7906939593741324,
          1.7906939593741324,
          1.7906939593741324,
          1.7906939593741324,
          1.7906939593741324,
          1.7906939593741324,
          1.7906939593741324,
          1.7906939593741324,
          1.7906939593741324,
          1.7906939593741324,
          1.7906939593741324,
          1.7906939593741324,
          1.7906939593741324,
          1.7906939593741324,
          1.7906939593741324,
          1.7906939593741324,
          1.7906939593741324,
          1.7906939593741324,
          1.7906939593741324,
          1.7906939593741324,
          1.7906939593741324,
          1.7906939593741324,
          1.7906939593741324,
          1.7906939593741324,
          1.7906939593741324,
          1.7906939593741324,
          1.7906939593741324,
          1.7906939593741324,
          1.7906939593741324,
          1.7906939593741324,
          1.7906939593741324,
          1.7906939593741324,
          1.7906939593741324,
          1.7906939593741324,
          1.7906939593741324,
          1.7906939593741324,
          1.7906939593741324,
          1.7906939593741324,
          1.7906939593741324,
          1.7906939593741324,
          1.7906939593741324,
          1.7906939593741324,
          1.7906939593741324,
          1.7906939593741324,
          1.7906939593741324,
          1.7906939593741324,
          1.7906939593741324,
          1.7906939593741324,
          1.7906939593741324,
          1.7906939593741324,
          1.7906939593741324,
          1.7906939593741324,
          1.7906939593741324,
          1.7906939593741324,
          1.7906939593741324,
          1.7906939593741324,
          1.7906939593741324,
          1.7906939593741324,
          1.7906939593741324,
          1.7906939593741324,
          1.7906939593741324,
          1.7906939593741324,
          1.7906939593741324,
          1.7906939593741324,
          1.7906939593741324,
          1.7906939593741324,
          1.7906939593741324,
          1.7906939593741324,
          1.7906939593741324,
          1.7906939593741324,
          1.7906939593741324,
          1.7906939593741324,
          1.7906939593741324,
          1.7906939593741324,
          1.7906939593741324,
          1.7906939593741324,
          1.7906939593741324,
          1.7906939593741324,
          1.7906939593741324,
          1.7906939593741324,
          1.7906939593741324,
          1.7906939593741324,
          1.7906939593741324,
          1.7906939593741324,
          1.7906939593741324,
          1.7906939593741324,
          1.7906939593741324,
          1.7906939593741324,
          1.7906939593741324,
          1.7906939593741324,
          1.7906939593741324,
          1.7906939593741324,
          1.7906939593741324,
          1.7906939593741324,
          1.7906939593741324,
          1.7906939593741324,
          1.7906939593741324
         ]
        }
       ],
       "layout": {
        "showlegend": true,
        "template": {
         "data": {
          "bar": [
           {
            "error_x": {
             "color": "#2a3f5f"
            },
            "error_y": {
             "color": "#2a3f5f"
            },
            "marker": {
             "line": {
              "color": "#E5ECF6",
              "width": 0.5
             },
             "pattern": {
              "fillmode": "overlay",
              "size": 10,
              "solidity": 0.2
             }
            },
            "type": "bar"
           }
          ],
          "barpolar": [
           {
            "marker": {
             "line": {
              "color": "#E5ECF6",
              "width": 0.5
             },
             "pattern": {
              "fillmode": "overlay",
              "size": 10,
              "solidity": 0.2
             }
            },
            "type": "barpolar"
           }
          ],
          "carpet": [
           {
            "aaxis": {
             "endlinecolor": "#2a3f5f",
             "gridcolor": "white",
             "linecolor": "white",
             "minorgridcolor": "white",
             "startlinecolor": "#2a3f5f"
            },
            "baxis": {
             "endlinecolor": "#2a3f5f",
             "gridcolor": "white",
             "linecolor": "white",
             "minorgridcolor": "white",
             "startlinecolor": "#2a3f5f"
            },
            "type": "carpet"
           }
          ],
          "choropleth": [
           {
            "colorbar": {
             "outlinewidth": 0,
             "ticks": ""
            },
            "type": "choropleth"
           }
          ],
          "contour": [
           {
            "colorbar": {
             "outlinewidth": 0,
             "ticks": ""
            },
            "colorscale": [
             [
              0,
              "#0d0887"
             ],
             [
              0.1111111111111111,
              "#46039f"
             ],
             [
              0.2222222222222222,
              "#7201a8"
             ],
             [
              0.3333333333333333,
              "#9c179e"
             ],
             [
              0.4444444444444444,
              "#bd3786"
             ],
             [
              0.5555555555555556,
              "#d8576b"
             ],
             [
              0.6666666666666666,
              "#ed7953"
             ],
             [
              0.7777777777777778,
              "#fb9f3a"
             ],
             [
              0.8888888888888888,
              "#fdca26"
             ],
             [
              1,
              "#f0f921"
             ]
            ],
            "type": "contour"
           }
          ],
          "contourcarpet": [
           {
            "colorbar": {
             "outlinewidth": 0,
             "ticks": ""
            },
            "type": "contourcarpet"
           }
          ],
          "heatmap": [
           {
            "colorbar": {
             "outlinewidth": 0,
             "ticks": ""
            },
            "colorscale": [
             [
              0,
              "#0d0887"
             ],
             [
              0.1111111111111111,
              "#46039f"
             ],
             [
              0.2222222222222222,
              "#7201a8"
             ],
             [
              0.3333333333333333,
              "#9c179e"
             ],
             [
              0.4444444444444444,
              "#bd3786"
             ],
             [
              0.5555555555555556,
              "#d8576b"
             ],
             [
              0.6666666666666666,
              "#ed7953"
             ],
             [
              0.7777777777777778,
              "#fb9f3a"
             ],
             [
              0.8888888888888888,
              "#fdca26"
             ],
             [
              1,
              "#f0f921"
             ]
            ],
            "type": "heatmap"
           }
          ],
          "heatmapgl": [
           {
            "colorbar": {
             "outlinewidth": 0,
             "ticks": ""
            },
            "colorscale": [
             [
              0,
              "#0d0887"
             ],
             [
              0.1111111111111111,
              "#46039f"
             ],
             [
              0.2222222222222222,
              "#7201a8"
             ],
             [
              0.3333333333333333,
              "#9c179e"
             ],
             [
              0.4444444444444444,
              "#bd3786"
             ],
             [
              0.5555555555555556,
              "#d8576b"
             ],
             [
              0.6666666666666666,
              "#ed7953"
             ],
             [
              0.7777777777777778,
              "#fb9f3a"
             ],
             [
              0.8888888888888888,
              "#fdca26"
             ],
             [
              1,
              "#f0f921"
             ]
            ],
            "type": "heatmapgl"
           }
          ],
          "histogram": [
           {
            "marker": {
             "pattern": {
              "fillmode": "overlay",
              "size": 10,
              "solidity": 0.2
             }
            },
            "type": "histogram"
           }
          ],
          "histogram2d": [
           {
            "colorbar": {
             "outlinewidth": 0,
             "ticks": ""
            },
            "colorscale": [
             [
              0,
              "#0d0887"
             ],
             [
              0.1111111111111111,
              "#46039f"
             ],
             [
              0.2222222222222222,
              "#7201a8"
             ],
             [
              0.3333333333333333,
              "#9c179e"
             ],
             [
              0.4444444444444444,
              "#bd3786"
             ],
             [
              0.5555555555555556,
              "#d8576b"
             ],
             [
              0.6666666666666666,
              "#ed7953"
             ],
             [
              0.7777777777777778,
              "#fb9f3a"
             ],
             [
              0.8888888888888888,
              "#fdca26"
             ],
             [
              1,
              "#f0f921"
             ]
            ],
            "type": "histogram2d"
           }
          ],
          "histogram2dcontour": [
           {
            "colorbar": {
             "outlinewidth": 0,
             "ticks": ""
            },
            "colorscale": [
             [
              0,
              "#0d0887"
             ],
             [
              0.1111111111111111,
              "#46039f"
             ],
             [
              0.2222222222222222,
              "#7201a8"
             ],
             [
              0.3333333333333333,
              "#9c179e"
             ],
             [
              0.4444444444444444,
              "#bd3786"
             ],
             [
              0.5555555555555556,
              "#d8576b"
             ],
             [
              0.6666666666666666,
              "#ed7953"
             ],
             [
              0.7777777777777778,
              "#fb9f3a"
             ],
             [
              0.8888888888888888,
              "#fdca26"
             ],
             [
              1,
              "#f0f921"
             ]
            ],
            "type": "histogram2dcontour"
           }
          ],
          "mesh3d": [
           {
            "colorbar": {
             "outlinewidth": 0,
             "ticks": ""
            },
            "type": "mesh3d"
           }
          ],
          "parcoords": [
           {
            "line": {
             "colorbar": {
              "outlinewidth": 0,
              "ticks": ""
             }
            },
            "type": "parcoords"
           }
          ],
          "pie": [
           {
            "automargin": true,
            "type": "pie"
           }
          ],
          "scatter": [
           {
            "fillpattern": {
             "fillmode": "overlay",
             "size": 10,
             "solidity": 0.2
            },
            "type": "scatter"
           }
          ],
          "scatter3d": [
           {
            "line": {
             "colorbar": {
              "outlinewidth": 0,
              "ticks": ""
             }
            },
            "marker": {
             "colorbar": {
              "outlinewidth": 0,
              "ticks": ""
             }
            },
            "type": "scatter3d"
           }
          ],
          "scattercarpet": [
           {
            "marker": {
             "colorbar": {
              "outlinewidth": 0,
              "ticks": ""
             }
            },
            "type": "scattercarpet"
           }
          ],
          "scattergeo": [
           {
            "marker": {
             "colorbar": {
              "outlinewidth": 0,
              "ticks": ""
             }
            },
            "type": "scattergeo"
           }
          ],
          "scattergl": [
           {
            "marker": {
             "colorbar": {
              "outlinewidth": 0,
              "ticks": ""
             }
            },
            "type": "scattergl"
           }
          ],
          "scattermapbox": [
           {
            "marker": {
             "colorbar": {
              "outlinewidth": 0,
              "ticks": ""
             }
            },
            "type": "scattermapbox"
           }
          ],
          "scatterpolar": [
           {
            "marker": {
             "colorbar": {
              "outlinewidth": 0,
              "ticks": ""
             }
            },
            "type": "scatterpolar"
           }
          ],
          "scatterpolargl": [
           {
            "marker": {
             "colorbar": {
              "outlinewidth": 0,
              "ticks": ""
             }
            },
            "type": "scatterpolargl"
           }
          ],
          "scatterternary": [
           {
            "marker": {
             "colorbar": {
              "outlinewidth": 0,
              "ticks": ""
             }
            },
            "type": "scatterternary"
           }
          ],
          "surface": [
           {
            "colorbar": {
             "outlinewidth": 0,
             "ticks": ""
            },
            "colorscale": [
             [
              0,
              "#0d0887"
             ],
             [
              0.1111111111111111,
              "#46039f"
             ],
             [
              0.2222222222222222,
              "#7201a8"
             ],
             [
              0.3333333333333333,
              "#9c179e"
             ],
             [
              0.4444444444444444,
              "#bd3786"
             ],
             [
              0.5555555555555556,
              "#d8576b"
             ],
             [
              0.6666666666666666,
              "#ed7953"
             ],
             [
              0.7777777777777778,
              "#fb9f3a"
             ],
             [
              0.8888888888888888,
              "#fdca26"
             ],
             [
              1,
              "#f0f921"
             ]
            ],
            "type": "surface"
           }
          ],
          "table": [
           {
            "cells": {
             "fill": {
              "color": "#EBF0F8"
             },
             "line": {
              "color": "white"
             }
            },
            "header": {
             "fill": {
              "color": "#C8D4E3"
             },
             "line": {
              "color": "white"
             }
            },
            "type": "table"
           }
          ]
         },
         "layout": {
          "annotationdefaults": {
           "arrowcolor": "#2a3f5f",
           "arrowhead": 0,
           "arrowwidth": 1
          },
          "autotypenumbers": "strict",
          "coloraxis": {
           "colorbar": {
            "outlinewidth": 0,
            "ticks": ""
           }
          },
          "colorscale": {
           "diverging": [
            [
             0,
             "#8e0152"
            ],
            [
             0.1,
             "#c51b7d"
            ],
            [
             0.2,
             "#de77ae"
            ],
            [
             0.3,
             "#f1b6da"
            ],
            [
             0.4,
             "#fde0ef"
            ],
            [
             0.5,
             "#f7f7f7"
            ],
            [
             0.6,
             "#e6f5d0"
            ],
            [
             0.7,
             "#b8e186"
            ],
            [
             0.8,
             "#7fbc41"
            ],
            [
             0.9,
             "#4d9221"
            ],
            [
             1,
             "#276419"
            ]
           ],
           "sequential": [
            [
             0,
             "#0d0887"
            ],
            [
             0.1111111111111111,
             "#46039f"
            ],
            [
             0.2222222222222222,
             "#7201a8"
            ],
            [
             0.3333333333333333,
             "#9c179e"
            ],
            [
             0.4444444444444444,
             "#bd3786"
            ],
            [
             0.5555555555555556,
             "#d8576b"
            ],
            [
             0.6666666666666666,
             "#ed7953"
            ],
            [
             0.7777777777777778,
             "#fb9f3a"
            ],
            [
             0.8888888888888888,
             "#fdca26"
            ],
            [
             1,
             "#f0f921"
            ]
           ],
           "sequentialminus": [
            [
             0,
             "#0d0887"
            ],
            [
             0.1111111111111111,
             "#46039f"
            ],
            [
             0.2222222222222222,
             "#7201a8"
            ],
            [
             0.3333333333333333,
             "#9c179e"
            ],
            [
             0.4444444444444444,
             "#bd3786"
            ],
            [
             0.5555555555555556,
             "#d8576b"
            ],
            [
             0.6666666666666666,
             "#ed7953"
            ],
            [
             0.7777777777777778,
             "#fb9f3a"
            ],
            [
             0.8888888888888888,
             "#fdca26"
            ],
            [
             1,
             "#f0f921"
            ]
           ]
          },
          "colorway": [
           "#636efa",
           "#EF553B",
           "#00cc96",
           "#ab63fa",
           "#FFA15A",
           "#19d3f3",
           "#FF6692",
           "#B6E880",
           "#FF97FF",
           "#FECB52"
          ],
          "font": {
           "color": "#2a3f5f"
          },
          "geo": {
           "bgcolor": "white",
           "lakecolor": "white",
           "landcolor": "#E5ECF6",
           "showlakes": true,
           "showland": true,
           "subunitcolor": "white"
          },
          "hoverlabel": {
           "align": "left"
          },
          "hovermode": "closest",
          "mapbox": {
           "style": "light"
          },
          "paper_bgcolor": "white",
          "plot_bgcolor": "#E5ECF6",
          "polar": {
           "angularaxis": {
            "gridcolor": "white",
            "linecolor": "white",
            "ticks": ""
           },
           "bgcolor": "#E5ECF6",
           "radialaxis": {
            "gridcolor": "white",
            "linecolor": "white",
            "ticks": ""
           }
          },
          "scene": {
           "xaxis": {
            "backgroundcolor": "#E5ECF6",
            "gridcolor": "white",
            "gridwidth": 2,
            "linecolor": "white",
            "showbackground": true,
            "ticks": "",
            "zerolinecolor": "white"
           },
           "yaxis": {
            "backgroundcolor": "#E5ECF6",
            "gridcolor": "white",
            "gridwidth": 2,
            "linecolor": "white",
            "showbackground": true,
            "ticks": "",
            "zerolinecolor": "white"
           },
           "zaxis": {
            "backgroundcolor": "#E5ECF6",
            "gridcolor": "white",
            "gridwidth": 2,
            "linecolor": "white",
            "showbackground": true,
            "ticks": "",
            "zerolinecolor": "white"
           }
          },
          "shapedefaults": {
           "line": {
            "color": "#2a3f5f"
           }
          },
          "ternary": {
           "aaxis": {
            "gridcolor": "white",
            "linecolor": "white",
            "ticks": ""
           },
           "baxis": {
            "gridcolor": "white",
            "linecolor": "white",
            "ticks": ""
           },
           "bgcolor": "#E5ECF6",
           "caxis": {
            "gridcolor": "white",
            "linecolor": "white",
            "ticks": ""
           }
          },
          "title": {
           "x": 0.05
          },
          "xaxis": {
           "automargin": true,
           "gridcolor": "white",
           "linecolor": "white",
           "ticks": "",
           "title": {
            "standoff": 15
           },
           "zerolinecolor": "white",
           "zerolinewidth": 2
          },
          "yaxis": {
           "automargin": true,
           "gridcolor": "white",
           "linecolor": "white",
           "ticks": "",
           "title": {
            "standoff": 15
           },
           "zerolinecolor": "white",
           "zerolinewidth": 2
          }
         }
        },
        "title": {
         "text": "Test loss vs. Threshold"
        }
       }
      }
     },
     "metadata": {},
     "output_type": "display_data"
    }
   ],
   "source": [
    "# Interactive chart (plotly): Test Loss & Treshold\n",
    "\n",
    "fig = go.Figure()\n",
    "fig.add_trace(go.Scatter(x=test_score_df.index, y=test_score_df['loss'], name='Test loss'))\n",
    "fig.add_trace(go.Scatter(x=test_score_df.index, y=test_score_df['threshold'], name='Threshold'))\n",
    "fig.update_layout(showlegend=True, title='Test loss vs. Threshold')\n",
    "fig.show()"
   ]
  },
  {
   "cell_type": "code",
   "execution_count": 152,
   "metadata": {},
   "outputs": [
    {
     "data": {
      "text/html": [
       "<div>\n",
       "<style scoped>\n",
       "    .dataframe tbody tr th:only-of-type {\n",
       "        vertical-align: middle;\n",
       "    }\n",
       "\n",
       "    .dataframe tbody tr th {\n",
       "        vertical-align: top;\n",
       "    }\n",
       "\n",
       "    .dataframe thead th {\n",
       "        text-align: right;\n",
       "    }\n",
       "</style>\n",
       "<table border=\"1\" class=\"dataframe\">\n",
       "  <thead>\n",
       "    <tr style=\"text-align: right;\">\n",
       "      <th></th>\n",
       "      <th>tripduration</th>\n",
       "      <th>ss_id</th>\n",
       "      <th>loss</th>\n",
       "      <th>threshold</th>\n",
       "      <th>anomaly</th>\n",
       "    </tr>\n",
       "    <tr>\n",
       "      <th>starttime</th>\n",
       "      <th></th>\n",
       "      <th></th>\n",
       "      <th></th>\n",
       "      <th></th>\n",
       "      <th></th>\n",
       "    </tr>\n",
       "  </thead>\n",
       "  <tbody>\n",
       "    <tr>\n",
       "      <th>2013-06-30 04:00:00</th>\n",
       "      <td>-0.894407</td>\n",
       "      <td>-1.049372</td>\n",
       "      <td>1.802594</td>\n",
       "      <td>1.790694</td>\n",
       "      <td>True</td>\n",
       "    </tr>\n",
       "    <tr>\n",
       "      <th>2013-06-30 05:00:00</th>\n",
       "      <td>-0.942635</td>\n",
       "      <td>-1.229643</td>\n",
       "      <td>1.812021</td>\n",
       "      <td>1.790694</td>\n",
       "      <td>True</td>\n",
       "    </tr>\n",
       "  </tbody>\n",
       "</table>\n",
       "</div>"
      ],
      "text/plain": [
       "                     tripduration     ss_id      loss  threshold  anomaly\n",
       "starttime                                                                \n",
       "2013-06-30 04:00:00     -0.894407 -1.049372  1.802594   1.790694     True\n",
       "2013-06-30 05:00:00     -0.942635 -1.229643  1.812021   1.790694     True"
      ]
     },
     "execution_count": 152,
     "metadata": {},
     "output_type": "execute_result"
    }
   ],
   "source": [
    "anomalies = test_score_df.loc[test_score_df['anomaly'] == True]\n",
    "anomalies.head()"
   ]
  },
  {
   "cell_type": "code",
   "execution_count": 153,
   "metadata": {},
   "outputs": [
    {
     "data": {
      "text/plain": [
       "(2, 5)"
      ]
     },
     "execution_count": 153,
     "metadata": {},
     "output_type": "execute_result"
    }
   ],
   "source": [
    "anomalies.shape"
   ]
  },
  {
   "cell_type": "code",
   "execution_count": 154,
   "metadata": {},
   "outputs": [],
   "source": [
    "starttime=test_score_df.index"
   ]
  },
  {
   "cell_type": "code",
   "execution_count": 155,
   "metadata": {},
   "outputs": [
    {
     "data": {
      "text/plain": [
       "DatetimeIndex(['2013-06-26 00:00:00', '2013-06-26 01:00:00',\n",
       "               '2013-06-26 02:00:00', '2013-06-26 03:00:00',\n",
       "               '2013-06-26 04:00:00', '2013-06-26 05:00:00',\n",
       "               '2013-06-26 06:00:00', '2013-06-26 07:00:00',\n",
       "               '2013-06-26 08:00:00', '2013-06-26 09:00:00',\n",
       "               ...\n",
       "               '2013-06-30 15:00:00', '2013-06-30 16:00:00',\n",
       "               '2013-06-30 17:00:00', '2013-06-30 18:00:00',\n",
       "               '2013-06-30 19:00:00', '2013-06-30 20:00:00',\n",
       "               '2013-06-30 21:00:00', '2013-06-30 22:00:00',\n",
       "               '2013-06-30 23:00:00', '2013-07-01 00:00:00'],\n",
       "              dtype='datetime64[ns]', name='starttime', length=121, freq='H')"
      ]
     },
     "execution_count": 155,
     "metadata": {},
     "output_type": "execute_result"
    }
   ],
   "source": [
    "starttime"
   ]
  },
  {
   "cell_type": "code",
   "execution_count": 156,
   "metadata": {},
   "outputs": [],
   "source": [
    "# Interactive chart (plotly): timeseries & Anomalies\n",
    "\n",
    "test_trans=pd.DataFrame(scaler.inverse_transform(test_score_df[['tripduration','ss_id']]),columns=['tripduration','ss_id'])\n",
    "anamolies_tr=pd.DataFrame(scaler.inverse_transform(test_score_df[['tripduration','ss_id']]),columns=['tripduration','ss_id'])\n"
   ]
  },
  {
   "cell_type": "code",
   "execution_count": 157,
   "metadata": {},
   "outputs": [
    {
     "data": {
      "text/html": [
       "<div>\n",
       "<style scoped>\n",
       "    .dataframe tbody tr th:only-of-type {\n",
       "        vertical-align: middle;\n",
       "    }\n",
       "\n",
       "    .dataframe tbody tr th {\n",
       "        vertical-align: top;\n",
       "    }\n",
       "\n",
       "    .dataframe thead th {\n",
       "        text-align: right;\n",
       "    }\n",
       "</style>\n",
       "<table border=\"1\" class=\"dataframe\">\n",
       "  <thead>\n",
       "    <tr style=\"text-align: right;\">\n",
       "      <th></th>\n",
       "      <th>tripduration</th>\n",
       "      <th>ss_id</th>\n",
       "    </tr>\n",
       "  </thead>\n",
       "  <tbody>\n",
       "    <tr>\n",
       "      <th>0</th>\n",
       "      <td>271.0</td>\n",
       "      <td>142.0</td>\n",
       "    </tr>\n",
       "    <tr>\n",
       "      <th>1</th>\n",
       "      <td>135.0</td>\n",
       "      <td>83.0</td>\n",
       "    </tr>\n",
       "    <tr>\n",
       "      <th>2</th>\n",
       "      <td>88.0</td>\n",
       "      <td>65.0</td>\n",
       "    </tr>\n",
       "    <tr>\n",
       "      <th>3</th>\n",
       "      <td>57.0</td>\n",
       "      <td>39.0</td>\n",
       "    </tr>\n",
       "    <tr>\n",
       "      <th>4</th>\n",
       "      <td>33.0</td>\n",
       "      <td>30.0</td>\n",
       "    </tr>\n",
       "    <tr>\n",
       "      <th>...</th>\n",
       "      <td>...</td>\n",
       "      <td>...</td>\n",
       "    </tr>\n",
       "    <tr>\n",
       "      <th>116</th>\n",
       "      <td>1460.0</td>\n",
       "      <td>299.0</td>\n",
       "    </tr>\n",
       "    <tr>\n",
       "      <th>117</th>\n",
       "      <td>990.0</td>\n",
       "      <td>265.0</td>\n",
       "    </tr>\n",
       "    <tr>\n",
       "      <th>118</th>\n",
       "      <td>784.0</td>\n",
       "      <td>234.0</td>\n",
       "    </tr>\n",
       "    <tr>\n",
       "      <th>119</th>\n",
       "      <td>428.0</td>\n",
       "      <td>188.0</td>\n",
       "    </tr>\n",
       "    <tr>\n",
       "      <th>120</th>\n",
       "      <td>1.0</td>\n",
       "      <td>1.0</td>\n",
       "    </tr>\n",
       "  </tbody>\n",
       "</table>\n",
       "<p>121 rows × 2 columns</p>\n",
       "</div>"
      ],
      "text/plain": [
       "     tripduration  ss_id\n",
       "0           271.0  142.0\n",
       "1           135.0   83.0\n",
       "2            88.0   65.0\n",
       "3            57.0   39.0\n",
       "4            33.0   30.0\n",
       "..            ...    ...\n",
       "116        1460.0  299.0\n",
       "117         990.0  265.0\n",
       "118         784.0  234.0\n",
       "119         428.0  188.0\n",
       "120           1.0    1.0\n",
       "\n",
       "[121 rows x 2 columns]"
      ]
     },
     "execution_count": 157,
     "metadata": {},
     "output_type": "execute_result"
    }
   ],
   "source": [
    "test_trans"
   ]
  },
  {
   "cell_type": "code",
   "execution_count": 158,
   "metadata": {},
   "outputs": [
    {
     "data": {
      "application/vnd.plotly.v1+json": {
       "config": {
        "plotlyServerURL": "https://plot.ly"
       },
       "data": [
        {
         "name": "Tripduration",
         "type": "scatter",
         "x": [
          "2013-06-26T00:00:00",
          "2013-06-26T01:00:00",
          "2013-06-26T02:00:00",
          "2013-06-26T03:00:00",
          "2013-06-26T04:00:00",
          "2013-06-26T05:00:00",
          "2013-06-26T06:00:00",
          "2013-06-26T07:00:00",
          "2013-06-26T08:00:00",
          "2013-06-26T09:00:00",
          "2013-06-26T10:00:00",
          "2013-06-26T11:00:00",
          "2013-06-26T12:00:00",
          "2013-06-26T13:00:00",
          "2013-06-26T14:00:00",
          "2013-06-26T15:00:00",
          "2013-06-26T16:00:00",
          "2013-06-26T17:00:00",
          "2013-06-26T18:00:00",
          "2013-06-26T19:00:00",
          "2013-06-26T20:00:00",
          "2013-06-26T21:00:00",
          "2013-06-26T22:00:00",
          "2013-06-26T23:00:00",
          "2013-06-27T00:00:00",
          "2013-06-27T01:00:00",
          "2013-06-27T02:00:00",
          "2013-06-27T03:00:00",
          "2013-06-27T04:00:00",
          "2013-06-27T05:00:00",
          "2013-06-27T06:00:00",
          "2013-06-27T07:00:00",
          "2013-06-27T08:00:00",
          "2013-06-27T09:00:00",
          "2013-06-27T10:00:00",
          "2013-06-27T11:00:00",
          "2013-06-27T12:00:00",
          "2013-06-27T13:00:00",
          "2013-06-27T14:00:00",
          "2013-06-27T15:00:00",
          "2013-06-27T16:00:00",
          "2013-06-27T17:00:00",
          "2013-06-27T18:00:00",
          "2013-06-27T19:00:00",
          "2013-06-27T20:00:00",
          "2013-06-27T21:00:00",
          "2013-06-27T22:00:00",
          "2013-06-27T23:00:00",
          "2013-06-28T00:00:00",
          "2013-06-28T01:00:00",
          "2013-06-28T02:00:00",
          "2013-06-28T03:00:00",
          "2013-06-28T04:00:00",
          "2013-06-28T05:00:00",
          "2013-06-28T06:00:00",
          "2013-06-28T07:00:00",
          "2013-06-28T08:00:00",
          "2013-06-28T09:00:00",
          "2013-06-28T10:00:00",
          "2013-06-28T11:00:00",
          "2013-06-28T12:00:00",
          "2013-06-28T13:00:00",
          "2013-06-28T14:00:00",
          "2013-06-28T15:00:00",
          "2013-06-28T16:00:00",
          "2013-06-28T17:00:00",
          "2013-06-28T18:00:00",
          "2013-06-28T19:00:00",
          "2013-06-28T20:00:00",
          "2013-06-28T21:00:00",
          "2013-06-28T22:00:00",
          "2013-06-28T23:00:00",
          "2013-06-29T00:00:00",
          "2013-06-29T01:00:00",
          "2013-06-29T02:00:00",
          "2013-06-29T03:00:00",
          "2013-06-29T04:00:00",
          "2013-06-29T05:00:00",
          "2013-06-29T06:00:00",
          "2013-06-29T07:00:00",
          "2013-06-29T08:00:00",
          "2013-06-29T09:00:00",
          "2013-06-29T10:00:00",
          "2013-06-29T11:00:00",
          "2013-06-29T12:00:00",
          "2013-06-29T13:00:00",
          "2013-06-29T14:00:00",
          "2013-06-29T15:00:00",
          "2013-06-29T16:00:00",
          "2013-06-29T17:00:00",
          "2013-06-29T18:00:00",
          "2013-06-29T19:00:00",
          "2013-06-29T20:00:00",
          "2013-06-29T21:00:00",
          "2013-06-29T22:00:00",
          "2013-06-29T23:00:00",
          "2013-06-30T00:00:00",
          "2013-06-30T01:00:00",
          "2013-06-30T02:00:00",
          "2013-06-30T03:00:00",
          "2013-06-30T04:00:00",
          "2013-06-30T05:00:00",
          "2013-06-30T06:00:00",
          "2013-06-30T07:00:00",
          "2013-06-30T08:00:00",
          "2013-06-30T09:00:00",
          "2013-06-30T10:00:00",
          "2013-06-30T11:00:00",
          "2013-06-30T12:00:00",
          "2013-06-30T13:00:00",
          "2013-06-30T14:00:00",
          "2013-06-30T15:00:00",
          "2013-06-30T16:00:00",
          "2013-06-30T17:00:00",
          "2013-06-30T18:00:00",
          "2013-06-30T19:00:00",
          "2013-06-30T20:00:00",
          "2013-06-30T21:00:00",
          "2013-06-30T22:00:00",
          "2013-06-30T23:00:00",
          "2013-07-01T00:00:00"
         ],
         "y": [
          142,
          83,
          65.00000000000001,
          39,
          30,
          109,
          221,
          286,
          317,
          308,
          280,
          285,
          293,
          284,
          288,
          291,
          286,
          305,
          308,
          307,
          296,
          275,
          269,
          237,
          155,
          99,
          64,
          34,
          33,
          100,
          217,
          282,
          304,
          300,
          282,
          266,
          278,
          266,
          276,
          282,
          292,
          291,
          295,
          305,
          287,
          189,
          180,
          186,
          137,
          98,
          65.00000000000001,
          35,
          44,
          84,
          210,
          276,
          310,
          305,
          276,
          273,
          290,
          299,
          293,
          283,
          297,
          304,
          312,
          294,
          284,
          255,
          255,
          222,
          206,
          155,
          128,
          89,
          66.00000000000001,
          50,
          93,
          168,
          220,
          275,
          286,
          303,
          312,
          315,
          314,
          316,
          303,
          312,
          308,
          310,
          294,
          272,
          251,
          248,
          228,
          175,
          135,
          104,
          75,
          57,
          88,
          143,
          207,
          255,
          285,
          300,
          302,
          307,
          301,
          298,
          280,
          302,
          307,
          295,
          299,
          265,
          234,
          188,
          1
         ]
        },
        {
         "mode": "markers",
         "name": "Anomaly",
         "type": "scatter",
         "x": [
          "2013-06-30T04:00:00",
          "2013-06-30T05:00:00"
         ],
         "y": [
          142,
          83,
          65.00000000000001,
          39,
          30,
          109,
          221,
          286,
          317,
          308,
          280,
          285,
          293,
          284,
          288,
          291,
          286,
          305,
          308,
          307,
          296,
          275,
          269,
          237,
          155,
          99,
          64,
          34,
          33,
          100,
          217,
          282,
          304,
          300,
          282,
          266,
          278,
          266,
          276,
          282,
          292,
          291,
          295,
          305,
          287,
          189,
          180,
          186,
          137,
          98,
          65.00000000000001,
          35,
          44,
          84,
          210,
          276,
          310,
          305,
          276,
          273,
          290,
          299,
          293,
          283,
          297,
          304,
          312,
          294,
          284,
          255,
          255,
          222,
          206,
          155,
          128,
          89,
          66.00000000000001,
          50,
          93,
          168,
          220,
          275,
          286,
          303,
          312,
          315,
          314,
          316,
          303,
          312,
          308,
          310,
          294,
          272,
          251,
          248,
          228,
          175,
          135,
          104,
          75,
          57,
          88,
          143,
          207,
          255,
          285,
          300,
          302,
          307,
          301,
          298,
          280,
          302,
          307,
          295,
          299,
          265,
          234,
          188,
          1
         ]
        }
       ],
       "layout": {
        "showlegend": true,
        "template": {
         "data": {
          "bar": [
           {
            "error_x": {
             "color": "#2a3f5f"
            },
            "error_y": {
             "color": "#2a3f5f"
            },
            "marker": {
             "line": {
              "color": "#E5ECF6",
              "width": 0.5
             },
             "pattern": {
              "fillmode": "overlay",
              "size": 10,
              "solidity": 0.2
             }
            },
            "type": "bar"
           }
          ],
          "barpolar": [
           {
            "marker": {
             "line": {
              "color": "#E5ECF6",
              "width": 0.5
             },
             "pattern": {
              "fillmode": "overlay",
              "size": 10,
              "solidity": 0.2
             }
            },
            "type": "barpolar"
           }
          ],
          "carpet": [
           {
            "aaxis": {
             "endlinecolor": "#2a3f5f",
             "gridcolor": "white",
             "linecolor": "white",
             "minorgridcolor": "white",
             "startlinecolor": "#2a3f5f"
            },
            "baxis": {
             "endlinecolor": "#2a3f5f",
             "gridcolor": "white",
             "linecolor": "white",
             "minorgridcolor": "white",
             "startlinecolor": "#2a3f5f"
            },
            "type": "carpet"
           }
          ],
          "choropleth": [
           {
            "colorbar": {
             "outlinewidth": 0,
             "ticks": ""
            },
            "type": "choropleth"
           }
          ],
          "contour": [
           {
            "colorbar": {
             "outlinewidth": 0,
             "ticks": ""
            },
            "colorscale": [
             [
              0,
              "#0d0887"
             ],
             [
              0.1111111111111111,
              "#46039f"
             ],
             [
              0.2222222222222222,
              "#7201a8"
             ],
             [
              0.3333333333333333,
              "#9c179e"
             ],
             [
              0.4444444444444444,
              "#bd3786"
             ],
             [
              0.5555555555555556,
              "#d8576b"
             ],
             [
              0.6666666666666666,
              "#ed7953"
             ],
             [
              0.7777777777777778,
              "#fb9f3a"
             ],
             [
              0.8888888888888888,
              "#fdca26"
             ],
             [
              1,
              "#f0f921"
             ]
            ],
            "type": "contour"
           }
          ],
          "contourcarpet": [
           {
            "colorbar": {
             "outlinewidth": 0,
             "ticks": ""
            },
            "type": "contourcarpet"
           }
          ],
          "heatmap": [
           {
            "colorbar": {
             "outlinewidth": 0,
             "ticks": ""
            },
            "colorscale": [
             [
              0,
              "#0d0887"
             ],
             [
              0.1111111111111111,
              "#46039f"
             ],
             [
              0.2222222222222222,
              "#7201a8"
             ],
             [
              0.3333333333333333,
              "#9c179e"
             ],
             [
              0.4444444444444444,
              "#bd3786"
             ],
             [
              0.5555555555555556,
              "#d8576b"
             ],
             [
              0.6666666666666666,
              "#ed7953"
             ],
             [
              0.7777777777777778,
              "#fb9f3a"
             ],
             [
              0.8888888888888888,
              "#fdca26"
             ],
             [
              1,
              "#f0f921"
             ]
            ],
            "type": "heatmap"
           }
          ],
          "heatmapgl": [
           {
            "colorbar": {
             "outlinewidth": 0,
             "ticks": ""
            },
            "colorscale": [
             [
              0,
              "#0d0887"
             ],
             [
              0.1111111111111111,
              "#46039f"
             ],
             [
              0.2222222222222222,
              "#7201a8"
             ],
             [
              0.3333333333333333,
              "#9c179e"
             ],
             [
              0.4444444444444444,
              "#bd3786"
             ],
             [
              0.5555555555555556,
              "#d8576b"
             ],
             [
              0.6666666666666666,
              "#ed7953"
             ],
             [
              0.7777777777777778,
              "#fb9f3a"
             ],
             [
              0.8888888888888888,
              "#fdca26"
             ],
             [
              1,
              "#f0f921"
             ]
            ],
            "type": "heatmapgl"
           }
          ],
          "histogram": [
           {
            "marker": {
             "pattern": {
              "fillmode": "overlay",
              "size": 10,
              "solidity": 0.2
             }
            },
            "type": "histogram"
           }
          ],
          "histogram2d": [
           {
            "colorbar": {
             "outlinewidth": 0,
             "ticks": ""
            },
            "colorscale": [
             [
              0,
              "#0d0887"
             ],
             [
              0.1111111111111111,
              "#46039f"
             ],
             [
              0.2222222222222222,
              "#7201a8"
             ],
             [
              0.3333333333333333,
              "#9c179e"
             ],
             [
              0.4444444444444444,
              "#bd3786"
             ],
             [
              0.5555555555555556,
              "#d8576b"
             ],
             [
              0.6666666666666666,
              "#ed7953"
             ],
             [
              0.7777777777777778,
              "#fb9f3a"
             ],
             [
              0.8888888888888888,
              "#fdca26"
             ],
             [
              1,
              "#f0f921"
             ]
            ],
            "type": "histogram2d"
           }
          ],
          "histogram2dcontour": [
           {
            "colorbar": {
             "outlinewidth": 0,
             "ticks": ""
            },
            "colorscale": [
             [
              0,
              "#0d0887"
             ],
             [
              0.1111111111111111,
              "#46039f"
             ],
             [
              0.2222222222222222,
              "#7201a8"
             ],
             [
              0.3333333333333333,
              "#9c179e"
             ],
             [
              0.4444444444444444,
              "#bd3786"
             ],
             [
              0.5555555555555556,
              "#d8576b"
             ],
             [
              0.6666666666666666,
              "#ed7953"
             ],
             [
              0.7777777777777778,
              "#fb9f3a"
             ],
             [
              0.8888888888888888,
              "#fdca26"
             ],
             [
              1,
              "#f0f921"
             ]
            ],
            "type": "histogram2dcontour"
           }
          ],
          "mesh3d": [
           {
            "colorbar": {
             "outlinewidth": 0,
             "ticks": ""
            },
            "type": "mesh3d"
           }
          ],
          "parcoords": [
           {
            "line": {
             "colorbar": {
              "outlinewidth": 0,
              "ticks": ""
             }
            },
            "type": "parcoords"
           }
          ],
          "pie": [
           {
            "automargin": true,
            "type": "pie"
           }
          ],
          "scatter": [
           {
            "fillpattern": {
             "fillmode": "overlay",
             "size": 10,
             "solidity": 0.2
            },
            "type": "scatter"
           }
          ],
          "scatter3d": [
           {
            "line": {
             "colorbar": {
              "outlinewidth": 0,
              "ticks": ""
             }
            },
            "marker": {
             "colorbar": {
              "outlinewidth": 0,
              "ticks": ""
             }
            },
            "type": "scatter3d"
           }
          ],
          "scattercarpet": [
           {
            "marker": {
             "colorbar": {
              "outlinewidth": 0,
              "ticks": ""
             }
            },
            "type": "scattercarpet"
           }
          ],
          "scattergeo": [
           {
            "marker": {
             "colorbar": {
              "outlinewidth": 0,
              "ticks": ""
             }
            },
            "type": "scattergeo"
           }
          ],
          "scattergl": [
           {
            "marker": {
             "colorbar": {
              "outlinewidth": 0,
              "ticks": ""
             }
            },
            "type": "scattergl"
           }
          ],
          "scattermapbox": [
           {
            "marker": {
             "colorbar": {
              "outlinewidth": 0,
              "ticks": ""
             }
            },
            "type": "scattermapbox"
           }
          ],
          "scatterpolar": [
           {
            "marker": {
             "colorbar": {
              "outlinewidth": 0,
              "ticks": ""
             }
            },
            "type": "scatterpolar"
           }
          ],
          "scatterpolargl": [
           {
            "marker": {
             "colorbar": {
              "outlinewidth": 0,
              "ticks": ""
             }
            },
            "type": "scatterpolargl"
           }
          ],
          "scatterternary": [
           {
            "marker": {
             "colorbar": {
              "outlinewidth": 0,
              "ticks": ""
             }
            },
            "type": "scatterternary"
           }
          ],
          "surface": [
           {
            "colorbar": {
             "outlinewidth": 0,
             "ticks": ""
            },
            "colorscale": [
             [
              0,
              "#0d0887"
             ],
             [
              0.1111111111111111,
              "#46039f"
             ],
             [
              0.2222222222222222,
              "#7201a8"
             ],
             [
              0.3333333333333333,
              "#9c179e"
             ],
             [
              0.4444444444444444,
              "#bd3786"
             ],
             [
              0.5555555555555556,
              "#d8576b"
             ],
             [
              0.6666666666666666,
              "#ed7953"
             ],
             [
              0.7777777777777778,
              "#fb9f3a"
             ],
             [
              0.8888888888888888,
              "#fdca26"
             ],
             [
              1,
              "#f0f921"
             ]
            ],
            "type": "surface"
           }
          ],
          "table": [
           {
            "cells": {
             "fill": {
              "color": "#EBF0F8"
             },
             "line": {
              "color": "white"
             }
            },
            "header": {
             "fill": {
              "color": "#C8D4E3"
             },
             "line": {
              "color": "white"
             }
            },
            "type": "table"
           }
          ]
         },
         "layout": {
          "annotationdefaults": {
           "arrowcolor": "#2a3f5f",
           "arrowhead": 0,
           "arrowwidth": 1
          },
          "autotypenumbers": "strict",
          "coloraxis": {
           "colorbar": {
            "outlinewidth": 0,
            "ticks": ""
           }
          },
          "colorscale": {
           "diverging": [
            [
             0,
             "#8e0152"
            ],
            [
             0.1,
             "#c51b7d"
            ],
            [
             0.2,
             "#de77ae"
            ],
            [
             0.3,
             "#f1b6da"
            ],
            [
             0.4,
             "#fde0ef"
            ],
            [
             0.5,
             "#f7f7f7"
            ],
            [
             0.6,
             "#e6f5d0"
            ],
            [
             0.7,
             "#b8e186"
            ],
            [
             0.8,
             "#7fbc41"
            ],
            [
             0.9,
             "#4d9221"
            ],
            [
             1,
             "#276419"
            ]
           ],
           "sequential": [
            [
             0,
             "#0d0887"
            ],
            [
             0.1111111111111111,
             "#46039f"
            ],
            [
             0.2222222222222222,
             "#7201a8"
            ],
            [
             0.3333333333333333,
             "#9c179e"
            ],
            [
             0.4444444444444444,
             "#bd3786"
            ],
            [
             0.5555555555555556,
             "#d8576b"
            ],
            [
             0.6666666666666666,
             "#ed7953"
            ],
            [
             0.7777777777777778,
             "#fb9f3a"
            ],
            [
             0.8888888888888888,
             "#fdca26"
            ],
            [
             1,
             "#f0f921"
            ]
           ],
           "sequentialminus": [
            [
             0,
             "#0d0887"
            ],
            [
             0.1111111111111111,
             "#46039f"
            ],
            [
             0.2222222222222222,
             "#7201a8"
            ],
            [
             0.3333333333333333,
             "#9c179e"
            ],
            [
             0.4444444444444444,
             "#bd3786"
            ],
            [
             0.5555555555555556,
             "#d8576b"
            ],
            [
             0.6666666666666666,
             "#ed7953"
            ],
            [
             0.7777777777777778,
             "#fb9f3a"
            ],
            [
             0.8888888888888888,
             "#fdca26"
            ],
            [
             1,
             "#f0f921"
            ]
           ]
          },
          "colorway": [
           "#636efa",
           "#EF553B",
           "#00cc96",
           "#ab63fa",
           "#FFA15A",
           "#19d3f3",
           "#FF6692",
           "#B6E880",
           "#FF97FF",
           "#FECB52"
          ],
          "font": {
           "color": "#2a3f5f"
          },
          "geo": {
           "bgcolor": "white",
           "lakecolor": "white",
           "landcolor": "#E5ECF6",
           "showlakes": true,
           "showland": true,
           "subunitcolor": "white"
          },
          "hoverlabel": {
           "align": "left"
          },
          "hovermode": "closest",
          "mapbox": {
           "style": "light"
          },
          "paper_bgcolor": "white",
          "plot_bgcolor": "#E5ECF6",
          "polar": {
           "angularaxis": {
            "gridcolor": "white",
            "linecolor": "white",
            "ticks": ""
           },
           "bgcolor": "#E5ECF6",
           "radialaxis": {
            "gridcolor": "white",
            "linecolor": "white",
            "ticks": ""
           }
          },
          "scene": {
           "xaxis": {
            "backgroundcolor": "#E5ECF6",
            "gridcolor": "white",
            "gridwidth": 2,
            "linecolor": "white",
            "showbackground": true,
            "ticks": "",
            "zerolinecolor": "white"
           },
           "yaxis": {
            "backgroundcolor": "#E5ECF6",
            "gridcolor": "white",
            "gridwidth": 2,
            "linecolor": "white",
            "showbackground": true,
            "ticks": "",
            "zerolinecolor": "white"
           },
           "zaxis": {
            "backgroundcolor": "#E5ECF6",
            "gridcolor": "white",
            "gridwidth": 2,
            "linecolor": "white",
            "showbackground": true,
            "ticks": "",
            "zerolinecolor": "white"
           }
          },
          "shapedefaults": {
           "line": {
            "color": "#2a3f5f"
           }
          },
          "ternary": {
           "aaxis": {
            "gridcolor": "white",
            "linecolor": "white",
            "ticks": ""
           },
           "baxis": {
            "gridcolor": "white",
            "linecolor": "white",
            "ticks": ""
           },
           "bgcolor": "#E5ECF6",
           "caxis": {
            "gridcolor": "white",
            "linecolor": "white",
            "ticks": ""
           }
          },
          "title": {
           "x": 0.05
          },
          "xaxis": {
           "automargin": true,
           "gridcolor": "white",
           "linecolor": "white",
           "ticks": "",
           "title": {
            "standoff": 15
           },
           "zerolinecolor": "white",
           "zerolinewidth": 2
          },
          "yaxis": {
           "automargin": true,
           "gridcolor": "white",
           "linecolor": "white",
           "ticks": "",
           "title": {
            "standoff": 15
           },
           "zerolinecolor": "white",
           "zerolinewidth": 2
          }
         }
        },
        "title": {
         "text": "Detected anomalies"
        }
       }
      }
     },
     "metadata": {},
     "output_type": "display_data"
    }
   ],
   "source": [
    "fig = go.Figure()\n",
    "fig.add_trace(go.Scatter(x=test_score_df.index, y=test_trans['ss_id'], name='Tripduration'))\n",
    "fig.add_trace(go.Scatter(x=anomalies.index, y=anamolies_tr['ss_id'], mode='markers', name='Anomaly'))\n",
    "fig.update_layout(showlegend=True, title='Detected anomalies')\n",
    "fig.show()"
   ]
  },
  {
   "attachments": {},
   "cell_type": "markdown",
   "metadata": {},
   "source": [
    "Test"
   ]
  },
  {
   "cell_type": "code",
   "execution_count": 159,
   "metadata": {},
   "outputs": [
    {
     "data": {
      "text/html": [
       "<div>\n",
       "<style scoped>\n",
       "    .dataframe tbody tr th:only-of-type {\n",
       "        vertical-align: middle;\n",
       "    }\n",
       "\n",
       "    .dataframe tbody tr th {\n",
       "        vertical-align: top;\n",
       "    }\n",
       "\n",
       "    .dataframe thead th {\n",
       "        text-align: right;\n",
       "    }\n",
       "</style>\n",
       "<table border=\"1\" class=\"dataframe\">\n",
       "  <thead>\n",
       "    <tr style=\"text-align: right;\">\n",
       "      <th></th>\n",
       "      <th>ID</th>\n",
       "      <th>tripduration</th>\n",
       "      <th>starttime</th>\n",
       "      <th>stoptime</th>\n",
       "      <th>ss_id</th>\n",
       "      <th>ss_name</th>\n",
       "      <th>ss_latitude</th>\n",
       "      <th>ss_longitude</th>\n",
       "      <th>es_id</th>\n",
       "      <th>es_name</th>\n",
       "      <th>es_latitude</th>\n",
       "      <th>es_longitude</th>\n",
       "      <th>bikeid</th>\n",
       "      <th>usertype</th>\n",
       "      <th>birth year</th>\n",
       "      <th>gender</th>\n",
       "    </tr>\n",
       "  </thead>\n",
       "  <tbody>\n",
       "    <tr>\n",
       "      <th>0</th>\n",
       "      <td>0</td>\n",
       "      <td>634</td>\n",
       "      <td>2013-07-01 00:00:00</td>\n",
       "      <td>2013-07-01 00:10:00</td>\n",
       "      <td>164</td>\n",
       "      <td>E 47 St &amp; 2 Ave</td>\n",
       "      <td>40.753231</td>\n",
       "      <td>-73.970325</td>\n",
       "      <td>504</td>\n",
       "      <td>1 Ave &amp; E 15 St</td>\n",
       "      <td>40.732219</td>\n",
       "      <td>-73.981656</td>\n",
       "      <td>16950</td>\n",
       "      <td>Customer</td>\n",
       "      <td>\\N</td>\n",
       "      <td>0</td>\n",
       "    </tr>\n",
       "    <tr>\n",
       "      <th>1</th>\n",
       "      <td>1</td>\n",
       "      <td>1547</td>\n",
       "      <td>2013-07-01 00:00:00</td>\n",
       "      <td>2013-07-01 00:25:00</td>\n",
       "      <td>388</td>\n",
       "      <td>W 26 St &amp; 10 Ave</td>\n",
       "      <td>40.749718</td>\n",
       "      <td>-74.002950</td>\n",
       "      <td>459</td>\n",
       "      <td>W 20 St &amp; 11 Ave</td>\n",
       "      <td>40.746745</td>\n",
       "      <td>-74.007756</td>\n",
       "      <td>19816</td>\n",
       "      <td>Customer</td>\n",
       "      <td>\\N</td>\n",
       "      <td>0</td>\n",
       "    </tr>\n",
       "    <tr>\n",
       "      <th>2</th>\n",
       "      <td>2</td>\n",
       "      <td>178</td>\n",
       "      <td>2013-07-01 00:01:00</td>\n",
       "      <td>2013-07-01 00:04:00</td>\n",
       "      <td>293</td>\n",
       "      <td>Lafayette St &amp; E 8 St</td>\n",
       "      <td>40.730287</td>\n",
       "      <td>-73.990765</td>\n",
       "      <td>237</td>\n",
       "      <td>E 11 St &amp; 2 Ave</td>\n",
       "      <td>40.730473</td>\n",
       "      <td>-73.986724</td>\n",
       "      <td>14548</td>\n",
       "      <td>Subscriber</td>\n",
       "      <td>1980</td>\n",
       "      <td>2</td>\n",
       "    </tr>\n",
       "    <tr>\n",
       "      <th>3</th>\n",
       "      <td>3</td>\n",
       "      <td>1580</td>\n",
       "      <td>2013-07-01 00:01:00</td>\n",
       "      <td>2013-07-01 00:27:00</td>\n",
       "      <td>531</td>\n",
       "      <td>Forsyth St &amp; Broome St</td>\n",
       "      <td>40.718939</td>\n",
       "      <td>-73.992663</td>\n",
       "      <td>499</td>\n",
       "      <td>Broadway &amp; W 60 St</td>\n",
       "      <td>40.769155</td>\n",
       "      <td>-73.981918</td>\n",
       "      <td>16063</td>\n",
       "      <td>Customer</td>\n",
       "      <td>\\N</td>\n",
       "      <td>0</td>\n",
       "    </tr>\n",
       "    <tr>\n",
       "      <th>4</th>\n",
       "      <td>4</td>\n",
       "      <td>757</td>\n",
       "      <td>2013-07-01 00:01:00</td>\n",
       "      <td>2013-07-01 00:13:00</td>\n",
       "      <td>382</td>\n",
       "      <td>University Pl &amp; E 14 St</td>\n",
       "      <td>40.734927</td>\n",
       "      <td>-73.992005</td>\n",
       "      <td>410</td>\n",
       "      <td>Suffolk St &amp; Stanton St</td>\n",
       "      <td>40.720664</td>\n",
       "      <td>-73.985180</td>\n",
       "      <td>19213</td>\n",
       "      <td>Subscriber</td>\n",
       "      <td>1986</td>\n",
       "      <td>1</td>\n",
       "    </tr>\n",
       "  </tbody>\n",
       "</table>\n",
       "</div>"
      ],
      "text/plain": [
       "   ID  tripduration           starttime            stoptime  ss_id  \\\n",
       "0   0           634 2013-07-01 00:00:00 2013-07-01 00:10:00    164   \n",
       "1   1          1547 2013-07-01 00:00:00 2013-07-01 00:25:00    388   \n",
       "2   2           178 2013-07-01 00:01:00 2013-07-01 00:04:00    293   \n",
       "3   3          1580 2013-07-01 00:01:00 2013-07-01 00:27:00    531   \n",
       "4   4           757 2013-07-01 00:01:00 2013-07-01 00:13:00    382   \n",
       "\n",
       "                   ss_name  ss_latitude  ss_longitude  es_id  \\\n",
       "0          E 47 St & 2 Ave    40.753231    -73.970325    504   \n",
       "1         W 26 St & 10 Ave    40.749718    -74.002950    459   \n",
       "2    Lafayette St & E 8 St    40.730287    -73.990765    237   \n",
       "3   Forsyth St & Broome St    40.718939    -73.992663    499   \n",
       "4  University Pl & E 14 St    40.734927    -73.992005    410   \n",
       "\n",
       "                   es_name  es_latitude  es_longitude  bikeid    usertype  \\\n",
       "0          1 Ave & E 15 St    40.732219    -73.981656   16950    Customer   \n",
       "1         W 20 St & 11 Ave    40.746745    -74.007756   19816    Customer   \n",
       "2          E 11 St & 2 Ave    40.730473    -73.986724   14548  Subscriber   \n",
       "3       Broadway & W 60 St    40.769155    -73.981918   16063    Customer   \n",
       "4  Suffolk St & Stanton St    40.720664    -73.985180   19213  Subscriber   \n",
       "\n",
       "  birth year  gender  \n",
       "0         \\N       0  \n",
       "1         \\N       0  \n",
       "2       1980       2  \n",
       "3         \\N       0  \n",
       "4       1986       1  "
      ]
     },
     "execution_count": 159,
     "metadata": {},
     "output_type": "execute_result"
    }
   ],
   "source": [
    "df_test = pd.read_csv(\"clean_data1.csv\", parse_dates=['starttime','stoptime'])\n",
    "df_test.head()"
   ]
  },
  {
   "cell_type": "code",
   "execution_count": 160,
   "metadata": {},
   "outputs": [
    {
     "data": {
      "text/plain": [
       "ID              843416\n",
       "tripduration    843416\n",
       "starttime       843416\n",
       "stoptime        843416\n",
       "ss_id           843416\n",
       "ss_name         843416\n",
       "ss_latitude     843416\n",
       "ss_longitude    843416\n",
       "es_id           843416\n",
       "es_name         843416\n",
       "es_latitude     843416\n",
       "es_longitude    843416\n",
       "bikeid          843416\n",
       "usertype        843416\n",
       "birth year      843416\n",
       "gender          843416\n",
       "dtype: int64"
      ]
     },
     "execution_count": 160,
     "metadata": {},
     "output_type": "execute_result"
    }
   ],
   "source": [
    "df_test.count()"
   ]
  },
  {
   "cell_type": "code",
   "execution_count": 161,
   "metadata": {},
   "outputs": [],
   "source": [
    "# Drop irrelevant columns\n",
    "df_test = df_test.drop(['ID', 'bikeid', 'usertype', 'birth year', 'gender','es_id'], axis=1)\n",
    "\n",
    "# Set the index to the starttime column\n",
    "df_test = df_test.set_index('starttime')\n",
    "# Aggregate the data by hour and station\n",
    "df_test = df_test.resample('H').agg({'tripduration': 'count', 'ss_id': 'nunique'})\n",
    "\n"
   ]
  },
  {
   "cell_type": "code",
   "execution_count": 162,
   "metadata": {},
   "outputs": [
    {
     "data": {
      "text/plain": [
       "<Axes: xlabel='starttime'>"
      ]
     },
     "execution_count": 162,
     "metadata": {},
     "output_type": "execute_result"
    },
    {
     "data": {
      "image/png": "[encoded data removed]",
      "text/plain": [
       "<Figure size 640x480 with 1 Axes>"
      ]
     },
     "metadata": {},
     "output_type": "display_data"
    }
   ],
   "source": [
    "df_test.plot()"
   ]
  },
  {
   "cell_type": "code",
   "execution_count": 163,
   "metadata": {},
   "outputs": [],
   "source": [
    "from sklearn.preprocessing import StandardScaler\n",
    "\n",
    "# Normalize the data using MinMaxScaler\n",
    "scaler = StandardScaler()\n",
    "scaler = scaler.fit(df_test[['tripduration','ss_id']])\n",
    "\n",
    "df_test[['tripduration','ss_id']] = scaler.transform(df_test[['tripduration','ss_id']])"
   ]
  },
  {
   "cell_type": "code",
   "execution_count": 164,
   "metadata": {},
   "outputs": [
    {
     "data": {
      "text/html": [
       "<div>\n",
       "<style scoped>\n",
       "    .dataframe tbody tr th:only-of-type {\n",
       "        vertical-align: middle;\n",
       "    }\n",
       "\n",
       "    .dataframe tbody tr th {\n",
       "        vertical-align: top;\n",
       "    }\n",
       "\n",
       "    .dataframe thead th {\n",
       "        text-align: right;\n",
       "    }\n",
       "</style>\n",
       "<table border=\"1\" class=\"dataframe\">\n",
       "  <thead>\n",
       "    <tr style=\"text-align: right;\">\n",
       "      <th></th>\n",
       "      <th>tripduration</th>\n",
       "      <th>ss_id</th>\n",
       "    </tr>\n",
       "    <tr>\n",
       "      <th>starttime</th>\n",
       "      <th></th>\n",
       "      <th></th>\n",
       "    </tr>\n",
       "  </thead>\n",
       "  <tbody>\n",
       "    <tr>\n",
       "      <th>2013-07-01 00:00:00</th>\n",
       "      <td>-1.020281</td>\n",
       "      <td>-1.054075</td>\n",
       "    </tr>\n",
       "    <tr>\n",
       "      <th>2013-07-01 01:00:00</th>\n",
       "      <td>-1.159007</td>\n",
       "      <td>-1.629284</td>\n",
       "    </tr>\n",
       "    <tr>\n",
       "      <th>2013-07-01 02:00:00</th>\n",
       "      <td>-1.195098</td>\n",
       "      <td>-1.894765</td>\n",
       "    </tr>\n",
       "    <tr>\n",
       "      <th>2013-07-01 03:00:00</th>\n",
       "      <td>-1.232317</td>\n",
       "      <td>-2.104938</td>\n",
       "    </tr>\n",
       "    <tr>\n",
       "      <th>2013-07-01 04:00:00</th>\n",
       "      <td>-1.236828</td>\n",
       "      <td>-2.160247</td>\n",
       "    </tr>\n",
       "    <tr>\n",
       "      <th>...</th>\n",
       "      <td>...</td>\n",
       "      <td>...</td>\n",
       "    </tr>\n",
       "    <tr>\n",
       "      <th>2013-07-31 19:00:00</th>\n",
       "      <td>2.245976</td>\n",
       "      <td>0.970220</td>\n",
       "    </tr>\n",
       "    <tr>\n",
       "      <th>2013-07-31 20:00:00</th>\n",
       "      <td>1.199330</td>\n",
       "      <td>0.881726</td>\n",
       "    </tr>\n",
       "    <tr>\n",
       "      <th>2013-07-31 21:00:00</th>\n",
       "      <td>0.416602</td>\n",
       "      <td>0.638368</td>\n",
       "    </tr>\n",
       "    <tr>\n",
       "      <th>2013-07-31 22:00:00</th>\n",
       "      <td>0.088397</td>\n",
       "      <td>0.494566</td>\n",
       "    </tr>\n",
       "    <tr>\n",
       "      <th>2013-07-31 23:00:00</th>\n",
       "      <td>-0.423648</td>\n",
       "      <td>0.129529</td>\n",
       "    </tr>\n",
       "  </tbody>\n",
       "</table>\n",
       "<p>744 rows × 2 columns</p>\n",
       "</div>"
      ],
      "text/plain": [
       "                     tripduration     ss_id\n",
       "starttime                                  \n",
       "2013-07-01 00:00:00     -1.020281 -1.054075\n",
       "2013-07-01 01:00:00     -1.159007 -1.629284\n",
       "2013-07-01 02:00:00     -1.195098 -1.894765\n",
       "2013-07-01 03:00:00     -1.232317 -2.104938\n",
       "2013-07-01 04:00:00     -1.236828 -2.160247\n",
       "...                           ...       ...\n",
       "2013-07-31 19:00:00      2.245976  0.970220\n",
       "2013-07-31 20:00:00      1.199330  0.881726\n",
       "2013-07-31 21:00:00      0.416602  0.638368\n",
       "2013-07-31 22:00:00      0.088397  0.494566\n",
       "2013-07-31 23:00:00     -0.423648  0.129529\n",
       "\n",
       "[744 rows x 2 columns]"
      ]
     },
     "execution_count": 164,
     "metadata": {},
     "output_type": "execute_result"
    }
   ],
   "source": [
    "df_test"
   ]
  },
  {
   "cell_type": "code",
   "execution_count": 165,
   "metadata": {},
   "outputs": [],
   "source": [
    "seq_length = 24 # number of hours in a day\n",
    "test1_X, test1_y = create_sequences(df_test[['tripduration']],df_test[['ss_id']], seq_length)"
   ]
  },
  {
   "cell_type": "code",
   "execution_count": 166,
   "metadata": {},
   "outputs": [
    {
     "name": "stdout",
     "output_type": "stream",
     "text": [
      "23/23 [==============================] - 0s 10ms/step - loss: 0.4886\n"
     ]
    },
    {
     "data": {
      "text/plain": [
       "0.48864173889160156"
      ]
     },
     "execution_count": 166,
     "metadata": {},
     "output_type": "execute_result"
    }
   ],
   "source": [
    "model.evaluate(test1_X, test1_y)"
   ]
  },
  {
   "cell_type": "code",
   "execution_count": 167,
   "metadata": {},
   "outputs": [
    {
     "name": "stdout",
     "output_type": "stream",
     "text": [
      "Reconstruction error threshold: 1.553141522930936\n"
     ]
    },
    {
     "data": {
      "image/png": "[encoded data removed]",
      "text/plain": [
       "<Figure size 640x480 with 1 Axes>"
      ]
     },
     "metadata": {},
     "output_type": "display_data"
    }
   ],
   "source": [
    "X_test1_pred = model.predict(test1_X, verbose=0)\n",
    "test1_mae_loss = np.mean(np.abs(X_test1_pred- test1_X), axis=1)\n",
    "\n",
    "plt.hist(test1_mae_loss , bins=50)\n",
    "plt.xlabel('Test MAE loss')\n",
    "plt.ylabel('Number of Samples');\n",
    "\n",
    "threshold1 = np.max(test1_mae_loss )\n",
    "print(f'Reconstruction error threshold: {threshold1}')"
   ]
  },
  {
   "cell_type": "code",
   "execution_count": 168,
   "metadata": {},
   "outputs": [],
   "source": [
    "test1_score_df = pd.DataFrame(df_test[seq_length:])\n",
    "test1_score_df['loss'] = test1_mae_loss\n",
    "test1_score_df['threshold'] = threshold1\n",
    "test1_score_df['anomaly'] = test1_score_df['loss'] > test1_score_df['threshold']\n",
    "test1_score_df['tripduration'] = df_test[seq_length:]['tripduration']\n",
    "test1_score_df['ss_id'] = df_test[seq_length:]['ss_id']"
   ]
  },
  {
   "cell_type": "code",
   "execution_count": 169,
   "metadata": {},
   "outputs": [
    {
     "data": {
      "text/html": [
       "<div>\n",
       "<style scoped>\n",
       "    .dataframe tbody tr th:only-of-type {\n",
       "        vertical-align: middle;\n",
       "    }\n",
       "\n",
       "    .dataframe tbody tr th {\n",
       "        vertical-align: top;\n",
       "    }\n",
       "\n",
       "    .dataframe thead th {\n",
       "        text-align: right;\n",
       "    }\n",
       "</style>\n",
       "<table border=\"1\" class=\"dataframe\">\n",
       "  <thead>\n",
       "    <tr style=\"text-align: right;\">\n",
       "      <th></th>\n",
       "      <th>tripduration</th>\n",
       "      <th>ss_id</th>\n",
       "      <th>loss</th>\n",
       "      <th>threshold</th>\n",
       "      <th>anomaly</th>\n",
       "    </tr>\n",
       "    <tr>\n",
       "      <th>starttime</th>\n",
       "      <th></th>\n",
       "      <th></th>\n",
       "      <th></th>\n",
       "      <th></th>\n",
       "      <th></th>\n",
       "    </tr>\n",
       "  </thead>\n",
       "  <tbody>\n",
       "    <tr>\n",
       "      <th>2013-07-31 19:00:00</th>\n",
       "      <td>2.245976</td>\n",
       "      <td>0.970220</td>\n",
       "      <td>1.130573</td>\n",
       "      <td>1.553142</td>\n",
       "      <td>False</td>\n",
       "    </tr>\n",
       "    <tr>\n",
       "      <th>2013-07-31 20:00:00</th>\n",
       "      <td>1.199330</td>\n",
       "      <td>0.881726</td>\n",
       "      <td>1.120055</td>\n",
       "      <td>1.553142</td>\n",
       "      <td>False</td>\n",
       "    </tr>\n",
       "    <tr>\n",
       "      <th>2013-07-31 21:00:00</th>\n",
       "      <td>0.416602</td>\n",
       "      <td>0.638368</td>\n",
       "      <td>1.078080</td>\n",
       "      <td>1.553142</td>\n",
       "      <td>False</td>\n",
       "    </tr>\n",
       "    <tr>\n",
       "      <th>2013-07-31 22:00:00</th>\n",
       "      <td>0.088397</td>\n",
       "      <td>0.494566</td>\n",
       "      <td>0.982959</td>\n",
       "      <td>1.553142</td>\n",
       "      <td>False</td>\n",
       "    </tr>\n",
       "    <tr>\n",
       "      <th>2013-07-31 23:00:00</th>\n",
       "      <td>-0.423648</td>\n",
       "      <td>0.129529</td>\n",
       "      <td>1.011218</td>\n",
       "      <td>1.553142</td>\n",
       "      <td>False</td>\n",
       "    </tr>\n",
       "  </tbody>\n",
       "</table>\n",
       "</div>"
      ],
      "text/plain": [
       "                     tripduration     ss_id      loss  threshold  anomaly\n",
       "starttime                                                                \n",
       "2013-07-31 19:00:00      2.245976  0.970220  1.130573   1.553142    False\n",
       "2013-07-31 20:00:00      1.199330  0.881726  1.120055   1.553142    False\n",
       "2013-07-31 21:00:00      0.416602  0.638368  1.078080   1.553142    False\n",
       "2013-07-31 22:00:00      0.088397  0.494566  0.982959   1.553142    False\n",
       "2013-07-31 23:00:00     -0.423648  0.129529  1.011218   1.553142    False"
      ]
     },
     "execution_count": 169,
     "metadata": {},
     "output_type": "execute_result"
    }
   ],
   "source": [
    "test1_score_df.tail()"
   ]
  },
  {
   "cell_type": "code",
   "execution_count": 170,
   "metadata": {},
   "outputs": [
    {
     "data": {
      "application/vnd.plotly.v1+json": {
       "config": {
        "plotlyServerURL": "https://plot.ly"
       },
       "data": [
        {
         "name": "Test loss",
         "type": "scatter",
         "x": [
          "2013-07-02T00:00:00",
          "2013-07-02T01:00:00",
          "2013-07-02T02:00:00",
          "2013-07-02T03:00:00",
          "2013-07-02T04:00:00",
          "2013-07-02T05:00:00",
          "2013-07-02T06:00:00",
          "2013-07-02T07:00:00",
          "2013-07-02T08:00:00",
          "2013-07-02T09:00:00",
          "2013-07-02T10:00:00",
          "2013-07-02T11:00:00",
          "2013-07-02T12:00:00",
          "2013-07-02T13:00:00",
          "2013-07-02T14:00:00",
          "2013-07-02T15:00:00",
          "2013-07-02T16:00:00",
          "2013-07-02T17:00:00",
          "2013-07-02T18:00:00",
          "2013-07-02T19:00:00",
          "2013-07-02T20:00:00",
          "2013-07-02T21:00:00",
          "2013-07-02T22:00:00",
          "2013-07-02T23:00:00",
          "2013-07-03T00:00:00",
          "2013-07-03T01:00:00",
          "2013-07-03T02:00:00",
          "2013-07-03T03:00:00",
          "2013-07-03T04:00:00",
          "2013-07-03T05:00:00",
          "2013-07-03T06:00:00",
          "2013-07-03T07:00:00",
          "2013-07-03T08:00:00",
          "2013-07-03T09:00:00",
          "2013-07-03T10:00:00",
          "2013-07-03T11:00:00",
          "2013-07-03T12:00:00",
          "2013-07-03T13:00:00",
          "2013-07-03T14:00:00",
          "2013-07-03T15:00:00",
          "2013-07-03T16:00:00",
          "2013-07-03T17:00:00",
          "2013-07-03T18:00:00",
          "2013-07-03T19:00:00",
          "2013-07-03T20:00:00",
          "2013-07-03T21:00:00",
          "2013-07-03T22:00:00",
          "2013-07-03T23:00:00",
          "2013-07-04T00:00:00",
          "2013-07-04T01:00:00",
          "2013-07-04T02:00:00",
          "2013-07-04T03:00:00",
          "2013-07-04T04:00:00",
          "2013-07-04T05:00:00",
          "2013-07-04T06:00:00",
          "2013-07-04T07:00:00",
          "2013-07-04T08:00:00",
          "2013-07-04T09:00:00",
          "2013-07-04T10:00:00",
          "2013-07-04T11:00:00",
          "2013-07-04T12:00:00",
          "2013-07-04T13:00:00",
          "2013-07-04T14:00:00",
          "2013-07-04T15:00:00",
          "2013-07-04T16:00:00",
          "2013-07-04T17:00:00",
          "2013-07-04T18:00:00",
          "2013-07-04T19:00:00",
          "2013-07-04T20:00:00",
          "2013-07-04T21:00:00",
          "2013-07-04T22:00:00",
          "2013-07-04T23:00:00",
          "2013-07-05T00:00:00",
          "2013-07-05T01:00:00",
          "2013-07-05T02:00:00",
          "2013-07-05T03:00:00",
          "2013-07-05T04:00:00",
          "2013-07-05T05:00:00",
          "2013-07-05T06:00:00",
          "2013-07-05T07:00:00",
          "2013-07-05T08:00:00",
          "2013-07-05T09:00:00",
          "2013-07-05T10:00:00",
          "2013-07-05T11:00:00",
          "2013-07-05T12:00:00",
          "2013-07-05T13:00:00",
          "2013-07-05T14:00:00",
          "2013-07-05T15:00:00",
          "2013-07-05T16:00:00",
          "2013-07-05T17:00:00",
          "2013-07-05T18:00:00",
          "2013-07-05T19:00:00",
          "2013-07-05T20:00:00",
          "2013-07-05T21:00:00",
          "2013-07-05T22:00:00",
          "2013-07-05T23:00:00",
          "2013-07-06T00:00:00",
          "2013-07-06T01:00:00",
          "2013-07-06T02:00:00",
          "2013-07-06T03:00:00",
          "2013-07-06T04:00:00",
          "2013-07-06T05:00:00",
          "2013-07-06T06:00:00",
          "2013-07-06T07:00:00",
          "2013-07-06T08:00:00",
          "2013-07-06T09:00:00",
          "2013-07-06T10:00:00",
          "2013-07-06T11:00:00",
          "2013-07-06T12:00:00",
          "2013-07-06T13:00:00",
          "2013-07-06T14:00:00",
          "2013-07-06T15:00:00",
          "2013-07-06T16:00:00",
          "2013-07-06T17:00:00",
          "2013-07-06T18:00:00",
          "2013-07-06T19:00:00",
          "2013-07-06T20:00:00",
          "2013-07-06T21:00:00",
          "2013-07-06T22:00:00",
          "2013-07-06T23:00:00",
          "2013-07-07T00:00:00",
          "2013-07-07T01:00:00",
          "2013-07-07T02:00:00",
          "2013-07-07T03:00:00",
          "2013-07-07T04:00:00",
          "2013-07-07T05:00:00",
          "2013-07-07T06:00:00",
          "2013-07-07T07:00:00",
          "2013-07-07T08:00:00",
          "2013-07-07T09:00:00",
          "2013-07-07T10:00:00",
          "2013-07-07T11:00:00",
          "2013-07-07T12:00:00",
          "2013-07-07T13:00:00",
          "2013-07-07T14:00:00",
          "2013-07-07T15:00:00",
          "2013-07-07T16:00:00",
          "2013-07-07T17:00:00",
          "2013-07-07T18:00:00",
          "2013-07-07T19:00:00",
          "2013-07-07T20:00:00",
          "2013-07-07T21:00:00",
          "2013-07-07T22:00:00",
          "2013-07-07T23:00:00",
          "2013-07-08T00:00:00",
          "2013-07-08T01:00:00",
          "2013-07-08T02:00:00",
          "2013-07-08T03:00:00",
          "2013-07-08T04:00:00",
          "2013-07-08T05:00:00",
          "2013-07-08T06:00:00",
          "2013-07-08T07:00:00",
          "2013-07-08T08:00:00",
          "2013-07-08T09:00:00",
          "2013-07-08T10:00:00",
          "2013-07-08T11:00:00",
          "2013-07-08T12:00:00",
          "2013-07-08T13:00:00",
          "2013-07-08T14:00:00",
          "2013-07-08T15:00:00",
          "2013-07-08T16:00:00",
          "2013-07-08T17:00:00",
          "2013-07-08T18:00:00",
          "2013-07-08T19:00:00",
          "2013-07-08T20:00:00",
          "2013-07-08T21:00:00",
          "2013-07-08T22:00:00",
          "2013-07-08T23:00:00",
          "2013-07-09T00:00:00",
          "2013-07-09T01:00:00",
          "2013-07-09T02:00:00",
          "2013-07-09T03:00:00",
          "2013-07-09T04:00:00",
          "2013-07-09T05:00:00",
          "2013-07-09T06:00:00",
          "2013-07-09T07:00:00",
          "2013-07-09T08:00:00",
          "2013-07-09T09:00:00",
          "2013-07-09T10:00:00",
          "2013-07-09T11:00:00",
          "2013-07-09T12:00:00",
          "2013-07-09T13:00:00",
          "2013-07-09T14:00:00",
          "2013-07-09T15:00:00",
          "2013-07-09T16:00:00",
          "2013-07-09T17:00:00",
          "2013-07-09T18:00:00",
          "2013-07-09T19:00:00",
          "2013-07-09T20:00:00",
          "2013-07-09T21:00:00",
          "2013-07-09T22:00:00",
          "2013-07-09T23:00:00",
          "2013-07-10T00:00:00",
          "2013-07-10T01:00:00",
          "2013-07-10T02:00:00",
          "2013-07-10T03:00:00",
          "2013-07-10T04:00:00",
          "2013-07-10T05:00:00",
          "2013-07-10T06:00:00",
          "2013-07-10T07:00:00",
          "2013-07-10T08:00:00",
          "2013-07-10T09:00:00",
          "2013-07-10T10:00:00",
          "2013-07-10T11:00:00",
          "2013-07-10T12:00:00",
          "2013-07-10T13:00:00",
          "2013-07-10T14:00:00",
          "2013-07-10T15:00:00",
          "2013-07-10T16:00:00",
          "2013-07-10T17:00:00",
          "2013-07-10T18:00:00",
          "2013-07-10T19:00:00",
          "2013-07-10T20:00:00",
          "2013-07-10T21:00:00",
          "2013-07-10T22:00:00",
          "2013-07-10T23:00:00",
          "2013-07-11T00:00:00",
          "2013-07-11T01:00:00",
          "2013-07-11T02:00:00",
          "2013-07-11T03:00:00",
          "2013-07-11T04:00:00",
          "2013-07-11T05:00:00",
          "2013-07-11T06:00:00",
          "2013-07-11T07:00:00",
          "2013-07-11T08:00:00",
          "2013-07-11T09:00:00",
          "2013-07-11T10:00:00",
          "2013-07-11T11:00:00",
          "2013-07-11T12:00:00",
          "2013-07-11T13:00:00",
          "2013-07-11T14:00:00",
          "2013-07-11T15:00:00",
          "2013-07-11T16:00:00",
          "2013-07-11T17:00:00",
          "2013-07-11T18:00:00",
          "2013-07-11T19:00:00",
          "2013-07-11T20:00:00",
          "2013-07-11T21:00:00",
          "2013-07-11T22:00:00",
          "2013-07-11T23:00:00",
          "2013-07-12T00:00:00",
          "2013-07-12T01:00:00",
          "2013-07-12T02:00:00",
          "2013-07-12T03:00:00",
          "2013-07-12T04:00:00",
          "2013-07-12T05:00:00",
          "2013-07-12T06:00:00",
          "2013-07-12T07:00:00",
          "2013-07-12T08:00:00",
          "2013-07-12T09:00:00",
          "2013-07-12T10:00:00",
          "2013-07-12T11:00:00",
          "2013-07-12T12:00:00",
          "2013-07-12T13:00:00",
          "2013-07-12T14:00:00",
          "2013-07-12T15:00:00",
          "2013-07-12T16:00:00",
          "2013-07-12T17:00:00",
          "2013-07-12T18:00:00",
          "2013-07-12T19:00:00",
          "2013-07-12T20:00:00",
          "2013-07-12T21:00:00",
          "2013-07-12T22:00:00",
          "2013-07-12T23:00:00",
          "2013-07-13T00:00:00",
          "2013-07-13T01:00:00",
          "2013-07-13T02:00:00",
          "2013-07-13T03:00:00",
          "2013-07-13T04:00:00",
          "2013-07-13T05:00:00",
          "2013-07-13T06:00:00",
          "2013-07-13T07:00:00",
          "2013-07-13T08:00:00",
          "2013-07-13T09:00:00",
          "2013-07-13T10:00:00",
          "2013-07-13T11:00:00",
          "2013-07-13T12:00:00",
          "2013-07-13T13:00:00",
          "2013-07-13T14:00:00",
          "2013-07-13T15:00:00",
          "2013-07-13T16:00:00",
          "2013-07-13T17:00:00",
          "2013-07-13T18:00:00",
          "2013-07-13T19:00:00",
          "2013-07-13T20:00:00",
          "2013-07-13T21:00:00",
          "2013-07-13T22:00:00",
          "2013-07-13T23:00:00",
          "2013-07-14T00:00:00",
          "2013-07-14T01:00:00",
          "2013-07-14T02:00:00",
          "2013-07-14T03:00:00",
          "2013-07-14T04:00:00",
          "2013-07-14T05:00:00",
          "2013-07-14T06:00:00",
          "2013-07-14T07:00:00",
          "2013-07-14T08:00:00",
          "2013-07-14T09:00:00",
          "2013-07-14T10:00:00",
          "2013-07-14T11:00:00",
          "2013-07-14T12:00:00",
          "2013-07-14T13:00:00",
          "2013-07-14T14:00:00",
          "2013-07-14T15:00:00",
          "2013-07-14T16:00:00",
          "2013-07-14T17:00:00",
          "2013-07-14T18:00:00",
          "2013-07-14T19:00:00",
          "2013-07-14T20:00:00",
          "2013-07-14T21:00:00",
          "2013-07-14T22:00:00",
          "2013-07-14T23:00:00",
          "2013-07-15T00:00:00",
          "2013-07-15T01:00:00",
          "2013-07-15T02:00:00",
          "2013-07-15T03:00:00",
          "2013-07-15T04:00:00",
          "2013-07-15T05:00:00",
          "2013-07-15T06:00:00",
          "2013-07-15T07:00:00",
          "2013-07-15T08:00:00",
          "2013-07-15T09:00:00",
          "2013-07-15T10:00:00",
          "2013-07-15T11:00:00",
          "2013-07-15T12:00:00",
          "2013-07-15T13:00:00",
          "2013-07-15T14:00:00",
          "2013-07-15T15:00:00",
          "2013-07-15T16:00:00",
          "2013-07-15T17:00:00",
          "2013-07-15T18:00:00",
          "2013-07-15T19:00:00",
          "2013-07-15T20:00:00",
          "2013-07-15T21:00:00",
          "2013-07-15T22:00:00",
          "2013-07-15T23:00:00",
          "2013-07-16T00:00:00",
          "2013-07-16T01:00:00",
          "2013-07-16T02:00:00",
          "2013-07-16T03:00:00",
          "2013-07-16T04:00:00",
          "2013-07-16T05:00:00",
          "2013-07-16T06:00:00",
          "2013-07-16T07:00:00",
          "2013-07-16T08:00:00",
          "2013-07-16T09:00:00",
          "2013-07-16T10:00:00",
          "2013-07-16T11:00:00",
          "2013-07-16T12:00:00",
          "2013-07-16T13:00:00",
          "2013-07-16T14:00:00",
          "2013-07-16T15:00:00",
          "2013-07-16T16:00:00",
          "2013-07-16T17:00:00",
          "2013-07-16T18:00:00",
          "2013-07-16T19:00:00",
          "2013-07-16T20:00:00",
          "2013-07-16T21:00:00",
          "2013-07-16T22:00:00",
          "2013-07-16T23:00:00",
          "2013-07-17T00:00:00",
          "2013-07-17T01:00:00",
          "2013-07-17T02:00:00",
          "2013-07-17T03:00:00",
          "2013-07-17T04:00:00",
          "2013-07-17T05:00:00",
          "2013-07-17T06:00:00",
          "2013-07-17T07:00:00",
          "2013-07-17T08:00:00",
          "2013-07-17T09:00:00",
          "2013-07-17T10:00:00",
          "2013-07-17T11:00:00",
          "2013-07-17T12:00:00",
          "2013-07-17T13:00:00",
          "2013-07-17T14:00:00",
          "2013-07-17T15:00:00",
          "2013-07-17T16:00:00",
          "2013-07-17T17:00:00",
          "2013-07-17T18:00:00",
          "2013-07-17T19:00:00",
          "2013-07-17T20:00:00",
          "2013-07-17T21:00:00",
          "2013-07-17T22:00:00",
          "2013-07-17T23:00:00",
          "2013-07-18T00:00:00",
          "2013-07-18T01:00:00",
          "2013-07-18T02:00:00",
          "2013-07-18T03:00:00",
          "2013-07-18T04:00:00",
          "2013-07-18T05:00:00",
          "2013-07-18T06:00:00",
          "2013-07-18T07:00:00",
          "2013-07-18T08:00:00",
          "2013-07-18T09:00:00",
          "2013-07-18T10:00:00",
          "2013-07-18T11:00:00",
          "2013-07-18T12:00:00",
          "2013-07-18T13:00:00",
          "2013-07-18T14:00:00",
          "2013-07-18T15:00:00",
          "2013-07-18T16:00:00",
          "2013-07-18T17:00:00",
          "2013-07-18T18:00:00",
          "2013-07-18T19:00:00",
          "2013-07-18T20:00:00",
          "2013-07-18T21:00:00",
          "2013-07-18T22:00:00",
          "2013-07-18T23:00:00",
          "2013-07-19T00:00:00",
          "2013-07-19T01:00:00",
          "2013-07-19T02:00:00",
          "2013-07-19T03:00:00",
          "2013-07-19T04:00:00",
          "2013-07-19T05:00:00",
          "2013-07-19T06:00:00",
          "2013-07-19T07:00:00",
          "2013-07-19T08:00:00",
          "2013-07-19T09:00:00",
          "2013-07-19T10:00:00",
          "2013-07-19T11:00:00",
          "2013-07-19T12:00:00",
          "2013-07-19T13:00:00",
          "2013-07-19T14:00:00",
          "2013-07-19T15:00:00",
          "2013-07-19T16:00:00",
          "2013-07-19T17:00:00",
          "2013-07-19T18:00:00",
          "2013-07-19T19:00:00",
          "2013-07-19T20:00:00",
          "2013-07-19T21:00:00",
          "2013-07-19T22:00:00",
          "2013-07-19T23:00:00",
          "2013-07-20T00:00:00",
          "2013-07-20T01:00:00",
          "2013-07-20T02:00:00",
          "2013-07-20T03:00:00",
          "2013-07-20T04:00:00",
          "2013-07-20T05:00:00",
          "2013-07-20T06:00:00",
          "2013-07-20T07:00:00",
          "2013-07-20T08:00:00",
          "2013-07-20T09:00:00",
          "2013-07-20T10:00:00",
          "2013-07-20T11:00:00",
          "2013-07-20T12:00:00",
          "2013-07-20T13:00:00",
          "2013-07-20T14:00:00",
          "2013-07-20T15:00:00",
          "2013-07-20T16:00:00",
          "2013-07-20T17:00:00",
          "2013-07-20T18:00:00",
          "2013-07-20T19:00:00",
          "2013-07-20T20:00:00",
          "2013-07-20T21:00:00",
          "2013-07-20T22:00:00",
          "2013-07-20T23:00:00",
          "2013-07-21T00:00:00",
          "2013-07-21T01:00:00",
          "2013-07-21T02:00:00",
          "2013-07-21T03:00:00",
          "2013-07-21T04:00:00",
          "2013-07-21T05:00:00",
          "2013-07-21T06:00:00",
          "2013-07-21T07:00:00",
          "2013-07-21T08:00:00",
          "2013-07-21T09:00:00",
          "2013-07-21T10:00:00",
          "2013-07-21T11:00:00",
          "2013-07-21T12:00:00",
          "2013-07-21T13:00:00",
          "2013-07-21T14:00:00",
          "2013-07-21T15:00:00",
          "2013-07-21T16:00:00",
          "2013-07-21T17:00:00",
          "2013-07-21T18:00:00",
          "2013-07-21T19:00:00",
          "2013-07-21T20:00:00",
          "2013-07-21T21:00:00",
          "2013-07-21T22:00:00",
          "2013-07-21T23:00:00",
          "2013-07-22T00:00:00",
          "2013-07-22T01:00:00",
          "2013-07-22T02:00:00",
          "2013-07-22T03:00:00",
          "2013-07-22T04:00:00",
          "2013-07-22T05:00:00",
          "2013-07-22T06:00:00",
          "2013-07-22T07:00:00",
          "2013-07-22T08:00:00",
          "2013-07-22T09:00:00",
          "2013-07-22T10:00:00",
          "2013-07-22T11:00:00",
          "2013-07-22T12:00:00",
          "2013-07-22T13:00:00",
          "2013-07-22T14:00:00",
          "2013-07-22T15:00:00",
          "2013-07-22T16:00:00",
          "2013-07-22T17:00:00",
          "2013-07-22T18:00:00",
          "2013-07-22T19:00:00",
          "2013-07-22T20:00:00",
          "2013-07-22T21:00:00",
          "2013-07-22T22:00:00",
          "2013-07-22T23:00:00",
          "2013-07-23T00:00:00",
          "2013-07-23T01:00:00",
          "2013-07-23T02:00:00",
          "2013-07-23T03:00:00",
          "2013-07-23T04:00:00",
          "2013-07-23T05:00:00",
          "2013-07-23T06:00:00",
          "2013-07-23T07:00:00",
          "2013-07-23T08:00:00",
          "2013-07-23T09:00:00",
          "2013-07-23T10:00:00",
          "2013-07-23T11:00:00",
          "2013-07-23T12:00:00",
          "2013-07-23T13:00:00",
          "2013-07-23T14:00:00",
          "2013-07-23T15:00:00",
          "2013-07-23T16:00:00",
          "2013-07-23T17:00:00",
          "2013-07-23T18:00:00",
          "2013-07-23T19:00:00",
          "2013-07-23T20:00:00",
          "2013-07-23T21:00:00",
          "2013-07-23T22:00:00",
          "2013-07-23T23:00:00",
          "2013-07-24T00:00:00",
          "2013-07-24T01:00:00",
          "2013-07-24T02:00:00",
          "2013-07-24T03:00:00",
          "2013-07-24T04:00:00",
          "2013-07-24T05:00:00",
          "2013-07-24T06:00:00",
          "2013-07-24T07:00:00",
          "2013-07-24T08:00:00",
          "2013-07-24T09:00:00",
          "2013-07-24T10:00:00",
          "2013-07-24T11:00:00",
          "2013-07-24T12:00:00",
          "2013-07-24T13:00:00",
          "2013-07-24T14:00:00",
          "2013-07-24T15:00:00",
          "2013-07-24T16:00:00",
          "2013-07-24T17:00:00",
          "2013-07-24T18:00:00",
          "2013-07-24T19:00:00",
          "2013-07-24T20:00:00",
          "2013-07-24T21:00:00",
          "2013-07-24T22:00:00",
          "2013-07-24T23:00:00",
          "2013-07-25T00:00:00",
          "2013-07-25T01:00:00",
          "2013-07-25T02:00:00",
          "2013-07-25T03:00:00",
          "2013-07-25T04:00:00",
          "2013-07-25T05:00:00",
          "2013-07-25T06:00:00",
          "2013-07-25T07:00:00",
          "2013-07-25T08:00:00",
          "2013-07-25T09:00:00",
          "2013-07-25T10:00:00",
          "2013-07-25T11:00:00",
          "2013-07-25T12:00:00",
          "2013-07-25T13:00:00",
          "2013-07-25T14:00:00",
          "2013-07-25T15:00:00",
          "2013-07-25T16:00:00",
          "2013-07-25T17:00:00",
          "2013-07-25T18:00:00",
          "2013-07-25T19:00:00",
          "2013-07-25T20:00:00",
          "2013-07-25T21:00:00",
          "2013-07-25T22:00:00",
          "2013-07-25T23:00:00",
          "2013-07-26T00:00:00",
          "2013-07-26T01:00:00",
          "2013-07-26T02:00:00",
          "2013-07-26T03:00:00",
          "2013-07-26T04:00:00",
          "2013-07-26T05:00:00",
          "2013-07-26T06:00:00",
          "2013-07-26T07:00:00",
          "2013-07-26T08:00:00",
          "2013-07-26T09:00:00",
          "2013-07-26T10:00:00",
          "2013-07-26T11:00:00",
          "2013-07-26T12:00:00",
          "2013-07-26T13:00:00",
          "2013-07-26T14:00:00",
          "2013-07-26T15:00:00",
          "2013-07-26T16:00:00",
          "2013-07-26T17:00:00",
          "2013-07-26T18:00:00",
          "2013-07-26T19:00:00",
          "2013-07-26T20:00:00",
          "2013-07-26T21:00:00",
          "2013-07-26T22:00:00",
          "2013-07-26T23:00:00",
          "2013-07-27T00:00:00",
          "2013-07-27T01:00:00",
          "2013-07-27T02:00:00",
          "2013-07-27T03:00:00",
          "2013-07-27T04:00:00",
          "2013-07-27T05:00:00",
          "2013-07-27T06:00:00",
          "2013-07-27T07:00:00",
          "2013-07-27T08:00:00",
          "2013-07-27T09:00:00",
          "2013-07-27T10:00:00",
          "2013-07-27T11:00:00",
          "2013-07-27T12:00:00",
          "2013-07-27T13:00:00",
          "2013-07-27T14:00:00",
          "2013-07-27T15:00:00",
          "2013-07-27T16:00:00",
          "2013-07-27T17:00:00",
          "2013-07-27T18:00:00",
          "2013-07-27T19:00:00",
          "2013-07-27T20:00:00",
          "2013-07-27T21:00:00",
          "2013-07-27T22:00:00",
          "2013-07-27T23:00:00",
          "2013-07-28T00:00:00",
          "2013-07-28T01:00:00",
          "2013-07-28T02:00:00",
          "2013-07-28T03:00:00",
          "2013-07-28T04:00:00",
          "2013-07-28T05:00:00",
          "2013-07-28T06:00:00",
          "2013-07-28T07:00:00",
          "2013-07-28T08:00:00",
          "2013-07-28T09:00:00",
          "2013-07-28T10:00:00",
          "2013-07-28T11:00:00",
          "2013-07-28T12:00:00",
          "2013-07-28T13:00:00",
          "2013-07-28T14:00:00",
          "2013-07-28T15:00:00",
          "2013-07-28T16:00:00",
          "2013-07-28T17:00:00",
          "2013-07-28T18:00:00",
          "2013-07-28T19:00:00",
          "2013-07-28T20:00:00",
          "2013-07-28T21:00:00",
          "2013-07-28T22:00:00",
          "2013-07-28T23:00:00",
          "2013-07-29T00:00:00",
          "2013-07-29T01:00:00",
          "2013-07-29T02:00:00",
          "2013-07-29T03:00:00",
          "2013-07-29T04:00:00",
          "2013-07-29T05:00:00",
          "2013-07-29T06:00:00",
          "2013-07-29T07:00:00",
          "2013-07-29T08:00:00",
          "2013-07-29T09:00:00",
          "2013-07-29T10:00:00",
          "2013-07-29T11:00:00",
          "2013-07-29T12:00:00",
          "2013-07-29T13:00:00",
          "2013-07-29T14:00:00",
          "2013-07-29T15:00:00",
          "2013-07-29T16:00:00",
          "2013-07-29T17:00:00",
          "2013-07-29T18:00:00",
          "2013-07-29T19:00:00",
          "2013-07-29T20:00:00",
          "2013-07-29T21:00:00",
          "2013-07-29T22:00:00",
          "2013-07-29T23:00:00",
          "2013-07-30T00:00:00",
          "2013-07-30T01:00:00",
          "2013-07-30T02:00:00",
          "2013-07-30T03:00:00",
          "2013-07-30T04:00:00",
          "2013-07-30T05:00:00",
          "2013-07-30T06:00:00",
          "2013-07-30T07:00:00",
          "2013-07-30T08:00:00",
          "2013-07-30T09:00:00",
          "2013-07-30T10:00:00",
          "2013-07-30T11:00:00",
          "2013-07-30T12:00:00",
          "2013-07-30T13:00:00",
          "2013-07-30T14:00:00",
          "2013-07-30T15:00:00",
          "2013-07-30T16:00:00",
          "2013-07-30T17:00:00",
          "2013-07-30T18:00:00",
          "2013-07-30T19:00:00",
          "2013-07-30T20:00:00",
          "2013-07-30T21:00:00",
          "2013-07-30T22:00:00",
          "2013-07-30T23:00:00",
          "2013-07-31T00:00:00",
          "2013-07-31T01:00:00",
          "2013-07-31T02:00:00",
          "2013-07-31T03:00:00",
          "2013-07-31T04:00:00",
          "2013-07-31T05:00:00",
          "2013-07-31T06:00:00",
          "2013-07-31T07:00:00",
          "2013-07-31T08:00:00",
          "2013-07-31T09:00:00",
          "2013-07-31T10:00:00",
          "2013-07-31T11:00:00",
          "2013-07-31T12:00:00",
          "2013-07-31T13:00:00",
          "2013-07-31T14:00:00",
          "2013-07-31T15:00:00",
          "2013-07-31T16:00:00",
          "2013-07-31T17:00:00",
          "2013-07-31T18:00:00",
          "2013-07-31T19:00:00",
          "2013-07-31T20:00:00",
          "2013-07-31T21:00:00",
          "2013-07-31T22:00:00",
          "2013-07-31T23:00:00"
         ],
         "y": [
          0.3971521623452457,
          0.4159592686875961,
          0.3783400103905992,
          0.36578886089605805,
          0.3972433966619362,
          0.4515554631120077,
          0.8600519465040302,
          1.172162993986707,
          1.2442916312711743,
          0.9396427879067311,
          0.6995067808045459,
          0.7560688102120953,
          0.8256157327667845,
          0.8420434056716912,
          0.8440483662362985,
          1.182782185984368,
          1.2267297564483999,
          1.2646437013559844,
          1.2704515295047478,
          1.268009491918709,
          1.1946511406180615,
          1.0880197777775544,
          0.765176269132013,
          0.5146015259681413,
          0.7168008608888473,
          0.7997351822098007,
          0.8096666701641614,
          0.829588050960155,
          0.8920712379547573,
          0.9395374184153362,
          0.9059508631780092,
          1.126354863061272,
          1.264613350320988,
          1.2751407071344458,
          1.222240120162132,
          1.2531979083115783,
          1.2847692396994728,
          1.2855330887138114,
          1.3082038156402265,
          1.3281822511629873,
          1.3114221366248364,
          1.305588485268072,
          1.2619530594057842,
          1.2044340133436855,
          0.9021920970208083,
          0.8453771550623759,
          0.4580560832174781,
          0.5252187160295505,
          0.6838718891469782,
          0.7626086666288098,
          0.77981941827318,
          0.7980435270534433,
          0.8473671546443303,
          0.8771072319117948,
          0.8002830076291255,
          0.9996151944187007,
          1.1321492319141238,
          1.200817815966614,
          1.1909599878734791,
          1.2598868314241611,
          1.3284777306652977,
          1.3505757910352807,
          1.2906247064333585,
          1.3380774844355647,
          1.3484895425476189,
          1.3675463248617727,
          1.3347082898173255,
          1.2221241172138526,
          1.1808551723290994,
          1.0329114230159304,
          0.7490116381434507,
          0.48847421543661973,
          0.30475479814132983,
          0.40510043808372903,
          0.5636565879758404,
          0.7022834999321678,
          0.7911657952921592,
          0.8501385982647691,
          0.918768291264033,
          0.9768126295452543,
          0.9836638075068705,
          0.9025279865712189,
          0.9907550870892455,
          1.0596665366665003,
          1.1166810688190587,
          1.157372373952414,
          1.1967707289646201,
          1.2291165232678836,
          1.2552968468158783,
          1.2731911649049739,
          1.2670572781998486,
          1.2413628744490317,
          1.1975512650999272,
          1.114205362889354,
          1.097122214205401,
          0.806014237985047,
          0.24925465598937754,
          0.5496079655894427,
          0.6606136196590054,
          0.7118098557428407,
          0.762710087082815,
          0.8335599517668081,
          0.8654048446169554,
          0.6385379600404265,
          0.9023227746214273,
          0.9498571500253417,
          0.9960897354479892,
          1.1061049875957083,
          1.1781366286497372,
          1.2204785394869158,
          1.258149782923143,
          1.282871214190144,
          1.3028078364798688,
          1.321480730113736,
          1.3264101043443668,
          1.308407264971958,
          1.2658169380416242,
          1.1858353484381157,
          1.0518348069529477,
          0.7881142697707011,
          0.3636398221533345,
          0.39401474312220924,
          0.5478069129704775,
          0.6503857303123367,
          0.7144478816314704,
          0.767811792748625,
          0.8331164540512163,
          0.8786218294853189,
          0.6897911323539937,
          0.9450735012546826,
          1.089752586532953,
          1.1701145926312633,
          1.2269163328539807,
          1.2633176296354314,
          1.3014879939060762,
          1.3266434080061345,
          1.3458384828110193,
          1.3574247731188738,
          1.359272116882188,
          1.3325639819476012,
          1.281191506431033,
          1.156049095756548,
          0.9809634151046419,
          0.6607818085455368,
          0.4448071724582312,
          0.26333196669413317,
          0.49717863079896024,
          0.6174677399761893,
          0.7172012091603149,
          0.7907911180056254,
          0.8729295943100003,
          0.9313296165340829,
          0.910860984613112,
          0.863103147775725,
          0.9872393555451433,
          1.0854371083839338,
          1.1402994537126008,
          1.1742589791699312,
          1.2092021627226017,
          1.241336738917234,
          1.2687352599036774,
          1.2776205564944951,
          1.2587996810208855,
          1.2583728198538158,
          1.2111699132382885,
          1.0815334682162487,
          0.7190452090380646,
          0.3687803631938895,
          0.6290797121940667,
          0.7213853254391566,
          0.7427400105008318,
          0.7568311009279632,
          0.8148565544349121,
          0.8523070553677762,
          0.8321130514535661,
          1.041432174834849,
          1.1402372897726878,
          1.1243694196471443,
          1.0136863422213633,
          1.0734845720112685,
          1.1572167838130827,
          1.1784784145573537,
          1.1888164697081878,
          1.2021210666409021,
          1.2250387823556226,
          1.2531176892529114,
          1.1844693699184055,
          1.1994455414703393,
          1.17897790478651,
          1.108310751642119,
          0.760000796357439,
          0.6928292067027869,
          0.9203396964204438,
          0.9819473627306623,
          0.9969644231199867,
          1.0057885059269045,
          1.0567415275535332,
          1.0751911007393744,
          0.9580671980234144,
          1.0989406483994286,
          1.214167332104453,
          1.2331432031885314,
          1.2044157575131471,
          1.245387675617463,
          1.2823419732433823,
          1.2975383992796108,
          1.3176416544349534,
          1.3287875653820949,
          1.3271873191813122,
          1.3366390804570185,
          1.3111741914645922,
          1.2615292471367996,
          1.1637361035609894,
          1.0728489064486741,
          0.8444349763111335,
          0.4358263690253154,
          0.777619574544349,
          0.8793922632019088,
          0.9120650091517328,
          0.929553551975653,
          0.9795989063853202,
          0.9938022419804016,
          0.8325054603480476,
          1.0434801194455086,
          1.139752503354677,
          1.0798318740405046,
          1.0446857875721025,
          1.0988152889740521,
          1.141987925661413,
          1.1478930702838008,
          1.1745446591286464,
          1.1883357659906377,
          1.1859395859901387,
          1.206740916223713,
          1.189194281232324,
          1.1630373533185894,
          1.1318290105824487,
          1.07934752322637,
          0.9597727586817791,
          0.38384682910496887,
          0.7793536481823232,
          0.8648512670053874,
          0.8877585329291356,
          0.8928856134186994,
          0.9294191718528703,
          0.9548463507624841,
          0.7433584349234775,
          0.9269069988168832,
          1.0314707360036157,
          1.0547418945348142,
          0.9934003288348793,
          1.0468258864610769,
          1.0924855884170162,
          1.0992365724466195,
          1.1109675056641992,
          1.1326629615419008,
          1.134213060312477,
          1.1467057938507008,
          1.1673618203434264,
          1.17942474936257,
          1.1661945769631803,
          1.1077383478059257,
          0.9818871314837908,
          0.588095159762755,
          0.5989234806772389,
          0.681815116852631,
          0.7253171476022352,
          0.7718884689296738,
          0.8442060915350597,
          0.8893024856361545,
          0.9139132905848134,
          1.1498792939303846,
          1.2713680841365849,
          1.3549098789547174,
          1.3314194233146237,
          1.3663425656588097,
          1.410115960250657,
          1.4101655686882533,
          1.3447271762227764,
          1.3523083821993414,
          1.3615007006736473,
          1.3415006463116377,
          1.2675136359167165,
          0.7777755190772213,
          0.5442217662698036,
          0.5016721517561497,
          0.45123102742229787,
          0.39972091502341883,
          0.38370621339358646,
          0.6830218050162239,
          0.86662798051727,
          0.9734940443530672,
          1.0143664929272125,
          1.0504990693363172,
          1.1051107052323095,
          1.1369799421744657,
          0.946219760897482,
          0.944087837508763,
          0.996408849418099,
          1.0378595657239826,
          1.0611892155202476,
          1.076391972913394,
          1.082560953608725,
          1.0911601819488441,
          1.102755165891949,
          1.0965142556220802,
          1.0966891322905326,
          1.0897103534873862,
          1.0487043416207378,
          0.9611223046510582,
          0.8721641303329526,
          0.7148359185518393,
          0.4802458325807333,
          0.8226241423187517,
          1.0250027628382814,
          1.0795359606636359,
          1.116924894842647,
          1.1687808187823616,
          1.2402461199962576,
          1.2803513732415375,
          1.0968580731122815,
          0.9991586144808302,
          0.9802522775896373,
          1.0044419748606395,
          1.0452216259992844,
          1.0822886247224692,
          1.1091828748897055,
          1.1279372213605459,
          1.1489823866265236,
          1.1550747634774385,
          1.165660013501294,
          1.1795769375454894,
          1.160976849953437,
          1.1015690683179962,
          0.9187956952500631,
          0.6342513483990878,
          0.9735845190206316,
          1.0366155462931022,
          1.0566585115287797,
          1.0617065300180255,
          1.1057350078161075,
          1.1228464686153017,
          0.8795964164805797,
          1.042185872658952,
          1.1535463396053725,
          1.1690961914530689,
          1.103442419909809,
          1.1281867238752457,
          1.1732000928470778,
          1.1924968465407775,
          1.2042105960360898,
          1.2124325409945904,
          1.206759273386668,
          1.2152054956907687,
          1.191839772132241,
          1.1739437926640297,
          1.1367651441146267,
          1.073067411407484,
          0.8990755798311292,
          0.8530293504126147,
          1.0886372653212197,
          1.1350780266528229,
          1.1521222303395418,
          1.1605652051722795,
          1.1952325242442632,
          1.1978191023694542,
          0.8749020405396305,
          1.0105074422784481,
          1.1278777346928919,
          1.1307255989078684,
          1.0882860949425377,
          1.1058435516536214,
          1.1464799397588672,
          1.1607129987118443,
          1.1734773713986353,
          1.1833083314197983,
          1.1758453958427857,
          1.179836139422307,
          1.154784703611572,
          1.1432325660758786,
          1.1147659051230348,
          1.0691769797352282,
          0.9286585154761129,
          0.784762934883004,
          1.1134341089381679,
          1.1611840016330934,
          1.1756997264452185,
          1.1859085952626567,
          1.2168788000884232,
          1.2220066825554818,
          0.8389422138912179,
          0.9868578217532686,
          1.1016313729029619,
          1.1141776165737711,
          1.0821361835883805,
          1.1037623469434157,
          1.1484882153393652,
          1.1629906957161305,
          1.1774397204069695,
          1.1906469247960971,
          1.1841194618917632,
          1.1950745928079785,
          1.1720256886200557,
          1.1355936334142156,
          1.1032451011035682,
          1.0629921067479895,
          0.9796990532833361,
          0.5250427261429144,
          1.0202896622595745,
          1.0795452208261551,
          1.1005611930807266,
          1.1129299523777816,
          1.1426316749511565,
          1.1490960672748465,
          0.8225858470267596,
          0.9688357401729668,
          1.0897751581819153,
          1.0873729832585173,
          1.0444044025811847,
          1.0742658345434288,
          1.1227554716590264,
          1.1455784844281423,
          1.1573215881103993,
          1.167884069238662,
          1.1599846783321117,
          1.1595933703123118,
          1.1290363487448027,
          1.0856975922759693,
          1.0567671349410153,
          1.0115484632727845,
          0.9192621583508104,
          0.5686441084026049,
          0.8791269236912246,
          0.9659673692641602,
          0.9919520097975901,
          1.0030439484817875,
          1.0328369219449949,
          1.0448543319030859,
          0.7435738835076117,
          0.8997770147688594,
          1.0180650214182532,
          1.0866178049460709,
          1.0818722068333024,
          1.119552848398014,
          1.1549928797053004,
          1.1661252341339305,
          1.1598239691811856,
          1.1445848211604497,
          1.1318691371894634,
          1.1355074793972004,
          1.11700099236867,
          1.0959518968019168,
          1.0566350240505595,
          0.9700018515997293,
          0.8536345455851198,
          0.6413704741214876,
          0.4558809018755363,
          0.7287713401787174,
          0.8733764029171488,
          0.9215365429030652,
          0.9456013070477788,
          0.9870067233801431,
          1.036018143729614,
          1.0477804577794905,
          0.8740167045232624,
          0.9564154011938383,
          1.0132194277072484,
          1.0555507192732891,
          1.084881131662441,
          1.0988494866718321,
          1.111074048263734,
          1.1357583382990892,
          1.1598399689453858,
          1.173527804543659,
          1.175938844971452,
          1.16458362319682,
          1.101811264795308,
          0.9577216915146375,
          0.8723925527554931,
          0.6910075814759319,
          0.5488023273498144,
          0.8767507768105126,
          1.067406045983885,
          1.1259695035039945,
          1.1645436957864652,
          1.2186975285161503,
          1.289998371650082,
          1.328796069983689,
          1.1414401046755847,
          1.0607625745456606,
          1.0319449627678468,
          1.053854883059892,
          1.091085708164316,
          1.1303220737411281,
          1.146713516361704,
          1.1627891302522526,
          1.1749403228330493,
          1.169610797596265,
          1.1685725484448968,
          1.1595678990301963,
          1.1371436992426187,
          1.0896696121152674,
          0.9671255677037283,
          0.6869834852475138,
          0.9344540614507212,
          0.9757604775298648,
          0.9790638151528351,
          1.007854405534274,
          1.0747109408750448,
          1.109385946030966,
          0.9934909788521195,
          1.0794002562260816,
          1.203450176074618,
          1.2463065832066402,
          1.1961105209963556,
          1.2071597902734044,
          1.220055313812346,
          1.2506562941683657,
          1.2595012604754416,
          1.2614061037913853,
          1.2517792624514816,
          1.253605935724771,
          1.2228024251906982,
          1.2197346400314375,
          1.164928120765388,
          0.5804386258697016,
          0.5652950983259303,
          0.9322013503226964,
          1.151548427289287,
          1.2448789126319386,
          1.2770230372006715,
          1.293653092989543,
          1.3260389145883262,
          1.3372764061231777,
          0.8685182572261221,
          1.0109509172534927,
          1.1071923232546281,
          1.1351165588058365,
          1.0947399822088713,
          1.1183981194413957,
          1.154216933618683,
          1.161802464943926,
          1.1630270413934567,
          1.1654012645344856,
          1.151199066635807,
          1.1426123597336904,
          1.139198718018415,
          1.1176805573368536,
          1.1154809408236,
          1.077076470917054,
          0.9741306031953846,
          0.9189387184760122,
          1.3666991054637585,
          1.3929151886742943,
          1.4070865690134349,
          1.4204502918571906,
          1.4428178940165939,
          1.4359514370675808,
          0.8721975811069927,
          1.0154581308157278,
          1.1170798377125073,
          1.1297801475371574,
          1.0903222389007678,
          1.1137557754426741,
          1.1561793019531985,
          1.176312878337511,
          1.1881213945390472,
          1.1922532669545156,
          1.193564556567184,
          1.1970915405201532,
          1.165834140424059,
          1.1330752811531755,
          1.0998022119783608,
          1.0713157015181352,
          1.0095066223135916,
          0.6639372393067019,
          1.1709986832619472,
          1.2085718133157286,
          1.2222290462533076,
          1.2242876568479526,
          1.2629912235240774,
          1.2716012309829485,
          0.9237142367871584,
          1.0317755103951483,
          1.1358062764009553,
          1.1616257057652142,
          1.1233112293724599,
          1.1368852378836678,
          1.1747263705835866,
          1.1792499641153784,
          1.17141674960673,
          1.155214654751773,
          1.121519786799147,
          1.127587919843257,
          1.1214059743495841,
          1.0967949463805788,
          1.0577569783463476,
          0.9890490529260311,
          0.7929485860132299,
          1.1398498934444878,
          1.315639554375531,
          1.3741709703700442,
          1.3938848387667437,
          1.4103326576828732,
          1.4289285855531662,
          1.4173220686047507,
          0.8617573296256262,
          0.9405789512532484,
          1.0269172629861634,
          1.0852958395424288,
          1.1304250941646286,
          1.1523248639298955,
          1.1541606651302516,
          1.1515526659085993,
          1.1533668881351355,
          1.1666760570286632,
          1.179712298393471,
          1.1781229328391705,
          1.14369011687907,
          1.1003055145615814,
          1.0630614800292577,
          1.009573963781799,
          0.9480467087240029,
          0.8105311241675152,
          0.7066488704219452,
          1.1511531746621702,
          1.256188137691508,
          1.284920390024886,
          1.2888904588630674,
          1.3135176088489475,
          1.3506791597459145,
          1.329151758624431,
          1.061374157490626,
          1.0781053685117177,
          1.105035446184952,
          1.14050744607413,
          1.1598041281899403,
          1.1606478527752215,
          1.1584192809069374,
          1.1517235287493426,
          1.1234665709178848,
          1.105399096212464,
          1.0936288901740905,
          1.106276894041205,
          1.1079355113043299,
          1.054786553656171,
          0.9697124433355105,
          0.8440118329563261,
          0.5949940224356696,
          0.6925346520949006,
          0.8318484253948267,
          0.9020399526726172,
          0.9597552034614921,
          1.0246487404587015,
          1.1052870244349389,
          1.1530945567361917,
          1.1593724433948587,
          1.1638259250708398,
          1.1537486287728258,
          1.1988240678815651,
          1.2517811874340372,
          1.2709401434680991,
          1.2757873375124336,
          1.286515113673543,
          1.289394647358949,
          1.2565699513271957,
          1.2206028818881318,
          1.0042205243839604,
          0.8044474562364039,
          0.6841541699580853,
          0.6626254557779326,
          0.9007739793891743,
          1.2608719707489524,
          1.3672676799511623,
          1.404185393943857,
          1.419944388396946,
          1.4514898761125778,
          1.4571645649420344,
          0.9539567202882605,
          1.097692992684625,
          1.1786063852633326,
          1.2059048160914532,
          1.1820873649047419,
          1.2015619209204818,
          1.2290748498052337,
          1.2351668480879938,
          1.2331111409147801,
          1.2263154793044997,
          1.213679070746444,
          1.193303912345866,
          1.1706392372104102,
          1.152620576513618,
          1.138781636703496,
          1.0886262373294828,
          0.971604666849136,
          1.340338581553328,
          1.4849503622502749,
          1.5092223107582077,
          1.5226205917085,
          1.5318503263804402,
          1.553141522930936,
          1.5306448751750326,
          0.933584789040293,
          1.0673666225382725,
          1.1509486283369825,
          1.1705415180278111,
          1.1427567935320875,
          1.1707481329086837,
          1.201798342667939,
          1.213360696273823,
          1.2183424718507971,
          1.2048091145212916,
          1.198781810256093,
          1.1801500743545958,
          1.1557496358839414,
          1.1305730463825603,
          1.120055312809352,
          1.0780804334150615,
          0.9829585118515255,
          1.0112179450337513
         ]
        },
        {
         "name": "Threshold",
         "type": "scatter",
         "x": [
          "2013-07-02T00:00:00",
          "2013-07-02T01:00:00",
          "2013-07-02T02:00:00",
          "2013-07-02T03:00:00",
          "2013-07-02T04:00:00",
          "2013-07-02T05:00:00",
          "2013-07-02T06:00:00",
          "2013-07-02T07:00:00",
          "2013-07-02T08:00:00",
          "2013-07-02T09:00:00",
          "2013-07-02T10:00:00",
          "2013-07-02T11:00:00",
          "2013-07-02T12:00:00",
          "2013-07-02T13:00:00",
          "2013-07-02T14:00:00",
          "2013-07-02T15:00:00",
          "2013-07-02T16:00:00",
          "2013-07-02T17:00:00",
          "2013-07-02T18:00:00",
          "2013-07-02T19:00:00",
          "2013-07-02T20:00:00",
          "2013-07-02T21:00:00",
          "2013-07-02T22:00:00",
          "2013-07-02T23:00:00",
          "2013-07-03T00:00:00",
          "2013-07-03T01:00:00",
          "2013-07-03T02:00:00",
          "2013-07-03T03:00:00",
          "2013-07-03T04:00:00",
          "2013-07-03T05:00:00",
          "2013-07-03T06:00:00",
          "2013-07-03T07:00:00",
          "2013-07-03T08:00:00",
          "2013-07-03T09:00:00",
          "2013-07-03T10:00:00",
          "2013-07-03T11:00:00",
          "2013-07-03T12:00:00",
          "2013-07-03T13:00:00",
          "2013-07-03T14:00:00",
          "2013-07-03T15:00:00",
          "2013-07-03T16:00:00",
          "2013-07-03T17:00:00",
          "2013-07-03T18:00:00",
          "2013-07-03T19:00:00",
          "2013-07-03T20:00:00",
          "2013-07-03T21:00:00",
          "2013-07-03T22:00:00",
          "2013-07-03T23:00:00",
          "2013-07-04T00:00:00",
          "2013-07-04T01:00:00",
          "2013-07-04T02:00:00",
          "2013-07-04T03:00:00",
          "2013-07-04T04:00:00",
          "2013-07-04T05:00:00",
          "2013-07-04T06:00:00",
          "2013-07-04T07:00:00",
          "2013-07-04T08:00:00",
          "2013-07-04T09:00:00",
          "2013-07-04T10:00:00",
          "2013-07-04T11:00:00",
          "2013-07-04T12:00:00",
          "2013-07-04T13:00:00",
          "2013-07-04T14:00:00",
          "2013-07-04T15:00:00",
          "2013-07-04T16:00:00",
          "2013-07-04T17:00:00",
          "2013-07-04T18:00:00",
          "2013-07-04T19:00:00",
          "2013-07-04T20:00:00",
          "2013-07-04T21:00:00",
          "2013-07-04T22:00:00",
          "2013-07-04T23:00:00",
          "2013-07-05T00:00:00",
          "2013-07-05T01:00:00",
          "2013-07-05T02:00:00",
          "2013-07-05T03:00:00",
          "2013-07-05T04:00:00",
          "2013-07-05T05:00:00",
          "2013-07-05T06:00:00",
          "2013-07-05T07:00:00",
          "2013-07-05T08:00:00",
          "2013-07-05T09:00:00",
          "2013-07-05T10:00:00",
          "2013-07-05T11:00:00",
          "2013-07-05T12:00:00",
          "2013-07-05T13:00:00",
          "2013-07-05T14:00:00",
          "2013-07-05T15:00:00",
          "2013-07-05T16:00:00",
          "2013-07-05T17:00:00",
          "2013-07-05T18:00:00",
          "2013-07-05T19:00:00",
          "2013-07-05T20:00:00",
          "2013-07-05T21:00:00",
          "2013-07-05T22:00:00",
          "2013-07-05T23:00:00",
          "2013-07-06T00:00:00",
          "2013-07-06T01:00:00",
          "2013-07-06T02:00:00",
          "2013-07-06T03:00:00",
          "2013-07-06T04:00:00",
          "2013-07-06T05:00:00",
          "2013-07-06T06:00:00",
          "2013-07-06T07:00:00",
          "2013-07-06T08:00:00",
          "2013-07-06T09:00:00",
          "2013-07-06T10:00:00",
          "2013-07-06T11:00:00",
          "2013-07-06T12:00:00",
          "2013-07-06T13:00:00",
          "2013-07-06T14:00:00",
          "2013-07-06T15:00:00",
          "2013-07-06T16:00:00",
          "2013-07-06T17:00:00",
          "2013-07-06T18:00:00",
          "2013-07-06T19:00:00",
          "2013-07-06T20:00:00",
          "2013-07-06T21:00:00",
          "2013-07-06T22:00:00",
          "2013-07-06T23:00:00",
          "2013-07-07T00:00:00",
          "2013-07-07T01:00:00",
          "2013-07-07T02:00:00",
          "2013-07-07T03:00:00",
          "2013-07-07T04:00:00",
          "2013-07-07T05:00:00",
          "2013-07-07T06:00:00",
          "2013-07-07T07:00:00",
          "2013-07-07T08:00:00",
          "2013-07-07T09:00:00",
          "2013-07-07T10:00:00",
          "2013-07-07T11:00:00",
          "2013-07-07T12:00:00",
          "2013-07-07T13:00:00",
          "2013-07-07T14:00:00",
          "2013-07-07T15:00:00",
          "2013-07-07T16:00:00",
          "2013-07-07T17:00:00",
          "2013-07-07T18:00:00",
          "2013-07-07T19:00:00",
          "2013-07-07T20:00:00",
          "2013-07-07T21:00:00",
          "2013-07-07T22:00:00",
          "2013-07-07T23:00:00",
          "2013-07-08T00:00:00",
          "2013-07-08T01:00:00",
          "2013-07-08T02:00:00",
          "2013-07-08T03:00:00",
          "2013-07-08T04:00:00",
          "2013-07-08T05:00:00",
          "2013-07-08T06:00:00",
          "2013-07-08T07:00:00",
          "2013-07-08T08:00:00",
          "2013-07-08T09:00:00",
          "2013-07-08T10:00:00",
          "2013-07-08T11:00:00",
          "2013-07-08T12:00:00",
          "2013-07-08T13:00:00",
          "2013-07-08T14:00:00",
          "2013-07-08T15:00:00",
          "2013-07-08T16:00:00",
          "2013-07-08T17:00:00",
          "2013-07-08T18:00:00",
          "2013-07-08T19:00:00",
          "2013-07-08T20:00:00",
          "2013-07-08T21:00:00",
          "2013-07-08T22:00:00",
          "2013-07-08T23:00:00",
          "2013-07-09T00:00:00",
          "2013-07-09T01:00:00",
          "2013-07-09T02:00:00",
          "2013-07-09T03:00:00",
          "2013-07-09T04:00:00",
          "2013-07-09T05:00:00",
          "2013-07-09T06:00:00",
          "2013-07-09T07:00:00",
          "2013-07-09T08:00:00",
          "2013-07-09T09:00:00",
          "2013-07-09T10:00:00",
          "2013-07-09T11:00:00",
          "2013-07-09T12:00:00",
          "2013-07-09T13:00:00",
          "2013-07-09T14:00:00",
          "2013-07-09T15:00:00",
          "2013-07-09T16:00:00",
          "2013-07-09T17:00:00",
          "2013-07-09T18:00:00",
          "2013-07-09T19:00:00",
          "2013-07-09T20:00:00",
          "2013-07-09T21:00:00",
          "2013-07-09T22:00:00",
          "2013-07-09T23:00:00",
          "2013-07-10T00:00:00",
          "2013-07-10T01:00:00",
          "2013-07-10T02:00:00",
          "2013-07-10T03:00:00",
          "2013-07-10T04:00:00",
          "2013-07-10T05:00:00",
          "2013-07-10T06:00:00",
          "2013-07-10T07:00:00",
          "2013-07-10T08:00:00",
          "2013-07-10T09:00:00",
          "2013-07-10T10:00:00",
          "2013-07-10T11:00:00",
          "2013-07-10T12:00:00",
          "2013-07-10T13:00:00",
          "2013-07-10T14:00:00",
          "2013-07-10T15:00:00",
          "2013-07-10T16:00:00",
          "2013-07-10T17:00:00",
          "2013-07-10T18:00:00",
          "2013-07-10T19:00:00",
          "2013-07-10T20:00:00",
          "2013-07-10T21:00:00",
          "2013-07-10T22:00:00",
          "2013-07-10T23:00:00",
          "2013-07-11T00:00:00",
          "2013-07-11T01:00:00",
          "2013-07-11T02:00:00",
          "2013-07-11T03:00:00",
          "2013-07-11T04:00:00",
          "2013-07-11T05:00:00",
          "2013-07-11T06:00:00",
          "2013-07-11T07:00:00",
          "2013-07-11T08:00:00",
          "2013-07-11T09:00:00",
          "2013-07-11T10:00:00",
          "2013-07-11T11:00:00",
          "2013-07-11T12:00:00",
          "2013-07-11T13:00:00",
          "2013-07-11T14:00:00",
          "2013-07-11T15:00:00",
          "2013-07-11T16:00:00",
          "2013-07-11T17:00:00",
          "2013-07-11T18:00:00",
          "2013-07-11T19:00:00",
          "2013-07-11T20:00:00",
          "2013-07-11T21:00:00",
          "2013-07-11T22:00:00",
          "2013-07-11T23:00:00",
          "2013-07-12T00:00:00",
          "2013-07-12T01:00:00",
          "2013-07-12T02:00:00",
          "2013-07-12T03:00:00",
          "2013-07-12T04:00:00",
          "2013-07-12T05:00:00",
          "2013-07-12T06:00:00",
          "2013-07-12T07:00:00",
          "2013-07-12T08:00:00",
          "2013-07-12T09:00:00",
          "2013-07-12T10:00:00",
          "2013-07-12T11:00:00",
          "2013-07-12T12:00:00",
          "2013-07-12T13:00:00",
          "2013-07-12T14:00:00",
          "2013-07-12T15:00:00",
          "2013-07-12T16:00:00",
          "2013-07-12T17:00:00",
          "2013-07-12T18:00:00",
          "2013-07-12T19:00:00",
          "2013-07-12T20:00:00",
          "2013-07-12T21:00:00",
          "2013-07-12T22:00:00",
          "2013-07-12T23:00:00",
          "2013-07-13T00:00:00",
          "2013-07-13T01:00:00",
          "2013-07-13T02:00:00",
          "2013-07-13T03:00:00",
          "2013-07-13T04:00:00",
          "2013-07-13T05:00:00",
          "2013-07-13T06:00:00",
          "2013-07-13T07:00:00",
          "2013-07-13T08:00:00",
          "2013-07-13T09:00:00",
          "2013-07-13T10:00:00",
          "2013-07-13T11:00:00",
          "2013-07-13T12:00:00",
          "2013-07-13T13:00:00",
          "2013-07-13T14:00:00",
          "2013-07-13T15:00:00",
          "2013-07-13T16:00:00",
          "2013-07-13T17:00:00",
          "2013-07-13T18:00:00",
          "2013-07-13T19:00:00",
          "2013-07-13T20:00:00",
          "2013-07-13T21:00:00",
          "2013-07-13T22:00:00",
          "2013-07-13T23:00:00",
          "2013-07-14T00:00:00",
          "2013-07-14T01:00:00",
          "2013-07-14T02:00:00",
          "2013-07-14T03:00:00",
          "2013-07-14T04:00:00",
          "2013-07-14T05:00:00",
          "2013-07-14T06:00:00",
          "2013-07-14T07:00:00",
          "2013-07-14T08:00:00",
          "2013-07-14T09:00:00",
          "2013-07-14T10:00:00",
          "2013-07-14T11:00:00",
          "2013-07-14T12:00:00",
          "2013-07-14T13:00:00",
          "2013-07-14T14:00:00",
          "2013-07-14T15:00:00",
          "2013-07-14T16:00:00",
          "2013-07-14T17:00:00",
          "2013-07-14T18:00:00",
          "2013-07-14T19:00:00",
          "2013-07-14T20:00:00",
          "2013-07-14T21:00:00",
          "2013-07-14T22:00:00",
          "2013-07-14T23:00:00",
          "2013-07-15T00:00:00",
          "2013-07-15T01:00:00",
          "2013-07-15T02:00:00",
          "2013-07-15T03:00:00",
          "2013-07-15T04:00:00",
          "2013-07-15T05:00:00",
          "2013-07-15T06:00:00",
          "2013-07-15T07:00:00",
          "2013-07-15T08:00:00",
          "2013-07-15T09:00:00",
          "2013-07-15T10:00:00",
          "2013-07-15T11:00:00",
          "2013-07-15T12:00:00",
          "2013-07-15T13:00:00",
          "2013-07-15T14:00:00",
          "2013-07-15T15:00:00",
          "2013-07-15T16:00:00",
          "2013-07-15T17:00:00",
          "2013-07-15T18:00:00",
          "2013-07-15T19:00:00",
          "2013-07-15T20:00:00",
          "2013-07-15T21:00:00",
          "2013-07-15T22:00:00",
          "2013-07-15T23:00:00",
          "2013-07-16T00:00:00",
          "2013-07-16T01:00:00",
          "2013-07-16T02:00:00",
          "2013-07-16T03:00:00",
          "2013-07-16T04:00:00",
          "2013-07-16T05:00:00",
          "2013-07-16T06:00:00",
          "2013-07-16T07:00:00",
          "2013-07-16T08:00:00",
          "2013-07-16T09:00:00",
          "2013-07-16T10:00:00",
          "2013-07-16T11:00:00",
          "2013-07-16T12:00:00",
          "2013-07-16T13:00:00",
          "2013-07-16T14:00:00",
          "2013-07-16T15:00:00",
          "2013-07-16T16:00:00",
          "2013-07-16T17:00:00",
          "2013-07-16T18:00:00",
          "2013-07-16T19:00:00",
          "2013-07-16T20:00:00",
          "2013-07-16T21:00:00",
          "2013-07-16T22:00:00",
          "2013-07-16T23:00:00",
          "2013-07-17T00:00:00",
          "2013-07-17T01:00:00",
          "2013-07-17T02:00:00",
          "2013-07-17T03:00:00",
          "2013-07-17T04:00:00",
          "2013-07-17T05:00:00",
          "2013-07-17T06:00:00",
          "2013-07-17T07:00:00",
          "2013-07-17T08:00:00",
          "2013-07-17T09:00:00",
          "2013-07-17T10:00:00",
          "2013-07-17T11:00:00",
          "2013-07-17T12:00:00",
          "2013-07-17T13:00:00",
          "2013-07-17T14:00:00",
          "2013-07-17T15:00:00",
          "2013-07-17T16:00:00",
          "2013-07-17T17:00:00",
          "2013-07-17T18:00:00",
          "2013-07-17T19:00:00",
          "2013-07-17T20:00:00",
          "2013-07-17T21:00:00",
          "2013-07-17T22:00:00",
          "2013-07-17T23:00:00",
          "2013-07-18T00:00:00",
          "2013-07-18T01:00:00",
          "2013-07-18T02:00:00",
          "2013-07-18T03:00:00",
          "2013-07-18T04:00:00",
          "2013-07-18T05:00:00",
          "2013-07-18T06:00:00",
          "2013-07-18T07:00:00",
          "2013-07-18T08:00:00",
          "2013-07-18T09:00:00",
          "2013-07-18T10:00:00",
          "2013-07-18T11:00:00",
          "2013-07-18T12:00:00",
          "2013-07-18T13:00:00",
          "2013-07-18T14:00:00",
          "2013-07-18T15:00:00",
          "2013-07-18T16:00:00",
          "2013-07-18T17:00:00",
          "2013-07-18T18:00:00",
          "2013-07-18T19:00:00",
          "2013-07-18T20:00:00",
          "2013-07-18T21:00:00",
          "2013-07-18T22:00:00",
          "2013-07-18T23:00:00",
          "2013-07-19T00:00:00",
          "2013-07-19T01:00:00",
          "2013-07-19T02:00:00",
          "2013-07-19T03:00:00",
          "2013-07-19T04:00:00",
          "2013-07-19T05:00:00",
          "2013-07-19T06:00:00",
          "2013-07-19T07:00:00",
          "2013-07-19T08:00:00",
          "2013-07-19T09:00:00",
          "2013-07-19T10:00:00",
          "2013-07-19T11:00:00",
          "2013-07-19T12:00:00",
          "2013-07-19T13:00:00",
          "2013-07-19T14:00:00",
          "2013-07-19T15:00:00",
          "2013-07-19T16:00:00",
          "2013-07-19T17:00:00",
          "2013-07-19T18:00:00",
          "2013-07-19T19:00:00",
          "2013-07-19T20:00:00",
          "2013-07-19T21:00:00",
          "2013-07-19T22:00:00",
          "2013-07-19T23:00:00",
          "2013-07-20T00:00:00",
          "2013-07-20T01:00:00",
          "2013-07-20T02:00:00",
          "2013-07-20T03:00:00",
          "2013-07-20T04:00:00",
          "2013-07-20T05:00:00",
          "2013-07-20T06:00:00",
          "2013-07-20T07:00:00",
          "2013-07-20T08:00:00",
          "2013-07-20T09:00:00",
          "2013-07-20T10:00:00",
          "2013-07-20T11:00:00",
          "2013-07-20T12:00:00",
          "2013-07-20T13:00:00",
          "2013-07-20T14:00:00",
          "2013-07-20T15:00:00",
          "2013-07-20T16:00:00",
          "2013-07-20T17:00:00",
          "2013-07-20T18:00:00",
          "2013-07-20T19:00:00",
          "2013-07-20T20:00:00",
          "2013-07-20T21:00:00",
          "2013-07-20T22:00:00",
          "2013-07-20T23:00:00",
          "2013-07-21T00:00:00",
          "2013-07-21T01:00:00",
          "2013-07-21T02:00:00",
          "2013-07-21T03:00:00",
          "2013-07-21T04:00:00",
          "2013-07-21T05:00:00",
          "2013-07-21T06:00:00",
          "2013-07-21T07:00:00",
          "2013-07-21T08:00:00",
          "2013-07-21T09:00:00",
          "2013-07-21T10:00:00",
          "2013-07-21T11:00:00",
          "2013-07-21T12:00:00",
          "2013-07-21T13:00:00",
          "2013-07-21T14:00:00",
          "2013-07-21T15:00:00",
          "2013-07-21T16:00:00",
          "2013-07-21T17:00:00",
          "2013-07-21T18:00:00",
          "2013-07-21T19:00:00",
          "2013-07-21T20:00:00",
          "2013-07-21T21:00:00",
          "2013-07-21T22:00:00",
          "2013-07-21T23:00:00",
          "2013-07-22T00:00:00",
          "2013-07-22T01:00:00",
          "2013-07-22T02:00:00",
          "2013-07-22T03:00:00",
          "2013-07-22T04:00:00",
          "2013-07-22T05:00:00",
          "2013-07-22T06:00:00",
          "2013-07-22T07:00:00",
          "2013-07-22T08:00:00",
          "2013-07-22T09:00:00",
          "2013-07-22T10:00:00",
          "2013-07-22T11:00:00",
          "2013-07-22T12:00:00",
          "2013-07-22T13:00:00",
          "2013-07-22T14:00:00",
          "2013-07-22T15:00:00",
          "2013-07-22T16:00:00",
          "2013-07-22T17:00:00",
          "2013-07-22T18:00:00",
          "2013-07-22T19:00:00",
          "2013-07-22T20:00:00",
          "2013-07-22T21:00:00",
          "2013-07-22T22:00:00",
          "2013-07-22T23:00:00",
          "2013-07-23T00:00:00",
          "2013-07-23T01:00:00",
          "2013-07-23T02:00:00",
          "2013-07-23T03:00:00",
          "2013-07-23T04:00:00",
          "2013-07-23T05:00:00",
          "2013-07-23T06:00:00",
          "2013-07-23T07:00:00",
          "2013-07-23T08:00:00",
          "2013-07-23T09:00:00",
          "2013-07-23T10:00:00",
          "2013-07-23T11:00:00",
          "2013-07-23T12:00:00",
          "2013-07-23T13:00:00",
          "2013-07-23T14:00:00",
          "2013-07-23T15:00:00",
          "2013-07-23T16:00:00",
          "2013-07-23T17:00:00",
          "2013-07-23T18:00:00",
          "2013-07-23T19:00:00",
          "2013-07-23T20:00:00",
          "2013-07-23T21:00:00",
          "2013-07-23T22:00:00",
          "2013-07-23T23:00:00",
          "2013-07-24T00:00:00",
          "2013-07-24T01:00:00",
          "2013-07-24T02:00:00",
          "2013-07-24T03:00:00",
          "2013-07-24T04:00:00",
          "2013-07-24T05:00:00",
          "2013-07-24T06:00:00",
          "2013-07-24T07:00:00",
          "2013-07-24T08:00:00",
          "2013-07-24T09:00:00",
          "2013-07-24T10:00:00",
          "2013-07-24T11:00:00",
          "2013-07-24T12:00:00",
          "2013-07-24T13:00:00",
          "2013-07-24T14:00:00",
          "2013-07-24T15:00:00",
          "2013-07-24T16:00:00",
          "2013-07-24T17:00:00",
          "2013-07-24T18:00:00",
          "2013-07-24T19:00:00",
          "2013-07-24T20:00:00",
          "2013-07-24T21:00:00",
          "2013-07-24T22:00:00",
          "2013-07-24T23:00:00",
          "2013-07-25T00:00:00",
          "2013-07-25T01:00:00",
          "2013-07-25T02:00:00",
          "2013-07-25T03:00:00",
          "2013-07-25T04:00:00",
          "2013-07-25T05:00:00",
          "2013-07-25T06:00:00",
          "2013-07-25T07:00:00",
          "2013-07-25T08:00:00",
          "2013-07-25T09:00:00",
          "2013-07-25T10:00:00",
          "2013-07-25T11:00:00",
          "2013-07-25T12:00:00",
          "2013-07-25T13:00:00",
          "2013-07-25T14:00:00",
          "2013-07-25T15:00:00",
          "2013-07-25T16:00:00",
          "2013-07-25T17:00:00",
          "2013-07-25T18:00:00",
          "2013-07-25T19:00:00",
          "2013-07-25T20:00:00",
          "2013-07-25T21:00:00",
          "2013-07-25T22:00:00",
          "2013-07-25T23:00:00",
          "2013-07-26T00:00:00",
          "2013-07-26T01:00:00",
          "2013-07-26T02:00:00",
          "2013-07-26T03:00:00",
          "2013-07-26T04:00:00",
          "2013-07-26T05:00:00",
          "2013-07-26T06:00:00",
          "2013-07-26T07:00:00",
          "2013-07-26T08:00:00",
          "2013-07-26T09:00:00",
          "2013-07-26T10:00:00",
          "2013-07-26T11:00:00",
          "2013-07-26T12:00:00",
          "2013-07-26T13:00:00",
          "2013-07-26T14:00:00",
          "2013-07-26T15:00:00",
          "2013-07-26T16:00:00",
          "2013-07-26T17:00:00",
          "2013-07-26T18:00:00",
          "2013-07-26T19:00:00",
          "2013-07-26T20:00:00",
          "2013-07-26T21:00:00",
          "2013-07-26T22:00:00",
          "2013-07-26T23:00:00",
          "2013-07-27T00:00:00",
          "2013-07-27T01:00:00",
          "2013-07-27T02:00:00",
          "2013-07-27T03:00:00",
          "2013-07-27T04:00:00",
          "2013-07-27T05:00:00",
          "2013-07-27T06:00:00",
          "2013-07-27T07:00:00",
          "2013-07-27T08:00:00",
          "2013-07-27T09:00:00",
          "2013-07-27T10:00:00",
          "2013-07-27T11:00:00",
          "2013-07-27T12:00:00",
          "2013-07-27T13:00:00",
          "2013-07-27T14:00:00",
          "2013-07-27T15:00:00",
          "2013-07-27T16:00:00",
          "2013-07-27T17:00:00",
          "2013-07-27T18:00:00",
          "2013-07-27T19:00:00",
          "2013-07-27T20:00:00",
          "2013-07-27T21:00:00",
          "2013-07-27T22:00:00",
          "2013-07-27T23:00:00",
          "2013-07-28T00:00:00",
          "2013-07-28T01:00:00",
          "2013-07-28T02:00:00",
          "2013-07-28T03:00:00",
          "2013-07-28T04:00:00",
          "2013-07-28T05:00:00",
          "2013-07-28T06:00:00",
          "2013-07-28T07:00:00",
          "2013-07-28T08:00:00",
          "2013-07-28T09:00:00",
          "2013-07-28T10:00:00",
          "2013-07-28T11:00:00",
          "2013-07-28T12:00:00",
          "2013-07-28T13:00:00",
          "2013-07-28T14:00:00",
          "2013-07-28T15:00:00",
          "2013-07-28T16:00:00",
          "2013-07-28T17:00:00",
          "2013-07-28T18:00:00",
          "2013-07-28T19:00:00",
          "2013-07-28T20:00:00",
          "2013-07-28T21:00:00",
          "2013-07-28T22:00:00",
          "2013-07-28T23:00:00",
          "2013-07-29T00:00:00",
          "2013-07-29T01:00:00",
          "2013-07-29T02:00:00",
          "2013-07-29T03:00:00",
          "2013-07-29T04:00:00",
          "2013-07-29T05:00:00",
          "2013-07-29T06:00:00",
          "2013-07-29T07:00:00",
          "2013-07-29T08:00:00",
          "2013-07-29T09:00:00",
          "2013-07-29T10:00:00",
          "2013-07-29T11:00:00",
          "2013-07-29T12:00:00",
          "2013-07-29T13:00:00",
          "2013-07-29T14:00:00",
          "2013-07-29T15:00:00",
          "2013-07-29T16:00:00",
          "2013-07-29T17:00:00",
          "2013-07-29T18:00:00",
          "2013-07-29T19:00:00",
          "2013-07-29T20:00:00",
          "2013-07-29T21:00:00",
          "2013-07-29T22:00:00",
          "2013-07-29T23:00:00",
          "2013-07-30T00:00:00",
          "2013-07-30T01:00:00",
          "2013-07-30T02:00:00",
          "2013-07-30T03:00:00",
          "2013-07-30T04:00:00",
          "2013-07-30T05:00:00",
          "2013-07-30T06:00:00",
          "2013-07-30T07:00:00",
          "2013-07-30T08:00:00",
          "2013-07-30T09:00:00",
          "2013-07-30T10:00:00",
          "2013-07-30T11:00:00",
          "2013-07-30T12:00:00",
          "2013-07-30T13:00:00",
          "2013-07-30T14:00:00",
          "2013-07-30T15:00:00",
          "2013-07-30T16:00:00",
          "2013-07-30T17:00:00",
          "2013-07-30T18:00:00",
          "2013-07-30T19:00:00",
          "2013-07-30T20:00:00",
          "2013-07-30T21:00:00",
          "2013-07-30T22:00:00",
          "2013-07-30T23:00:00",
          "2013-07-31T00:00:00",
          "2013-07-31T01:00:00",
          "2013-07-31T02:00:00",
          "2013-07-31T03:00:00",
          "2013-07-31T04:00:00",
          "2013-07-31T05:00:00",
          "2013-07-31T06:00:00",
          "2013-07-31T07:00:00",
          "2013-07-31T08:00:00",
          "2013-07-31T09:00:00",
          "2013-07-31T10:00:00",
          "2013-07-31T11:00:00",
          "2013-07-31T12:00:00",
          "2013-07-31T13:00:00",
          "2013-07-31T14:00:00",
          "2013-07-31T15:00:00",
          "2013-07-31T16:00:00",
          "2013-07-31T17:00:00",
          "2013-07-31T18:00:00",
          "2013-07-31T19:00:00",
          "2013-07-31T20:00:00",
          "2013-07-31T21:00:00",
          "2013-07-31T22:00:00",
          "2013-07-31T23:00:00"
         ],
         "y": [
          1.553141522930936,
          1.553141522930936,
          1.553141522930936,
          1.553141522930936,
          1.553141522930936,
          1.553141522930936,
          1.553141522930936,
          1.553141522930936,
          1.553141522930936,
          1.553141522930936,
          1.553141522930936,
          1.553141522930936,
          1.553141522930936,
          1.553141522930936,
          1.553141522930936,
          1.553141522930936,
          1.553141522930936,
          1.553141522930936,
          1.553141522930936,
          1.553141522930936,
          1.553141522930936,
          1.553141522930936,
          1.553141522930936,
          1.553141522930936,
          1.553141522930936,
          1.553141522930936,
          1.553141522930936,
          1.553141522930936,
          1.553141522930936,
          1.553141522930936,
          1.553141522930936,
          1.553141522930936,
          1.553141522930936,
          1.553141522930936,
          1.553141522930936,
          1.553141522930936,
          1.553141522930936,
          1.553141522930936,
          1.553141522930936,
          1.553141522930936,
          1.553141522930936,
          1.553141522930936,
          1.553141522930936,
          1.553141522930936,
          1.553141522930936,
          1.553141522930936,
          1.553141522930936,
          1.553141522930936,
          1.553141522930936,
          1.553141522930936,
          1.553141522930936,
          1.553141522930936,
          1.553141522930936,
          1.553141522930936,
          1.553141522930936,
          1.553141522930936,
          1.553141522930936,
          1.553141522930936,
          1.553141522930936,
          1.553141522930936,
          1.553141522930936,
          1.553141522930936,
          1.553141522930936,
          1.553141522930936,
          1.553141522930936,
          1.553141522930936,
          1.553141522930936,
          1.553141522930936,
          1.553141522930936,
          1.553141522930936,
          1.553141522930936,
          1.553141522930936,
          1.553141522930936,
          1.553141522930936,
          1.553141522930936,
          1.553141522930936,
          1.553141522930936,
          1.553141522930936,
          1.553141522930936,
          1.553141522930936,
          1.553141522930936,
          1.553141522930936,
          1.553141522930936,
          1.553141522930936,
          1.553141522930936,
          1.553141522930936,
          1.553141522930936,
          1.553141522930936,
          1.553141522930936,
          1.553141522930936,
          1.553141522930936,
          1.553141522930936,
          1.553141522930936,
          1.553141522930936,
          1.553141522930936,
          1.553141522930936,
          1.553141522930936,
          1.553141522930936,
          1.553141522930936,
          1.553141522930936,
          1.553141522930936,
          1.553141522930936,
          1.553141522930936,
          1.553141522930936,
          1.553141522930936,
          1.553141522930936,
          1.553141522930936,
          1.553141522930936,
          1.553141522930936,
          1.553141522930936,
          1.553141522930936,
          1.553141522930936,
          1.553141522930936,
          1.553141522930936,
          1.553141522930936,
          1.553141522930936,
          1.553141522930936,
          1.553141522930936,
          1.553141522930936,
          1.553141522930936,
          1.553141522930936,
          1.553141522930936,
          1.553141522930936,
          1.553141522930936,
          1.553141522930936,
          1.553141522930936,
          1.553141522930936,
          1.553141522930936,
          1.553141522930936,
          1.553141522930936,
          1.553141522930936,
          1.553141522930936,
          1.553141522930936,
          1.553141522930936,
          1.553141522930936,
          1.553141522930936,
          1.553141522930936,
          1.553141522930936,
          1.553141522930936,
          1.553141522930936,
          1.553141522930936,
          1.553141522930936,
          1.553141522930936,
          1.553141522930936,
          1.553141522930936,
          1.553141522930936,
          1.553141522930936,
          1.553141522930936,
          1.553141522930936,
          1.553141522930936,
          1.553141522930936,
          1.553141522930936,
          1.553141522930936,
          1.553141522930936,
          1.553141522930936,
          1.553141522930936,
          1.553141522930936,
          1.553141522930936,
          1.553141522930936,
          1.553141522930936,
          1.553141522930936,
          1.553141522930936,
          1.553141522930936,
          1.553141522930936,
          1.553141522930936,
          1.553141522930936,
          1.553141522930936,
          1.553141522930936,
          1.553141522930936,
          1.553141522930936,
          1.553141522930936,
          1.553141522930936,
          1.553141522930936,
          1.553141522930936,
          1.553141522930936,
          1.553141522930936,
          1.553141522930936,
          1.553141522930936,
          1.553141522930936,
          1.553141522930936,
          1.553141522930936,
          1.553141522930936,
          1.553141522930936,
          1.553141522930936,
          1.553141522930936,
          1.553141522930936,
          1.553141522930936,
          1.553141522930936,
          1.553141522930936,
          1.553141522930936,
          1.553141522930936,
          1.553141522930936,
          1.553141522930936,
          1.553141522930936,
          1.553141522930936,
          1.553141522930936,
          1.553141522930936,
          1.553141522930936,
          1.553141522930936,
          1.553141522930936,
          1.553141522930936,
          1.553141522930936,
          1.553141522930936,
          1.553141522930936,
          1.553141522930936,
          1.553141522930936,
          1.553141522930936,
          1.553141522930936,
          1.553141522930936,
          1.553141522930936,
          1.553141522930936,
          1.553141522930936,
          1.553141522930936,
          1.553141522930936,
          1.553141522930936,
          1.553141522930936,
          1.553141522930936,
          1.553141522930936,
          1.553141522930936,
          1.553141522930936,
          1.553141522930936,
          1.553141522930936,
          1.553141522930936,
          1.553141522930936,
          1.553141522930936,
          1.553141522930936,
          1.553141522930936,
          1.553141522930936,
          1.553141522930936,
          1.553141522930936,
          1.553141522930936,
          1.553141522930936,
          1.553141522930936,
          1.553141522930936,
          1.553141522930936,
          1.553141522930936,
          1.553141522930936,
          1.553141522930936,
          1.553141522930936,
          1.553141522930936,
          1.553141522930936,
          1.553141522930936,
          1.553141522930936,
          1.553141522930936,
          1.553141522930936,
          1.553141522930936,
          1.553141522930936,
          1.553141522930936,
          1.553141522930936,
          1.553141522930936,
          1.553141522930936,
          1.553141522930936,
          1.553141522930936,
          1.553141522930936,
          1.553141522930936,
          1.553141522930936,
          1.553141522930936,
          1.553141522930936,
          1.553141522930936,
          1.553141522930936,
          1.553141522930936,
          1.553141522930936,
          1.553141522930936,
          1.553141522930936,
          1.553141522930936,
          1.553141522930936,
          1.553141522930936,
          1.553141522930936,
          1.553141522930936,
          1.553141522930936,
          1.553141522930936,
          1.553141522930936,
          1.553141522930936,
          1.553141522930936,
          1.553141522930936,
          1.553141522930936,
          1.553141522930936,
          1.553141522930936,
          1.553141522930936,
          1.553141522930936,
          1.553141522930936,
          1.553141522930936,
          1.553141522930936,
          1.553141522930936,
          1.553141522930936,
          1.553141522930936,
          1.553141522930936,
          1.553141522930936,
          1.553141522930936,
          1.553141522930936,
          1.553141522930936,
          1.553141522930936,
          1.553141522930936,
          1.553141522930936,
          1.553141522930936,
          1.553141522930936,
          1.553141522930936,
          1.553141522930936,
          1.553141522930936,
          1.553141522930936,
          1.553141522930936,
          1.553141522930936,
          1.553141522930936,
          1.553141522930936,
          1.553141522930936,
          1.553141522930936,
          1.553141522930936,
          1.553141522930936,
          1.553141522930936,
          1.553141522930936,
          1.553141522930936,
          1.553141522930936,
          1.553141522930936,
          1.553141522930936,
          1.553141522930936,
          1.553141522930936,
          1.553141522930936,
          1.553141522930936,
          1.553141522930936,
          1.553141522930936,
          1.553141522930936,
          1.553141522930936,
          1.553141522930936,
          1.553141522930936,
          1.553141522930936,
          1.553141522930936,
          1.553141522930936,
          1.553141522930936,
          1.553141522930936,
          1.553141522930936,
          1.553141522930936,
          1.553141522930936,
          1.553141522930936,
          1.553141522930936,
          1.553141522930936,
          1.553141522930936,
          1.553141522930936,
          1.553141522930936,
          1.553141522930936,
          1.553141522930936,
          1.553141522930936,
          1.553141522930936,
          1.553141522930936,
          1.553141522930936,
          1.553141522930936,
          1.553141522930936,
          1.553141522930936,
          1.553141522930936,
          1.553141522930936,
          1.553141522930936,
          1.553141522930936,
          1.553141522930936,
          1.553141522930936,
          1.553141522930936,
          1.553141522930936,
          1.553141522930936,
          1.553141522930936,
          1.553141522930936,
          1.553141522930936,
          1.553141522930936,
          1.553141522930936,
          1.553141522930936,
          1.553141522930936,
          1.553141522930936,
          1.553141522930936,
          1.553141522930936,
          1.553141522930936,
          1.553141522930936,
          1.553141522930936,
          1.553141522930936,
          1.553141522930936,
          1.553141522930936,
          1.553141522930936,
          1.553141522930936,
          1.553141522930936,
          1.553141522930936,
          1.553141522930936,
          1.553141522930936,
          1.553141522930936,
          1.553141522930936,
          1.553141522930936,
          1.553141522930936,
          1.553141522930936,
          1.553141522930936,
          1.553141522930936,
          1.553141522930936,
          1.553141522930936,
          1.553141522930936,
          1.553141522930936,
          1.553141522930936,
          1.553141522930936,
          1.553141522930936,
          1.553141522930936,
          1.553141522930936,
          1.553141522930936,
          1.553141522930936,
          1.553141522930936,
          1.553141522930936,
          1.553141522930936,
          1.553141522930936,
          1.553141522930936,
          1.553141522930936,
          1.553141522930936,
          1.553141522930936,
          1.553141522930936,
          1.553141522930936,
          1.553141522930936,
          1.553141522930936,
          1.553141522930936,
          1.553141522930936,
          1.553141522930936,
          1.553141522930936,
          1.553141522930936,
          1.553141522930936,
          1.553141522930936,
          1.553141522930936,
          1.553141522930936,
          1.553141522930936,
          1.553141522930936,
          1.553141522930936,
          1.553141522930936,
          1.553141522930936,
          1.553141522930936,
          1.553141522930936,
          1.553141522930936,
          1.553141522930936,
          1.553141522930936,
          1.553141522930936,
          1.553141522930936,
          1.553141522930936,
          1.553141522930936,
          1.553141522930936,
          1.553141522930936,
          1.553141522930936,
          1.553141522930936,
          1.553141522930936,
          1.553141522930936,
          1.553141522930936,
          1.553141522930936,
          1.553141522930936,
          1.553141522930936,
          1.553141522930936,
          1.553141522930936,
          1.553141522930936,
          1.553141522930936,
          1.553141522930936,
          1.553141522930936,
          1.553141522930936,
          1.553141522930936,
          1.553141522930936,
          1.553141522930936,
          1.553141522930936,
          1.553141522930936,
          1.553141522930936,
          1.553141522930936,
          1.553141522930936,
          1.553141522930936,
          1.553141522930936,
          1.553141522930936,
          1.553141522930936,
          1.553141522930936,
          1.553141522930936,
          1.553141522930936,
          1.553141522930936,
          1.553141522930936,
          1.553141522930936,
          1.553141522930936,
          1.553141522930936,
          1.553141522930936,
          1.553141522930936,
          1.553141522930936,
          1.553141522930936,
          1.553141522930936,
          1.553141522930936,
          1.553141522930936,
          1.553141522930936,
          1.553141522930936,
          1.553141522930936,
          1.553141522930936,
          1.553141522930936,
          1.553141522930936,
          1.553141522930936,
          1.553141522930936,
          1.553141522930936,
          1.553141522930936,
          1.553141522930936,
          1.553141522930936,
          1.553141522930936,
          1.553141522930936,
          1.553141522930936,
          1.553141522930936,
          1.553141522930936,
          1.553141522930936,
          1.553141522930936,
          1.553141522930936,
          1.553141522930936,
          1.553141522930936,
          1.553141522930936,
          1.553141522930936,
          1.553141522930936,
          1.553141522930936,
          1.553141522930936,
          1.553141522930936,
          1.553141522930936,
          1.553141522930936,
          1.553141522930936,
          1.553141522930936,
          1.553141522930936,
          1.553141522930936,
          1.553141522930936,
          1.553141522930936,
          1.553141522930936,
          1.553141522930936,
          1.553141522930936,
          1.553141522930936,
          1.553141522930936,
          1.553141522930936,
          1.553141522930936,
          1.553141522930936,
          1.553141522930936,
          1.553141522930936,
          1.553141522930936,
          1.553141522930936,
          1.553141522930936,
          1.553141522930936,
          1.553141522930936,
          1.553141522930936,
          1.553141522930936,
          1.553141522930936,
          1.553141522930936,
          1.553141522930936,
          1.553141522930936,
          1.553141522930936,
          1.553141522930936,
          1.553141522930936,
          1.553141522930936,
          1.553141522930936,
          1.553141522930936,
          1.553141522930936,
          1.553141522930936,
          1.553141522930936,
          1.553141522930936,
          1.553141522930936,
          1.553141522930936,
          1.553141522930936,
          1.553141522930936,
          1.553141522930936,
          1.553141522930936,
          1.553141522930936,
          1.553141522930936,
          1.553141522930936,
          1.553141522930936,
          1.553141522930936,
          1.553141522930936,
          1.553141522930936,
          1.553141522930936,
          1.553141522930936,
          1.553141522930936,
          1.553141522930936,
          1.553141522930936,
          1.553141522930936,
          1.553141522930936,
          1.553141522930936,
          1.553141522930936,
          1.553141522930936,
          1.553141522930936,
          1.553141522930936,
          1.553141522930936,
          1.553141522930936,
          1.553141522930936,
          1.553141522930936,
          1.553141522930936,
          1.553141522930936,
          1.553141522930936,
          1.553141522930936,
          1.553141522930936,
          1.553141522930936,
          1.553141522930936,
          1.553141522930936,
          1.553141522930936,
          1.553141522930936,
          1.553141522930936,
          1.553141522930936,
          1.553141522930936,
          1.553141522930936,
          1.553141522930936,
          1.553141522930936,
          1.553141522930936,
          1.553141522930936,
          1.553141522930936,
          1.553141522930936,
          1.553141522930936,
          1.553141522930936,
          1.553141522930936,
          1.553141522930936,
          1.553141522930936,
          1.553141522930936,
          1.553141522930936,
          1.553141522930936,
          1.553141522930936,
          1.553141522930936,
          1.553141522930936,
          1.553141522930936,
          1.553141522930936,
          1.553141522930936,
          1.553141522930936,
          1.553141522930936,
          1.553141522930936,
          1.553141522930936,
          1.553141522930936,
          1.553141522930936,
          1.553141522930936,
          1.553141522930936,
          1.553141522930936,
          1.553141522930936,
          1.553141522930936,
          1.553141522930936,
          1.553141522930936,
          1.553141522930936,
          1.553141522930936,
          1.553141522930936,
          1.553141522930936,
          1.553141522930936,
          1.553141522930936,
          1.553141522930936,
          1.553141522930936,
          1.553141522930936,
          1.553141522930936,
          1.553141522930936,
          1.553141522930936,
          1.553141522930936,
          1.553141522930936,
          1.553141522930936,
          1.553141522930936,
          1.553141522930936,
          1.553141522930936,
          1.553141522930936,
          1.553141522930936,
          1.553141522930936,
          1.553141522930936,
          1.553141522930936,
          1.553141522930936,
          1.553141522930936,
          1.553141522930936,
          1.553141522930936,
          1.553141522930936,
          1.553141522930936,
          1.553141522930936,
          1.553141522930936,
          1.553141522930936,
          1.553141522930936,
          1.553141522930936,
          1.553141522930936,
          1.553141522930936,
          1.553141522930936,
          1.553141522930936,
          1.553141522930936,
          1.553141522930936,
          1.553141522930936,
          1.553141522930936,
          1.553141522930936,
          1.553141522930936,
          1.553141522930936,
          1.553141522930936,
          1.553141522930936,
          1.553141522930936,
          1.553141522930936,
          1.553141522930936,
          1.553141522930936,
          1.553141522930936,
          1.553141522930936,
          1.553141522930936,
          1.553141522930936,
          1.553141522930936,
          1.553141522930936,
          1.553141522930936,
          1.553141522930936,
          1.553141522930936,
          1.553141522930936,
          1.553141522930936,
          1.553141522930936,
          1.553141522930936,
          1.553141522930936,
          1.553141522930936,
          1.553141522930936,
          1.553141522930936,
          1.553141522930936,
          1.553141522930936,
          1.553141522930936,
          1.553141522930936,
          1.553141522930936,
          1.553141522930936,
          1.553141522930936,
          1.553141522930936,
          1.553141522930936,
          1.553141522930936,
          1.553141522930936,
          1.553141522930936,
          1.553141522930936,
          1.553141522930936,
          1.553141522930936,
          1.553141522930936,
          1.553141522930936,
          1.553141522930936,
          1.553141522930936,
          1.553141522930936,
          1.553141522930936,
          1.553141522930936,
          1.553141522930936,
          1.553141522930936,
          1.553141522930936,
          1.553141522930936,
          1.553141522930936,
          1.553141522930936,
          1.553141522930936,
          1.553141522930936,
          1.553141522930936,
          1.553141522930936,
          1.553141522930936,
          1.553141522930936
         ]
        }
       ],
       "layout": {
        "showlegend": true,
        "template": {
         "data": {
          "bar": [
           {
            "error_x": {
             "color": "#2a3f5f"
            },
            "error_y": {
             "color": "#2a3f5f"
            },
            "marker": {
             "line": {
              "color": "#E5ECF6",
              "width": 0.5
             },
             "pattern": {
              "fillmode": "overlay",
              "size": 10,
              "solidity": 0.2
             }
            },
            "type": "bar"
           }
          ],
          "barpolar": [
           {
            "marker": {
             "line": {
              "color": "#E5ECF6",
              "width": 0.5
             },
             "pattern": {
              "fillmode": "overlay",
              "size": 10,
              "solidity": 0.2
             }
            },
            "type": "barpolar"
           }
          ],
          "carpet": [
           {
            "aaxis": {
             "endlinecolor": "#2a3f5f",
             "gridcolor": "white",
             "linecolor": "white",
             "minorgridcolor": "white",
             "startlinecolor": "#2a3f5f"
            },
            "baxis": {
             "endlinecolor": "#2a3f5f",
             "gridcolor": "white",
             "linecolor": "white",
             "minorgridcolor": "white",
             "startlinecolor": "#2a3f5f"
            },
            "type": "carpet"
           }
          ],
          "choropleth": [
           {
            "colorbar": {
             "outlinewidth": 0,
             "ticks": ""
            },
            "type": "choropleth"
           }
          ],
          "contour": [
           {
            "colorbar": {
             "outlinewidth": 0,
             "ticks": ""
            },
            "colorscale": [
             [
              0,
              "#0d0887"
             ],
             [
              0.1111111111111111,
              "#46039f"
             ],
             [
              0.2222222222222222,
              "#7201a8"
             ],
             [
              0.3333333333333333,
              "#9c179e"
             ],
             [
              0.4444444444444444,
              "#bd3786"
             ],
             [
              0.5555555555555556,
              "#d8576b"
             ],
             [
              0.6666666666666666,
              "#ed7953"
             ],
             [
              0.7777777777777778,
              "#fb9f3a"
             ],
             [
              0.8888888888888888,
              "#fdca26"
             ],
             [
              1,
              "#f0f921"
             ]
            ],
            "type": "contour"
           }
          ],
          "contourcarpet": [
           {
            "colorbar": {
             "outlinewidth": 0,
             "ticks": ""
            },
            "type": "contourcarpet"
           }
          ],
          "heatmap": [
           {
            "colorbar": {
             "outlinewidth": 0,
             "ticks": ""
            },
            "colorscale": [
             [
              0,
              "#0d0887"
             ],
             [
              0.1111111111111111,
              "#46039f"
             ],
             [
              0.2222222222222222,
              "#7201a8"
             ],
             [
              0.3333333333333333,
              "#9c179e"
             ],
             [
              0.4444444444444444,
              "#bd3786"
             ],
             [
              0.5555555555555556,
              "#d8576b"
             ],
             [
              0.6666666666666666,
              "#ed7953"
             ],
             [
              0.7777777777777778,
              "#fb9f3a"
             ],
             [
              0.8888888888888888,
              "#fdca26"
             ],
             [
              1,
              "#f0f921"
             ]
            ],
            "type": "heatmap"
           }
          ],
          "heatmapgl": [
           {
            "colorbar": {
             "outlinewidth": 0,
             "ticks": ""
            },
            "colorscale": [
             [
              0,
              "#0d0887"
             ],
             [
              0.1111111111111111,
              "#46039f"
             ],
             [
              0.2222222222222222,
              "#7201a8"
             ],
             [
              0.3333333333333333,
              "#9c179e"
             ],
             [
              0.4444444444444444,
              "#bd3786"
             ],
             [
              0.5555555555555556,
              "#d8576b"
             ],
             [
              0.6666666666666666,
              "#ed7953"
             ],
             [
              0.7777777777777778,
              "#fb9f3a"
             ],
             [
              0.8888888888888888,
              "#fdca26"
             ],
             [
              1,
              "#f0f921"
             ]
            ],
            "type": "heatmapgl"
           }
          ],
          "histogram": [
           {
            "marker": {
             "pattern": {
              "fillmode": "overlay",
              "size": 10,
              "solidity": 0.2
             }
            },
            "type": "histogram"
           }
          ],
          "histogram2d": [
           {
            "colorbar": {
             "outlinewidth": 0,
             "ticks": ""
            },
            "colorscale": [
             [
              0,
              "#0d0887"
             ],
             [
              0.1111111111111111,
              "#46039f"
             ],
             [
              0.2222222222222222,
              "#7201a8"
             ],
             [
              0.3333333333333333,
              "#9c179e"
             ],
             [
              0.4444444444444444,
              "#bd3786"
             ],
             [
              0.5555555555555556,
              "#d8576b"
             ],
             [
              0.6666666666666666,
              "#ed7953"
             ],
             [
              0.7777777777777778,
              "#fb9f3a"
             ],
             [
              0.8888888888888888,
              "#fdca26"
             ],
             [
              1,
              "#f0f921"
             ]
            ],
            "type": "histogram2d"
           }
          ],
          "histogram2dcontour": [
           {
            "colorbar": {
             "outlinewidth": 0,
             "ticks": ""
            },
            "colorscale": [
             [
              0,
              "#0d0887"
             ],
             [
              0.1111111111111111,
              "#46039f"
             ],
             [
              0.2222222222222222,
              "#7201a8"
             ],
             [
              0.3333333333333333,
              "#9c179e"
             ],
             [
              0.4444444444444444,
              "#bd3786"
             ],
             [
              0.5555555555555556,
              "#d8576b"
             ],
             [
              0.6666666666666666,
              "#ed7953"
             ],
             [
              0.7777777777777778,
              "#fb9f3a"
             ],
             [
              0.8888888888888888,
              "#fdca26"
             ],
             [
              1,
              "#f0f921"
             ]
            ],
            "type": "histogram2dcontour"
           }
          ],
          "mesh3d": [
           {
            "colorbar": {
             "outlinewidth": 0,
             "ticks": ""
            },
            "type": "mesh3d"
           }
          ],
          "parcoords": [
           {
            "line": {
             "colorbar": {
              "outlinewidth": 0,
              "ticks": ""
             }
            },
            "type": "parcoords"
           }
          ],
          "pie": [
           {
            "automargin": true,
            "type": "pie"
           }
          ],
          "scatter": [
           {
            "fillpattern": {
             "fillmode": "overlay",
             "size": 10,
             "solidity": 0.2
            },
            "type": "scatter"
           }
          ],
          "scatter3d": [
           {
            "line": {
             "colorbar": {
              "outlinewidth": 0,
              "ticks": ""
             }
            },
            "marker": {
             "colorbar": {
              "outlinewidth": 0,
              "ticks": ""
             }
            },
            "type": "scatter3d"
           }
          ],
          "scattercarpet": [
           {
            "marker": {
             "colorbar": {
              "outlinewidth": 0,
              "ticks": ""
             }
            },
            "type": "scattercarpet"
           }
          ],
          "scattergeo": [
           {
            "marker": {
             "colorbar": {
              "outlinewidth": 0,
              "ticks": ""
             }
            },
            "type": "scattergeo"
           }
          ],
          "scattergl": [
           {
            "marker": {
             "colorbar": {
              "outlinewidth": 0,
              "ticks": ""
             }
            },
            "type": "scattergl"
           }
          ],
          "scattermapbox": [
           {
            "marker": {
             "colorbar": {
              "outlinewidth": 0,
              "ticks": ""
             }
            },
            "type": "scattermapbox"
           }
          ],
          "scatterpolar": [
           {
            "marker": {
             "colorbar": {
              "outlinewidth": 0,
              "ticks": ""
             }
            },
            "type": "scatterpolar"
           }
          ],
          "scatterpolargl": [
           {
            "marker": {
             "colorbar": {
              "outlinewidth": 0,
              "ticks": ""
             }
            },
            "type": "scatterpolargl"
           }
          ],
          "scatterternary": [
           {
            "marker": {
             "colorbar": {
              "outlinewidth": 0,
              "ticks": ""
             }
            },
            "type": "scatterternary"
           }
          ],
          "surface": [
           {
            "colorbar": {
             "outlinewidth": 0,
             "ticks": ""
            },
            "colorscale": [
             [
              0,
              "#0d0887"
             ],
             [
              0.1111111111111111,
              "#46039f"
             ],
             [
              0.2222222222222222,
              "#7201a8"
             ],
             [
              0.3333333333333333,
              "#9c179e"
             ],
             [
              0.4444444444444444,
              "#bd3786"
             ],
             [
              0.5555555555555556,
              "#d8576b"
             ],
             [
              0.6666666666666666,
              "#ed7953"
             ],
             [
              0.7777777777777778,
              "#fb9f3a"
             ],
             [
              0.8888888888888888,
              "#fdca26"
             ],
             [
              1,
              "#f0f921"
             ]
            ],
            "type": "surface"
           }
          ],
          "table": [
           {
            "cells": {
             "fill": {
              "color": "#EBF0F8"
             },
             "line": {
              "color": "white"
             }
            },
            "header": {
             "fill": {
              "color": "#C8D4E3"
             },
             "line": {
              "color": "white"
             }
            },
            "type": "table"
           }
          ]
         },
         "layout": {
          "annotationdefaults": {
           "arrowcolor": "#2a3f5f",
           "arrowhead": 0,
           "arrowwidth": 1
          },
          "autotypenumbers": "strict",
          "coloraxis": {
           "colorbar": {
            "outlinewidth": 0,
            "ticks": ""
           }
          },
          "colorscale": {
           "diverging": [
            [
             0,
             "#8e0152"
            ],
            [
             0.1,
             "#c51b7d"
            ],
            [
             0.2,
             "#de77ae"
            ],
            [
             0.3,
             "#f1b6da"
            ],
            [
             0.4,
             "#fde0ef"
            ],
            [
             0.5,
             "#f7f7f7"
            ],
            [
             0.6,
             "#e6f5d0"
            ],
            [
             0.7,
             "#b8e186"
            ],
            [
             0.8,
             "#7fbc41"
            ],
            [
             0.9,
             "#4d9221"
            ],
            [
             1,
             "#276419"
            ]
           ],
           "sequential": [
            [
             0,
             "#0d0887"
            ],
            [
             0.1111111111111111,
             "#46039f"
            ],
            [
             0.2222222222222222,
             "#7201a8"
            ],
            [
             0.3333333333333333,
             "#9c179e"
            ],
            [
             0.4444444444444444,
             "#bd3786"
            ],
            [
             0.5555555555555556,
             "#d8576b"
            ],
            [
             0.6666666666666666,
             "#ed7953"
            ],
            [
             0.7777777777777778,
             "#fb9f3a"
            ],
            [
             0.8888888888888888,
             "#fdca26"
            ],
            [
             1,
             "#f0f921"
            ]
           ],
           "sequentialminus": [
            [
             0,
             "#0d0887"
            ],
            [
             0.1111111111111111,
             "#46039f"
            ],
            [
             0.2222222222222222,
             "#7201a8"
            ],
            [
             0.3333333333333333,
             "#9c179e"
            ],
            [
             0.4444444444444444,
             "#bd3786"
            ],
            [
             0.5555555555555556,
             "#d8576b"
            ],
            [
             0.6666666666666666,
             "#ed7953"
            ],
            [
             0.7777777777777778,
             "#fb9f3a"
            ],
            [
             0.8888888888888888,
             "#fdca26"
            ],
            [
             1,
             "#f0f921"
            ]
           ]
          },
          "colorway": [
           "#636efa",
           "#EF553B",
           "#00cc96",
           "#ab63fa",
           "#FFA15A",
           "#19d3f3",
           "#FF6692",
           "#B6E880",
           "#FF97FF",
           "#FECB52"
          ],
          "font": {
           "color": "#2a3f5f"
          },
          "geo": {
           "bgcolor": "white",
           "lakecolor": "white",
           "landcolor": "#E5ECF6",
           "showlakes": true,
           "showland": true,
           "subunitcolor": "white"
          },
          "hoverlabel": {
           "align": "left"
          },
          "hovermode": "closest",
          "mapbox": {
           "style": "light"
          },
          "paper_bgcolor": "white",
          "plot_bgcolor": "#E5ECF6",
          "polar": {
           "angularaxis": {
            "gridcolor": "white",
            "linecolor": "white",
            "ticks": ""
           },
           "bgcolor": "#E5ECF6",
           "radialaxis": {
            "gridcolor": "white",
            "linecolor": "white",
            "ticks": ""
           }
          },
          "scene": {
           "xaxis": {
            "backgroundcolor": "#E5ECF6",
            "gridcolor": "white",
            "gridwidth": 2,
            "linecolor": "white",
            "showbackground": true,
            "ticks": "",
            "zerolinecolor": "white"
           },
           "yaxis": {
            "backgroundcolor": "#E5ECF6",
            "gridcolor": "white",
            "gridwidth": 2,
            "linecolor": "white",
            "showbackground": true,
            "ticks": "",
            "zerolinecolor": "white"
           },
           "zaxis": {
            "backgroundcolor": "#E5ECF6",
            "gridcolor": "white",
            "gridwidth": 2,
            "linecolor": "white",
            "showbackground": true,
            "ticks": "",
            "zerolinecolor": "white"
           }
          },
          "shapedefaults": {
           "line": {
            "color": "#2a3f5f"
           }
          },
          "ternary": {
           "aaxis": {
            "gridcolor": "white",
            "linecolor": "white",
            "ticks": ""
           },
           "baxis": {
            "gridcolor": "white",
            "linecolor": "white",
            "ticks": ""
           },
           "bgcolor": "#E5ECF6",
           "caxis": {
            "gridcolor": "white",
            "linecolor": "white",
            "ticks": ""
           }
          },
          "title": {
           "x": 0.05
          },
          "xaxis": {
           "automargin": true,
           "gridcolor": "white",
           "linecolor": "white",
           "ticks": "",
           "title": {
            "standoff": 15
           },
           "zerolinecolor": "white",
           "zerolinewidth": 2
          },
          "yaxis": {
           "automargin": true,
           "gridcolor": "white",
           "linecolor": "white",
           "ticks": "",
           "title": {
            "standoff": 15
           },
           "zerolinecolor": "white",
           "zerolinewidth": 2
          }
         }
        },
        "title": {
         "text": "Test loss vs. Threshold"
        }
       }
      }
     },
     "metadata": {},
     "output_type": "display_data"
    }
   ],
   "source": [
    "# Interactive chart (plotly): Test Loss & Treshold\n",
    "\n",
    "fig1 = go.Figure()\n",
    "fig1.add_trace(go.Scatter(x=test1_score_df.index, y=test1_score_df['loss'], name='Test loss'))\n",
    "fig1.add_trace(go.Scatter(x=test1_score_df.index, y=test1_score_df['threshold'], name='Threshold'))\n",
    "fig1.update_layout(showlegend=True, title='Test loss vs. Threshold')\n",
    "fig1.show()"
   ]
  },
  {
   "cell_type": "code",
   "execution_count": 171,
   "metadata": {},
   "outputs": [
    {
     "data": {
      "text/html": [
       "<div>\n",
       "<style scoped>\n",
       "    .dataframe tbody tr th:only-of-type {\n",
       "        vertical-align: middle;\n",
       "    }\n",
       "\n",
       "    .dataframe tbody tr th {\n",
       "        vertical-align: top;\n",
       "    }\n",
       "\n",
       "    .dataframe thead th {\n",
       "        text-align: right;\n",
       "    }\n",
       "</style>\n",
       "<table border=\"1\" class=\"dataframe\">\n",
       "  <thead>\n",
       "    <tr style=\"text-align: right;\">\n",
       "      <th></th>\n",
       "      <th>tripduration</th>\n",
       "      <th>ss_id</th>\n",
       "      <th>loss</th>\n",
       "      <th>threshold</th>\n",
       "      <th>anomaly</th>\n",
       "    </tr>\n",
       "    <tr>\n",
       "      <th>starttime</th>\n",
       "      <th></th>\n",
       "      <th></th>\n",
       "      <th></th>\n",
       "      <th></th>\n",
       "      <th></th>\n",
       "    </tr>\n",
       "  </thead>\n",
       "  <tbody>\n",
       "  </tbody>\n",
       "</table>\n",
       "</div>"
      ],
      "text/plain": [
       "Empty DataFrame\n",
       "Columns: [tripduration, ss_id, loss, threshold, anomaly]\n",
       "Index: []"
      ]
     },
     "execution_count": 171,
     "metadata": {},
     "output_type": "execute_result"
    }
   ],
   "source": [
    "anomalies1 = test1_score_df.loc[test1_score_df['anomaly'] == True]\n",
    "anomalies1.head()"
   ]
  },
  {
   "cell_type": "code",
   "execution_count": 172,
   "metadata": {},
   "outputs": [],
   "source": [
    "starttime1=test1_score_df.index"
   ]
  },
  {
   "cell_type": "code",
   "execution_count": 173,
   "metadata": {},
   "outputs": [],
   "source": [
    "# Interactive chart (plotly): timeseries & Anomalies\n",
    "\n",
    "test1_trans=pd.DataFrame(scaler.inverse_transform(test1_score_df[['tripduration','ss_id']]),columns=['tripduration','ss_id'])\n",
    "anamolies1_tr=pd.DataFrame(scaler.inverse_transform(test1_score_df[['tripduration','ss_id']]),columns=['tripduration','ss_id'])\n"
   ]
  },
  {
   "cell_type": "code",
   "execution_count": 174,
   "metadata": {},
   "outputs": [
    {
     "data": {
      "application/vnd.plotly.v1+json": {
       "config": {
        "plotlyServerURL": "https://plot.ly"
       },
       "data": [
        {
         "name": "Tripduration",
         "type": "scatter",
         "x": [
          "2013-07-02T00:00:00",
          "2013-07-02T01:00:00",
          "2013-07-02T02:00:00",
          "2013-07-02T03:00:00",
          "2013-07-02T04:00:00",
          "2013-07-02T05:00:00",
          "2013-07-02T06:00:00",
          "2013-07-02T07:00:00",
          "2013-07-02T08:00:00",
          "2013-07-02T09:00:00",
          "2013-07-02T10:00:00",
          "2013-07-02T11:00:00",
          "2013-07-02T12:00:00",
          "2013-07-02T13:00:00",
          "2013-07-02T14:00:00",
          "2013-07-02T15:00:00",
          "2013-07-02T16:00:00",
          "2013-07-02T17:00:00",
          "2013-07-02T18:00:00",
          "2013-07-02T19:00:00",
          "2013-07-02T20:00:00",
          "2013-07-02T21:00:00",
          "2013-07-02T22:00:00",
          "2013-07-02T23:00:00",
          "2013-07-03T00:00:00",
          "2013-07-03T01:00:00",
          "2013-07-03T02:00:00",
          "2013-07-03T03:00:00",
          "2013-07-03T04:00:00",
          "2013-07-03T05:00:00",
          "2013-07-03T06:00:00",
          "2013-07-03T07:00:00",
          "2013-07-03T08:00:00",
          "2013-07-03T09:00:00",
          "2013-07-03T10:00:00",
          "2013-07-03T11:00:00",
          "2013-07-03T12:00:00",
          "2013-07-03T13:00:00",
          "2013-07-03T14:00:00",
          "2013-07-03T15:00:00",
          "2013-07-03T16:00:00",
          "2013-07-03T17:00:00",
          "2013-07-03T18:00:00",
          "2013-07-03T19:00:00",
          "2013-07-03T20:00:00",
          "2013-07-03T21:00:00",
          "2013-07-03T22:00:00",
          "2013-07-03T23:00:00",
          "2013-07-04T00:00:00",
          "2013-07-04T01:00:00",
          "2013-07-04T02:00:00",
          "2013-07-04T03:00:00",
          "2013-07-04T04:00:00",
          "2013-07-04T05:00:00",
          "2013-07-04T06:00:00",
          "2013-07-04T07:00:00",
          "2013-07-04T08:00:00",
          "2013-07-04T09:00:00",
          "2013-07-04T10:00:00",
          "2013-07-04T11:00:00",
          "2013-07-04T12:00:00",
          "2013-07-04T13:00:00",
          "2013-07-04T14:00:00",
          "2013-07-04T15:00:00",
          "2013-07-04T16:00:00",
          "2013-07-04T17:00:00",
          "2013-07-04T18:00:00",
          "2013-07-04T19:00:00",
          "2013-07-04T20:00:00",
          "2013-07-04T21:00:00",
          "2013-07-04T22:00:00",
          "2013-07-04T23:00:00",
          "2013-07-05T00:00:00",
          "2013-07-05T01:00:00",
          "2013-07-05T02:00:00",
          "2013-07-05T03:00:00",
          "2013-07-05T04:00:00",
          "2013-07-05T05:00:00",
          "2013-07-05T06:00:00",
          "2013-07-05T07:00:00",
          "2013-07-05T08:00:00",
          "2013-07-05T09:00:00",
          "2013-07-05T10:00:00",
          "2013-07-05T11:00:00",
          "2013-07-05T12:00:00",
          "2013-07-05T13:00:00",
          "2013-07-05T14:00:00",
          "2013-07-05T15:00:00",
          "2013-07-05T16:00:00",
          "2013-07-05T17:00:00",
          "2013-07-05T18:00:00",
          "2013-07-05T19:00:00",
          "2013-07-05T20:00:00",
          "2013-07-05T21:00:00",
          "2013-07-05T22:00:00",
          "2013-07-05T23:00:00",
          "2013-07-06T00:00:00",
          "2013-07-06T01:00:00",
          "2013-07-06T02:00:00",
          "2013-07-06T03:00:00",
          "2013-07-06T04:00:00",
          "2013-07-06T05:00:00",
          "2013-07-06T06:00:00",
          "2013-07-06T07:00:00",
          "2013-07-06T08:00:00",
          "2013-07-06T09:00:00",
          "2013-07-06T10:00:00",
          "2013-07-06T11:00:00",
          "2013-07-06T12:00:00",
          "2013-07-06T13:00:00",
          "2013-07-06T14:00:00",
          "2013-07-06T15:00:00",
          "2013-07-06T16:00:00",
          "2013-07-06T17:00:00",
          "2013-07-06T18:00:00",
          "2013-07-06T19:00:00",
          "2013-07-06T20:00:00",
          "2013-07-06T21:00:00",
          "2013-07-06T22:00:00",
          "2013-07-06T23:00:00",
          "2013-07-07T00:00:00",
          "2013-07-07T01:00:00",
          "2013-07-07T02:00:00",
          "2013-07-07T03:00:00",
          "2013-07-07T04:00:00",
          "2013-07-07T05:00:00",
          "2013-07-07T06:00:00",
          "2013-07-07T07:00:00",
          "2013-07-07T08:00:00",
          "2013-07-07T09:00:00",
          "2013-07-07T10:00:00",
          "2013-07-07T11:00:00",
          "2013-07-07T12:00:00",
          "2013-07-07T13:00:00",
          "2013-07-07T14:00:00",
          "2013-07-07T15:00:00",
          "2013-07-07T16:00:00",
          "2013-07-07T17:00:00",
          "2013-07-07T18:00:00",
          "2013-07-07T19:00:00",
          "2013-07-07T20:00:00",
          "2013-07-07T21:00:00",
          "2013-07-07T22:00:00",
          "2013-07-07T23:00:00",
          "2013-07-08T00:00:00",
          "2013-07-08T01:00:00",
          "2013-07-08T02:00:00",
          "2013-07-08T03:00:00",
          "2013-07-08T04:00:00",
          "2013-07-08T05:00:00",
          "2013-07-08T06:00:00",
          "2013-07-08T07:00:00",
          "2013-07-08T08:00:00",
          "2013-07-08T09:00:00",
          "2013-07-08T10:00:00",
          "2013-07-08T11:00:00",
          "2013-07-08T12:00:00",
          "2013-07-08T13:00:00",
          "2013-07-08T14:00:00",
          "2013-07-08T15:00:00",
          "2013-07-08T16:00:00",
          "2013-07-08T17:00:00",
          "2013-07-08T18:00:00",
          "2013-07-08T19:00:00",
          "2013-07-08T20:00:00",
          "2013-07-08T21:00:00",
          "2013-07-08T22:00:00",
          "2013-07-08T23:00:00",
          "2013-07-09T00:00:00",
          "2013-07-09T01:00:00",
          "2013-07-09T02:00:00",
          "2013-07-09T03:00:00",
          "2013-07-09T04:00:00",
          "2013-07-09T05:00:00",
          "2013-07-09T06:00:00",
          "2013-07-09T07:00:00",
          "2013-07-09T08:00:00",
          "2013-07-09T09:00:00",
          "2013-07-09T10:00:00",
          "2013-07-09T11:00:00",
          "2013-07-09T12:00:00",
          "2013-07-09T13:00:00",
          "2013-07-09T14:00:00",
          "2013-07-09T15:00:00",
          "2013-07-09T16:00:00",
          "2013-07-09T17:00:00",
          "2013-07-09T18:00:00",
          "2013-07-09T19:00:00",
          "2013-07-09T20:00:00",
          "2013-07-09T21:00:00",
          "2013-07-09T22:00:00",
          "2013-07-09T23:00:00",
          "2013-07-10T00:00:00",
          "2013-07-10T01:00:00",
          "2013-07-10T02:00:00",
          "2013-07-10T03:00:00",
          "2013-07-10T04:00:00",
          "2013-07-10T05:00:00",
          "2013-07-10T06:00:00",
          "2013-07-10T07:00:00",
          "2013-07-10T08:00:00",
          "2013-07-10T09:00:00",
          "2013-07-10T10:00:00",
          "2013-07-10T11:00:00",
          "2013-07-10T12:00:00",
          "2013-07-10T13:00:00",
          "2013-07-10T14:00:00",
          "2013-07-10T15:00:00",
          "2013-07-10T16:00:00",
          "2013-07-10T17:00:00",
          "2013-07-10T18:00:00",
          "2013-07-10T19:00:00",
          "2013-07-10T20:00:00",
          "2013-07-10T21:00:00",
          "2013-07-10T22:00:00",
          "2013-07-10T23:00:00",
          "2013-07-11T00:00:00",
          "2013-07-11T01:00:00",
          "2013-07-11T02:00:00",
          "2013-07-11T03:00:00",
          "2013-07-11T04:00:00",
          "2013-07-11T05:00:00",
          "2013-07-11T06:00:00",
          "2013-07-11T07:00:00",
          "2013-07-11T08:00:00",
          "2013-07-11T09:00:00",
          "2013-07-11T10:00:00",
          "2013-07-11T11:00:00",
          "2013-07-11T12:00:00",
          "2013-07-11T13:00:00",
          "2013-07-11T14:00:00",
          "2013-07-11T15:00:00",
          "2013-07-11T16:00:00",
          "2013-07-11T17:00:00",
          "2013-07-11T18:00:00",
          "2013-07-11T19:00:00",
          "2013-07-11T20:00:00",
          "2013-07-11T21:00:00",
          "2013-07-11T22:00:00",
          "2013-07-11T23:00:00",
          "2013-07-12T00:00:00",
          "2013-07-12T01:00:00",
          "2013-07-12T02:00:00",
          "2013-07-12T03:00:00",
          "2013-07-12T04:00:00",
          "2013-07-12T05:00:00",
          "2013-07-12T06:00:00",
          "2013-07-12T07:00:00",
          "2013-07-12T08:00:00",
          "2013-07-12T09:00:00",
          "2013-07-12T10:00:00",
          "2013-07-12T11:00:00",
          "2013-07-12T12:00:00",
          "2013-07-12T13:00:00",
          "2013-07-12T14:00:00",
          "2013-07-12T15:00:00",
          "2013-07-12T16:00:00",
          "2013-07-12T17:00:00",
          "2013-07-12T18:00:00",
          "2013-07-12T19:00:00",
          "2013-07-12T20:00:00",
          "2013-07-12T21:00:00",
          "2013-07-12T22:00:00",
          "2013-07-12T23:00:00",
          "2013-07-13T00:00:00",
          "2013-07-13T01:00:00",
          "2013-07-13T02:00:00",
          "2013-07-13T03:00:00",
          "2013-07-13T04:00:00",
          "2013-07-13T05:00:00",
          "2013-07-13T06:00:00",
          "2013-07-13T07:00:00",
          "2013-07-13T08:00:00",
          "2013-07-13T09:00:00",
          "2013-07-13T10:00:00",
          "2013-07-13T11:00:00",
          "2013-07-13T12:00:00",
          "2013-07-13T13:00:00",
          "2013-07-13T14:00:00",
          "2013-07-13T15:00:00",
          "2013-07-13T16:00:00",
          "2013-07-13T17:00:00",
          "2013-07-13T18:00:00",
          "2013-07-13T19:00:00",
          "2013-07-13T20:00:00",
          "2013-07-13T21:00:00",
          "2013-07-13T22:00:00",
          "2013-07-13T23:00:00",
          "2013-07-14T00:00:00",
          "2013-07-14T01:00:00",
          "2013-07-14T02:00:00",
          "2013-07-14T03:00:00",
          "2013-07-14T04:00:00",
          "2013-07-14T05:00:00",
          "2013-07-14T06:00:00",
          "2013-07-14T07:00:00",
          "2013-07-14T08:00:00",
          "2013-07-14T09:00:00",
          "2013-07-14T10:00:00",
          "2013-07-14T11:00:00",
          "2013-07-14T12:00:00",
          "2013-07-14T13:00:00",
          "2013-07-14T14:00:00",
          "2013-07-14T15:00:00",
          "2013-07-14T16:00:00",
          "2013-07-14T17:00:00",
          "2013-07-14T18:00:00",
          "2013-07-14T19:00:00",
          "2013-07-14T20:00:00",
          "2013-07-14T21:00:00",
          "2013-07-14T22:00:00",
          "2013-07-14T23:00:00",
          "2013-07-15T00:00:00",
          "2013-07-15T01:00:00",
          "2013-07-15T02:00:00",
          "2013-07-15T03:00:00",
          "2013-07-15T04:00:00",
          "2013-07-15T05:00:00",
          "2013-07-15T06:00:00",
          "2013-07-15T07:00:00",
          "2013-07-15T08:00:00",
          "2013-07-15T09:00:00",
          "2013-07-15T10:00:00",
          "2013-07-15T11:00:00",
          "2013-07-15T12:00:00",
          "2013-07-15T13:00:00",
          "2013-07-15T14:00:00",
          "2013-07-15T15:00:00",
          "2013-07-15T16:00:00",
          "2013-07-15T17:00:00",
          "2013-07-15T18:00:00",
          "2013-07-15T19:00:00",
          "2013-07-15T20:00:00",
          "2013-07-15T21:00:00",
          "2013-07-15T22:00:00",
          "2013-07-15T23:00:00",
          "2013-07-16T00:00:00",
          "2013-07-16T01:00:00",
          "2013-07-16T02:00:00",
          "2013-07-16T03:00:00",
          "2013-07-16T04:00:00",
          "2013-07-16T05:00:00",
          "2013-07-16T06:00:00",
          "2013-07-16T07:00:00",
          "2013-07-16T08:00:00",
          "2013-07-16T09:00:00",
          "2013-07-16T10:00:00",
          "2013-07-16T11:00:00",
          "2013-07-16T12:00:00",
          "2013-07-16T13:00:00",
          "2013-07-16T14:00:00",
          "2013-07-16T15:00:00",
          "2013-07-16T16:00:00",
          "2013-07-16T17:00:00",
          "2013-07-16T18:00:00",
          "2013-07-16T19:00:00",
          "2013-07-16T20:00:00",
          "2013-07-16T21:00:00",
          "2013-07-16T22:00:00",
          "2013-07-16T23:00:00",
          "2013-07-17T00:00:00",
          "2013-07-17T01:00:00",
          "2013-07-17T02:00:00",
          "2013-07-17T03:00:00",
          "2013-07-17T04:00:00",
          "2013-07-17T05:00:00",
          "2013-07-17T06:00:00",
          "2013-07-17T07:00:00",
          "2013-07-17T08:00:00",
          "2013-07-17T09:00:00",
          "2013-07-17T10:00:00",
          "2013-07-17T11:00:00",
          "2013-07-17T12:00:00",
          "2013-07-17T13:00:00",
          "2013-07-17T14:00:00",
          "2013-07-17T15:00:00",
          "2013-07-17T16:00:00",
          "2013-07-17T17:00:00",
          "2013-07-17T18:00:00",
          "2013-07-17T19:00:00",
          "2013-07-17T20:00:00",
          "2013-07-17T21:00:00",
          "2013-07-17T22:00:00",
          "2013-07-17T23:00:00",
          "2013-07-18T00:00:00",
          "2013-07-18T01:00:00",
          "2013-07-18T02:00:00",
          "2013-07-18T03:00:00",
          "2013-07-18T04:00:00",
          "2013-07-18T05:00:00",
          "2013-07-18T06:00:00",
          "2013-07-18T07:00:00",
          "2013-07-18T08:00:00",
          "2013-07-18T09:00:00",
          "2013-07-18T10:00:00",
          "2013-07-18T11:00:00",
          "2013-07-18T12:00:00",
          "2013-07-18T13:00:00",
          "2013-07-18T14:00:00",
          "2013-07-18T15:00:00",
          "2013-07-18T16:00:00",
          "2013-07-18T17:00:00",
          "2013-07-18T18:00:00",
          "2013-07-18T19:00:00",
          "2013-07-18T20:00:00",
          "2013-07-18T21:00:00",
          "2013-07-18T22:00:00",
          "2013-07-18T23:00:00",
          "2013-07-19T00:00:00",
          "2013-07-19T01:00:00",
          "2013-07-19T02:00:00",
          "2013-07-19T03:00:00",
          "2013-07-19T04:00:00",
          "2013-07-19T05:00:00",
          "2013-07-19T06:00:00",
          "2013-07-19T07:00:00",
          "2013-07-19T08:00:00",
          "2013-07-19T09:00:00",
          "2013-07-19T10:00:00",
          "2013-07-19T11:00:00",
          "2013-07-19T12:00:00",
          "2013-07-19T13:00:00",
          "2013-07-19T14:00:00",
          "2013-07-19T15:00:00",
          "2013-07-19T16:00:00",
          "2013-07-19T17:00:00",
          "2013-07-19T18:00:00",
          "2013-07-19T19:00:00",
          "2013-07-19T20:00:00",
          "2013-07-19T21:00:00",
          "2013-07-19T22:00:00",
          "2013-07-19T23:00:00",
          "2013-07-20T00:00:00",
          "2013-07-20T01:00:00",
          "2013-07-20T02:00:00",
          "2013-07-20T03:00:00",
          "2013-07-20T04:00:00",
          "2013-07-20T05:00:00",
          "2013-07-20T06:00:00",
          "2013-07-20T07:00:00",
          "2013-07-20T08:00:00",
          "2013-07-20T09:00:00",
          "2013-07-20T10:00:00",
          "2013-07-20T11:00:00",
          "2013-07-20T12:00:00",
          "2013-07-20T13:00:00",
          "2013-07-20T14:00:00",
          "2013-07-20T15:00:00",
          "2013-07-20T16:00:00",
          "2013-07-20T17:00:00",
          "2013-07-20T18:00:00",
          "2013-07-20T19:00:00",
          "2013-07-20T20:00:00",
          "2013-07-20T21:00:00",
          "2013-07-20T22:00:00",
          "2013-07-20T23:00:00",
          "2013-07-21T00:00:00",
          "2013-07-21T01:00:00",
          "2013-07-21T02:00:00",
          "2013-07-21T03:00:00",
          "2013-07-21T04:00:00",
          "2013-07-21T05:00:00",
          "2013-07-21T06:00:00",
          "2013-07-21T07:00:00",
          "2013-07-21T08:00:00",
          "2013-07-21T09:00:00",
          "2013-07-21T10:00:00",
          "2013-07-21T11:00:00",
          "2013-07-21T12:00:00",
          "2013-07-21T13:00:00",
          "2013-07-21T14:00:00",
          "2013-07-21T15:00:00",
          "2013-07-21T16:00:00",
          "2013-07-21T17:00:00",
          "2013-07-21T18:00:00",
          "2013-07-21T19:00:00",
          "2013-07-21T20:00:00",
          "2013-07-21T21:00:00",
          "2013-07-21T22:00:00",
          "2013-07-21T23:00:00",
          "2013-07-22T00:00:00",
          "2013-07-22T01:00:00",
          "2013-07-22T02:00:00",
          "2013-07-22T03:00:00",
          "2013-07-22T04:00:00",
          "2013-07-22T05:00:00",
          "2013-07-22T06:00:00",
          "2013-07-22T07:00:00",
          "2013-07-22T08:00:00",
          "2013-07-22T09:00:00",
          "2013-07-22T10:00:00",
          "2013-07-22T11:00:00",
          "2013-07-22T12:00:00",
          "2013-07-22T13:00:00",
          "2013-07-22T14:00:00",
          "2013-07-22T15:00:00",
          "2013-07-22T16:00:00",
          "2013-07-22T17:00:00",
          "2013-07-22T18:00:00",
          "2013-07-22T19:00:00",
          "2013-07-22T20:00:00",
          "2013-07-22T21:00:00",
          "2013-07-22T22:00:00",
          "2013-07-22T23:00:00",
          "2013-07-23T00:00:00",
          "2013-07-23T01:00:00",
          "2013-07-23T02:00:00",
          "2013-07-23T03:00:00",
          "2013-07-23T04:00:00",
          "2013-07-23T05:00:00",
          "2013-07-23T06:00:00",
          "2013-07-23T07:00:00",
          "2013-07-23T08:00:00",
          "2013-07-23T09:00:00",
          "2013-07-23T10:00:00",
          "2013-07-23T11:00:00",
          "2013-07-23T12:00:00",
          "2013-07-23T13:00:00",
          "2013-07-23T14:00:00",
          "2013-07-23T15:00:00",
          "2013-07-23T16:00:00",
          "2013-07-23T17:00:00",
          "2013-07-23T18:00:00",
          "2013-07-23T19:00:00",
          "2013-07-23T20:00:00",
          "2013-07-23T21:00:00",
          "2013-07-23T22:00:00",
          "2013-07-23T23:00:00",
          "2013-07-24T00:00:00",
          "2013-07-24T01:00:00",
          "2013-07-24T02:00:00",
          "2013-07-24T03:00:00",
          "2013-07-24T04:00:00",
          "2013-07-24T05:00:00",
          "2013-07-24T06:00:00",
          "2013-07-24T07:00:00",
          "2013-07-24T08:00:00",
          "2013-07-24T09:00:00",
          "2013-07-24T10:00:00",
          "2013-07-24T11:00:00",
          "2013-07-24T12:00:00",
          "2013-07-24T13:00:00",
          "2013-07-24T14:00:00",
          "2013-07-24T15:00:00",
          "2013-07-24T16:00:00",
          "2013-07-24T17:00:00",
          "2013-07-24T18:00:00",
          "2013-07-24T19:00:00",
          "2013-07-24T20:00:00",
          "2013-07-24T21:00:00",
          "2013-07-24T22:00:00",
          "2013-07-24T23:00:00",
          "2013-07-25T00:00:00",
          "2013-07-25T01:00:00",
          "2013-07-25T02:00:00",
          "2013-07-25T03:00:00",
          "2013-07-25T04:00:00",
          "2013-07-25T05:00:00",
          "2013-07-25T06:00:00",
          "2013-07-25T07:00:00",
          "2013-07-25T08:00:00",
          "2013-07-25T09:00:00",
          "2013-07-25T10:00:00",
          "2013-07-25T11:00:00",
          "2013-07-25T12:00:00",
          "2013-07-25T13:00:00",
          "2013-07-25T14:00:00",
          "2013-07-25T15:00:00",
          "2013-07-25T16:00:00",
          "2013-07-25T17:00:00",
          "2013-07-25T18:00:00",
          "2013-07-25T19:00:00",
          "2013-07-25T20:00:00",
          "2013-07-25T21:00:00",
          "2013-07-25T22:00:00",
          "2013-07-25T23:00:00",
          "2013-07-26T00:00:00",
          "2013-07-26T01:00:00",
          "2013-07-26T02:00:00",
          "2013-07-26T03:00:00",
          "2013-07-26T04:00:00",
          "2013-07-26T05:00:00",
          "2013-07-26T06:00:00",
          "2013-07-26T07:00:00",
          "2013-07-26T08:00:00",
          "2013-07-26T09:00:00",
          "2013-07-26T10:00:00",
          "2013-07-26T11:00:00",
          "2013-07-26T12:00:00",
          "2013-07-26T13:00:00",
          "2013-07-26T14:00:00",
          "2013-07-26T15:00:00",
          "2013-07-26T16:00:00",
          "2013-07-26T17:00:00",
          "2013-07-26T18:00:00",
          "2013-07-26T19:00:00",
          "2013-07-26T20:00:00",
          "2013-07-26T21:00:00",
          "2013-07-26T22:00:00",
          "2013-07-26T23:00:00",
          "2013-07-27T00:00:00",
          "2013-07-27T01:00:00",
          "2013-07-27T02:00:00",
          "2013-07-27T03:00:00",
          "2013-07-27T04:00:00",
          "2013-07-27T05:00:00",
          "2013-07-27T06:00:00",
          "2013-07-27T07:00:00",
          "2013-07-27T08:00:00",
          "2013-07-27T09:00:00",
          "2013-07-27T10:00:00",
          "2013-07-27T11:00:00",
          "2013-07-27T12:00:00",
          "2013-07-27T13:00:00",
          "2013-07-27T14:00:00",
          "2013-07-27T15:00:00",
          "2013-07-27T16:00:00",
          "2013-07-27T17:00:00",
          "2013-07-27T18:00:00",
          "2013-07-27T19:00:00",
          "2013-07-27T20:00:00",
          "2013-07-27T21:00:00",
          "2013-07-27T22:00:00",
          "2013-07-27T23:00:00",
          "2013-07-28T00:00:00",
          "2013-07-28T01:00:00",
          "2013-07-28T02:00:00",
          "2013-07-28T03:00:00",
          "2013-07-28T04:00:00",
          "2013-07-28T05:00:00",
          "2013-07-28T06:00:00",
          "2013-07-28T07:00:00",
          "2013-07-28T08:00:00",
          "2013-07-28T09:00:00",
          "2013-07-28T10:00:00",
          "2013-07-28T11:00:00",
          "2013-07-28T12:00:00",
          "2013-07-28T13:00:00",
          "2013-07-28T14:00:00",
          "2013-07-28T15:00:00",
          "2013-07-28T16:00:00",
          "2013-07-28T17:00:00",
          "2013-07-28T18:00:00",
          "2013-07-28T19:00:00",
          "2013-07-28T20:00:00",
          "2013-07-28T21:00:00",
          "2013-07-28T22:00:00",
          "2013-07-28T23:00:00",
          "2013-07-29T00:00:00",
          "2013-07-29T01:00:00",
          "2013-07-29T02:00:00",
          "2013-07-29T03:00:00",
          "2013-07-29T04:00:00",
          "2013-07-29T05:00:00",
          "2013-07-29T06:00:00",
          "2013-07-29T07:00:00",
          "2013-07-29T08:00:00",
          "2013-07-29T09:00:00",
          "2013-07-29T10:00:00",
          "2013-07-29T11:00:00",
          "2013-07-29T12:00:00",
          "2013-07-29T13:00:00",
          "2013-07-29T14:00:00",
          "2013-07-29T15:00:00",
          "2013-07-29T16:00:00",
          "2013-07-29T17:00:00",
          "2013-07-29T18:00:00",
          "2013-07-29T19:00:00",
          "2013-07-29T20:00:00",
          "2013-07-29T21:00:00",
          "2013-07-29T22:00:00",
          "2013-07-29T23:00:00",
          "2013-07-30T00:00:00",
          "2013-07-30T01:00:00",
          "2013-07-30T02:00:00",
          "2013-07-30T03:00:00",
          "2013-07-30T04:00:00",
          "2013-07-30T05:00:00",
          "2013-07-30T06:00:00",
          "2013-07-30T07:00:00",
          "2013-07-30T08:00:00",
          "2013-07-30T09:00:00",
          "2013-07-30T10:00:00",
          "2013-07-30T11:00:00",
          "2013-07-30T12:00:00",
          "2013-07-30T13:00:00",
          "2013-07-30T14:00:00",
          "2013-07-30T15:00:00",
          "2013-07-30T16:00:00",
          "2013-07-30T17:00:00",
          "2013-07-30T18:00:00",
          "2013-07-30T19:00:00",
          "2013-07-30T20:00:00",
          "2013-07-30T21:00:00",
          "2013-07-30T22:00:00",
          "2013-07-30T23:00:00",
          "2013-07-31T00:00:00",
          "2013-07-31T01:00:00",
          "2013-07-31T02:00:00",
          "2013-07-31T03:00:00",
          "2013-07-31T04:00:00",
          "2013-07-31T05:00:00",
          "2013-07-31T06:00:00",
          "2013-07-31T07:00:00",
          "2013-07-31T08:00:00",
          "2013-07-31T09:00:00",
          "2013-07-31T10:00:00",
          "2013-07-31T11:00:00",
          "2013-07-31T12:00:00",
          "2013-07-31T13:00:00",
          "2013-07-31T14:00:00",
          "2013-07-31T15:00:00",
          "2013-07-31T16:00:00",
          "2013-07-31T17:00:00",
          "2013-07-31T18:00:00",
          "2013-07-31T19:00:00",
          "2013-07-31T20:00:00",
          "2013-07-31T21:00:00",
          "2013-07-31T22:00:00",
          "2013-07-31T23:00:00"
         ],
         "y": [
          135,
          70,
          46,
          33,
          22,
          72,
          198,
          270,
          299,
          291,
          263,
          263,
          277,
          258,
          273,
          258,
          283,
          298,
          298,
          299,
          227,
          223,
          212,
          188,
          139,
          90,
          57,
          43,
          24,
          78,
          200,
          253,
          305,
          289,
          270,
          267,
          279,
          276,
          248,
          273,
          290,
          295,
          290,
          248,
          259,
          247,
          214,
          196,
          166,
          132,
          95,
          57,
          59,
          38,
          74,
          130,
          190,
          234,
          264,
          286,
          294,
          288,
          300,
          299,
          293,
          294,
          296,
          279,
          266,
          239,
          249,
          224,
          174,
          119.99999999999999,
          96.00000000000001,
          55,
          35,
          43,
          135,
          214,
          262,
          265,
          253,
          270,
          284,
          285,
          294,
          285,
          288,
          289,
          286,
          280,
          285,
          244,
          242,
          234,
          175,
          132,
          114,
          75,
          58,
          48,
          72,
          152,
          196,
          254,
          273,
          284,
          293,
          285,
          293,
          281,
          283,
          285,
          288,
          276,
          273,
          245,
          217,
          199,
          189,
          132,
          114,
          77,
          53,
          47,
          69,
          122,
          188,
          250,
          253,
          283,
          290,
          287,
          297,
          292,
          291,
          287,
          290,
          286,
          287,
          263,
          237,
          186,
          118,
          86,
          49,
          31.00000000000003,
          50,
          103,
          213,
          263,
          300,
          293,
          251,
          242,
          276,
          281,
          267,
          264,
          287,
          290,
          237,
          269,
          292,
          274,
          234,
          211,
          140,
          78,
          46,
          24,
          31.00000000000003,
          114,
          229,
          276,
          311,
          302,
          262,
          254,
          273,
          271,
          265,
          281,
          289,
          295,
          301,
          310,
          281,
          258,
          241,
          192,
          146,
          74,
          34,
          30,
          46,
          110,
          226,
          273,
          298,
          284,
          254,
          260,
          276,
          271,
          268,
          281,
          286,
          298,
          298,
          306,
          294,
          275,
          257,
          215,
          169,
          95,
          58,
          27,
          25,
          70,
          200,
          273,
          305,
          297,
          264,
          272,
          280,
          272,
          271,
          278,
          276,
          290,
          291,
          292,
          274,
          260,
          240,
          223,
          189,
          119.99999999999999,
          90,
          51,
          35,
          85,
          196,
          253,
          288,
          293,
          268,
          270,
          286,
          278,
          251,
          270,
          276,
          282,
          277,
          229,
          151,
          168,
          139,
          86,
          97,
          111,
          71,
          69,
          40,
          36.00000000000003,
          96.00000000000001,
          147,
          214,
          256,
          285,
          296,
          307,
          310,
          305,
          306,
          298,
          282,
          292,
          293,
          282,
          264,
          242,
          238,
          212,
          168,
          133,
          114,
          84,
          53,
          80,
          142,
          216,
          249,
          282,
          296,
          296,
          302,
          303,
          299,
          305,
          302,
          304,
          301,
          289,
          278,
          251,
          221,
          141,
          87,
          48,
          29,
          32,
          103.99999999999999,
          211,
          283,
          311,
          301,
          270,
          272,
          276,
          269,
          281,
          279,
          287,
          297,
          301,
          308,
          298,
          282,
          243,
          201,
          158,
          86,
          54,
          33,
          35,
          115,
          230,
          288,
          308,
          306,
          273,
          265,
          277,
          277,
          270,
          281,
          289,
          301,
          306,
          307,
          294,
          269,
          250,
          201,
          167,
          106,
          74,
          36.99999999999997,
          30,
          106.99999999999999,
          220,
          279,
          317,
          302,
          278,
          268,
          277,
          269,
          278,
          267,
          281,
          295,
          302,
          300,
          289,
          275,
          259,
          234,
          168,
          96.00000000000001,
          61,
          36.00000000000003,
          32,
          78,
          223,
          288,
          309,
          294,
          272,
          272,
          268,
          279,
          272,
          273,
          281,
          294,
          300,
          295,
          299,
          272,
          258,
          231,
          184,
          115,
          90,
          46,
          43,
          85,
          196,
          268,
          304,
          303,
          276,
          276,
          271,
          292,
          270,
          279,
          285,
          297,
          297,
          293,
          279,
          259,
          241,
          248,
          193,
          170,
          117.00000000000001,
          95,
          62,
          43,
          121,
          167,
          229,
          261,
          294,
          301,
          308,
          306,
          306,
          305,
          307,
          303,
          286,
          284,
          273,
          252,
          237,
          230,
          204,
          181,
          130,
          101.00000000000001,
          66,
          43,
          105,
          138,
          228,
          267,
          285,
          300,
          309,
          303,
          309,
          314,
          312,
          312,
          309,
          301,
          295,
          279,
          265,
          222,
          155,
          91,
          46,
          27,
          34,
          91,
          224,
          284,
          306,
          306,
          263,
          263,
          248,
          270,
          266,
          277,
          292,
          294,
          302,
          285,
          285,
          214,
          177,
          176,
          114,
          80,
          28,
          6,
          7,
          79,
          214,
          286,
          309,
          305,
          269,
          269,
          280,
          277,
          276,
          283,
          290,
          299,
          306,
          306,
          301,
          285,
          264,
          242,
          175,
          105,
          55,
          38,
          28,
          110,
          237,
          286,
          312,
          295,
          274,
          280,
          281,
          281,
          277,
          288,
          293,
          301,
          308,
          309,
          302,
          273,
          270,
          248,
          175,
          106,
          64,
          32,
          40,
          94,
          220,
          283,
          314,
          311,
          287,
          268,
          276,
          272,
          279,
          284,
          288,
          302,
          301,
          299,
          292,
          276,
          253,
          184,
          151,
          117.00000000000001,
          96.00000000000001,
          47,
          47,
          90,
          208,
          270,
          313,
          306,
          288,
          282,
          288,
          293,
          299,
          301,
          289,
          308,
          307,
          314,
          292,
          273,
          264,
          247,
          215,
          176,
          149,
          106.99999999999999,
          74,
          57,
          113,
          188,
          251,
          274,
          306,
          311,
          315,
          307,
          307,
          313,
          309,
          311,
          310,
          305,
          290,
          276,
          262,
          244,
          215,
          190,
          152,
          103.99999999999999,
          89,
          44,
          84,
          159,
          219,
          263,
          282,
          307,
          304,
          304,
          293,
          310,
          318,
          308,
          296,
          245,
          213,
          227,
          191,
          73,
          90,
          57,
          20.99999999999997,
          29,
          36.00000000000003,
          84,
          231,
          286,
          308,
          304,
          277,
          278,
          288,
          287,
          291,
          286,
          300,
          306,
          319,
          311,
          296,
          284,
          254,
          225,
          156,
          101.00000000000001,
          57,
          36.00000000000003,
          27,
          121,
          236,
          298,
          314,
          311,
          278,
          288,
          283,
          293,
          282,
          287,
          302,
          304,
          311,
          308,
          312,
          285,
          262,
          238,
          186,
          115,
          57,
          45,
          46,
          119.99999999999999,
          239,
          291,
          313,
          305,
          271,
          274,
          287,
          285,
          294,
          284,
          296,
          305,
          312,
          310,
          302,
          280,
          267,
          234
         ]
        },
        {
         "mode": "markers",
         "name": "Anomaly",
         "type": "scatter",
         "x": [],
         "y": [
          135,
          70,
          46,
          33,
          22,
          72,
          198,
          270,
          299,
          291,
          263,
          263,
          277,
          258,
          273,
          258,
          283,
          298,
          298,
          299,
          227,
          223,
          212,
          188,
          139,
          90,
          57,
          43,
          24,
          78,
          200,
          253,
          305,
          289,
          270,
          267,
          279,
          276,
          248,
          273,
          290,
          295,
          290,
          248,
          259,
          247,
          214,
          196,
          166,
          132,
          95,
          57,
          59,
          38,
          74,
          130,
          190,
          234,
          264,
          286,
          294,
          288,
          300,
          299,
          293,
          294,
          296,
          279,
          266,
          239,
          249,
          224,
          174,
          119.99999999999999,
          96.00000000000001,
          55,
          35,
          43,
          135,
          214,
          262,
          265,
          253,
          270,
          284,
          285,
          294,
          285,
          288,
          289,
          286,
          280,
          285,
          244,
          242,
          234,
          175,
          132,
          114,
          75,
          58,
          48,
          72,
          152,
          196,
          254,
          273,
          284,
          293,
          285,
          293,
          281,
          283,
          285,
          288,
          276,
          273,
          245,
          217,
          199,
          189,
          132,
          114,
          77,
          53,
          47,
          69,
          122,
          188,
          250,
          253,
          283,
          290,
          287,
          297,
          292,
          291,
          287,
          290,
          286,
          287,
          263,
          237,
          186,
          118,
          86,
          49,
          31.00000000000003,
          50,
          103,
          213,
          263,
          300,
          293,
          251,
          242,
          276,
          281,
          267,
          264,
          287,
          290,
          237,
          269,
          292,
          274,
          234,
          211,
          140,
          78,
          46,
          24,
          31.00000000000003,
          114,
          229,
          276,
          311,
          302,
          262,
          254,
          273,
          271,
          265,
          281,
          289,
          295,
          301,
          310,
          281,
          258,
          241,
          192,
          146,
          74,
          34,
          30,
          46,
          110,
          226,
          273,
          298,
          284,
          254,
          260,
          276,
          271,
          268,
          281,
          286,
          298,
          298,
          306,
          294,
          275,
          257,
          215,
          169,
          95,
          58,
          27,
          25,
          70,
          200,
          273,
          305,
          297,
          264,
          272,
          280,
          272,
          271,
          278,
          276,
          290,
          291,
          292,
          274,
          260,
          240,
          223,
          189,
          119.99999999999999,
          90,
          51,
          35,
          85,
          196,
          253,
          288,
          293,
          268,
          270,
          286,
          278,
          251,
          270,
          276,
          282,
          277,
          229,
          151,
          168,
          139,
          86,
          97,
          111,
          71,
          69,
          40,
          36.00000000000003,
          96.00000000000001,
          147,
          214,
          256,
          285,
          296,
          307,
          310,
          305,
          306,
          298,
          282,
          292,
          293,
          282,
          264,
          242,
          238,
          212,
          168,
          133,
          114,
          84,
          53,
          80,
          142,
          216,
          249,
          282,
          296,
          296,
          302,
          303,
          299,
          305,
          302,
          304,
          301,
          289,
          278,
          251,
          221,
          141,
          87,
          48,
          29,
          32,
          103.99999999999999,
          211,
          283,
          311,
          301,
          270,
          272,
          276,
          269,
          281,
          279,
          287,
          297,
          301,
          308,
          298,
          282,
          243,
          201,
          158,
          86,
          54,
          33,
          35,
          115,
          230,
          288,
          308,
          306,
          273,
          265,
          277,
          277,
          270,
          281,
          289,
          301,
          306,
          307,
          294,
          269,
          250,
          201,
          167,
          106,
          74,
          36.99999999999997,
          30,
          106.99999999999999,
          220,
          279,
          317,
          302,
          278,
          268,
          277,
          269,
          278,
          267,
          281,
          295,
          302,
          300,
          289,
          275,
          259,
          234,
          168,
          96.00000000000001,
          61,
          36.00000000000003,
          32,
          78,
          223,
          288,
          309,
          294,
          272,
          272,
          268,
          279,
          272,
          273,
          281,
          294,
          300,
          295,
          299,
          272,
          258,
          231,
          184,
          115,
          90,
          46,
          43,
          85,
          196,
          268,
          304,
          303,
          276,
          276,
          271,
          292,
          270,
          279,
          285,
          297,
          297,
          293,
          279,
          259,
          241,
          248,
          193,
          170,
          117.00000000000001,
          95,
          62,
          43,
          121,
          167,
          229,
          261,
          294,
          301,
          308,
          306,
          306,
          305,
          307,
          303,
          286,
          284,
          273,
          252,
          237,
          230,
          204,
          181,
          130,
          101.00000000000001,
          66,
          43,
          105,
          138,
          228,
          267,
          285,
          300,
          309,
          303,
          309,
          314,
          312,
          312,
          309,
          301,
          295,
          279,
          265,
          222,
          155,
          91,
          46,
          27,
          34,
          91,
          224,
          284,
          306,
          306,
          263,
          263,
          248,
          270,
          266,
          277,
          292,
          294,
          302,
          285,
          285,
          214,
          177,
          176,
          114,
          80,
          28,
          6,
          7,
          79,
          214,
          286,
          309,
          305,
          269,
          269,
          280,
          277,
          276,
          283,
          290,
          299,
          306,
          306,
          301,
          285,
          264,
          242,
          175,
          105,
          55,
          38,
          28,
          110,
          237,
          286,
          312,
          295,
          274,
          280,
          281,
          281,
          277,
          288,
          293,
          301,
          308,
          309,
          302,
          273,
          270,
          248,
          175,
          106,
          64,
          32,
          40,
          94,
          220,
          283,
          314,
          311,
          287,
          268,
          276,
          272,
          279,
          284,
          288,
          302,
          301,
          299,
          292,
          276,
          253,
          184,
          151,
          117.00000000000001,
          96.00000000000001,
          47,
          47,
          90,
          208,
          270,
          313,
          306,
          288,
          282,
          288,
          293,
          299,
          301,
          289,
          308,
          307,
          314,
          292,
          273,
          264,
          247,
          215,
          176,
          149,
          106.99999999999999,
          74,
          57,
          113,
          188,
          251,
          274,
          306,
          311,
          315,
          307,
          307,
          313,
          309,
          311,
          310,
          305,
          290,
          276,
          262,
          244,
          215,
          190,
          152,
          103.99999999999999,
          89,
          44,
          84,
          159,
          219,
          263,
          282,
          307,
          304,
          304,
          293,
          310,
          318,
          308,
          296,
          245,
          213,
          227,
          191,
          73,
          90,
          57,
          20.99999999999997,
          29,
          36.00000000000003,
          84,
          231,
          286,
          308,
          304,
          277,
          278,
          288,
          287,
          291,
          286,
          300,
          306,
          319,
          311,
          296,
          284,
          254,
          225,
          156,
          101.00000000000001,
          57,
          36.00000000000003,
          27,
          121,
          236,
          298,
          314,
          311,
          278,
          288,
          283,
          293,
          282,
          287,
          302,
          304,
          311,
          308,
          312,
          285,
          262,
          238,
          186,
          115,
          57,
          45,
          46,
          119.99999999999999,
          239,
          291,
          313,
          305,
          271,
          274,
          287,
          285,
          294,
          284,
          296,
          305,
          312,
          310,
          302,
          280,
          267,
          234
         ]
        }
       ],
       "layout": {
        "showlegend": true,
        "template": {
         "data": {
          "bar": [
           {
            "error_x": {
             "color": "#2a3f5f"
            },
            "error_y": {
             "color": "#2a3f5f"
            },
            "marker": {
             "line": {
              "color": "#E5ECF6",
              "width": 0.5
             },
             "pattern": {
              "fillmode": "overlay",
              "size": 10,
              "solidity": 0.2
             }
            },
            "type": "bar"
           }
          ],
          "barpolar": [
           {
            "marker": {
             "line": {
              "color": "#E5ECF6",
              "width": 0.5
             },
             "pattern": {
              "fillmode": "overlay",
              "size": 10,
              "solidity": 0.2
             }
            },
            "type": "barpolar"
           }
          ],
          "carpet": [
           {
            "aaxis": {
             "endlinecolor": "#2a3f5f",
             "gridcolor": "white",
             "linecolor": "white",
             "minorgridcolor": "white",
             "startlinecolor": "#2a3f5f"
            },
            "baxis": {
             "endlinecolor": "#2a3f5f",
             "gridcolor": "white",
             "linecolor": "white",
             "minorgridcolor": "white",
             "startlinecolor": "#2a3f5f"
            },
            "type": "carpet"
           }
          ],
          "choropleth": [
           {
            "colorbar": {
             "outlinewidth": 0,
             "ticks": ""
            },
            "type": "choropleth"
           }
          ],
          "contour": [
           {
            "colorbar": {
             "outlinewidth": 0,
             "ticks": ""
            },
            "colorscale": [
             [
              0,
              "#0d0887"
             ],
             [
              0.1111111111111111,
              "#46039f"
             ],
             [
              0.2222222222222222,
              "#7201a8"
             ],
             [
              0.3333333333333333,
              "#9c179e"
             ],
             [
              0.4444444444444444,
              "#bd3786"
             ],
             [
              0.5555555555555556,
              "#d8576b"
             ],
             [
              0.6666666666666666,
              "#ed7953"
             ],
             [
              0.7777777777777778,
              "#fb9f3a"
             ],
             [
              0.8888888888888888,
              "#fdca26"
             ],
             [
              1,
              "#f0f921"
             ]
            ],
            "type": "contour"
           }
          ],
          "contourcarpet": [
           {
            "colorbar": {
             "outlinewidth": 0,
             "ticks": ""
            },
            "type": "contourcarpet"
           }
          ],
          "heatmap": [
           {
            "colorbar": {
             "outlinewidth": 0,
             "ticks": ""
            },
            "colorscale": [
             [
              0,
              "#0d0887"
             ],
             [
              0.1111111111111111,
              "#46039f"
             ],
             [
              0.2222222222222222,
              "#7201a8"
             ],
             [
              0.3333333333333333,
              "#9c179e"
             ],
             [
              0.4444444444444444,
              "#bd3786"
             ],
             [
              0.5555555555555556,
              "#d8576b"
             ],
             [
              0.6666666666666666,
              "#ed7953"
             ],
             [
              0.7777777777777778,
              "#fb9f3a"
             ],
             [
              0.8888888888888888,
              "#fdca26"
             ],
             [
              1,
              "#f0f921"
             ]
            ],
            "type": "heatmap"
           }
          ],
          "heatmapgl": [
           {
            "colorbar": {
             "outlinewidth": 0,
             "ticks": ""
            },
            "colorscale": [
             [
              0,
              "#0d0887"
             ],
             [
              0.1111111111111111,
              "#46039f"
             ],
             [
              0.2222222222222222,
              "#7201a8"
             ],
             [
              0.3333333333333333,
              "#9c179e"
             ],
             [
              0.4444444444444444,
              "#bd3786"
             ],
             [
              0.5555555555555556,
              "#d8576b"
             ],
             [
              0.6666666666666666,
              "#ed7953"
             ],
             [
              0.7777777777777778,
              "#fb9f3a"
             ],
             [
              0.8888888888888888,
              "#fdca26"
             ],
             [
              1,
              "#f0f921"
             ]
            ],
            "type": "heatmapgl"
           }
          ],
          "histogram": [
           {
            "marker": {
             "pattern": {
              "fillmode": "overlay",
              "size": 10,
              "solidity": 0.2
             }
            },
            "type": "histogram"
           }
          ],
          "histogram2d": [
           {
            "colorbar": {
             "outlinewidth": 0,
             "ticks": ""
            },
            "colorscale": [
             [
              0,
              "#0d0887"
             ],
             [
              0.1111111111111111,
              "#46039f"
             ],
             [
              0.2222222222222222,
              "#7201a8"
             ],
             [
              0.3333333333333333,
              "#9c179e"
             ],
             [
              0.4444444444444444,
              "#bd3786"
             ],
             [
              0.5555555555555556,
              "#d8576b"
             ],
             [
              0.6666666666666666,
              "#ed7953"
             ],
             [
              0.7777777777777778,
              "#fb9f3a"
             ],
             [
              0.8888888888888888,
              "#fdca26"
             ],
             [
              1,
              "#f0f921"
             ]
            ],
            "type": "histogram2d"
           }
          ],
          "histogram2dcontour": [
           {
            "colorbar": {
             "outlinewidth": 0,
             "ticks": ""
            },
            "colorscale": [
             [
              0,
              "#0d0887"
             ],
             [
              0.1111111111111111,
              "#46039f"
             ],
             [
              0.2222222222222222,
              "#7201a8"
             ],
             [
              0.3333333333333333,
              "#9c179e"
             ],
             [
              0.4444444444444444,
              "#bd3786"
             ],
             [
              0.5555555555555556,
              "#d8576b"
             ],
             [
              0.6666666666666666,
              "#ed7953"
             ],
             [
              0.7777777777777778,
              "#fb9f3a"
             ],
             [
              0.8888888888888888,
              "#fdca26"
             ],
             [
              1,
              "#f0f921"
             ]
            ],
            "type": "histogram2dcontour"
           }
          ],
          "mesh3d": [
           {
            "colorbar": {
             "outlinewidth": 0,
             "ticks": ""
            },
            "type": "mesh3d"
           }
          ],
          "parcoords": [
           {
            "line": {
             "colorbar": {
              "outlinewidth": 0,
              "ticks": ""
             }
            },
            "type": "parcoords"
           }
          ],
          "pie": [
           {
            "automargin": true,
            "type": "pie"
           }
          ],
          "scatter": [
           {
            "fillpattern": {
             "fillmode": "overlay",
             "size": 10,
             "solidity": 0.2
            },
            "type": "scatter"
           }
          ],
          "scatter3d": [
           {
            "line": {
             "colorbar": {
              "outlinewidth": 0,
              "ticks": ""
             }
            },
            "marker": {
             "colorbar": {
              "outlinewidth": 0,
              "ticks": ""
             }
            },
            "type": "scatter3d"
           }
          ],
          "scattercarpet": [
           {
            "marker": {
             "colorbar": {
              "outlinewidth": 0,
              "ticks": ""
             }
            },
            "type": "scattercarpet"
           }
          ],
          "scattergeo": [
           {
            "marker": {
             "colorbar": {
              "outlinewidth": 0,
              "ticks": ""
             }
            },
            "type": "scattergeo"
           }
          ],
          "scattergl": [
           {
            "marker": {
             "colorbar": {
              "outlinewidth": 0,
              "ticks": ""
             }
            },
            "type": "scattergl"
           }
          ],
          "scattermapbox": [
           {
            "marker": {
             "colorbar": {
              "outlinewidth": 0,
              "ticks": ""
             }
            },
            "type": "scattermapbox"
           }
          ],
          "scatterpolar": [
           {
            "marker": {
             "colorbar": {
              "outlinewidth": 0,
              "ticks": ""
             }
            },
            "type": "scatterpolar"
           }
          ],
          "scatterpolargl": [
           {
            "marker": {
             "colorbar": {
              "outlinewidth": 0,
              "ticks": ""
             }
            },
            "type": "scatterpolargl"
           }
          ],
          "scatterternary": [
           {
            "marker": {
             "colorbar": {
              "outlinewidth": 0,
              "ticks": ""
             }
            },
            "type": "scatterternary"
           }
          ],
          "surface": [
           {
            "colorbar": {
             "outlinewidth": 0,
             "ticks": ""
            },
            "colorscale": [
             [
              0,
              "#0d0887"
             ],
             [
              0.1111111111111111,
              "#46039f"
             ],
             [
              0.2222222222222222,
              "#7201a8"
             ],
             [
              0.3333333333333333,
              "#9c179e"
             ],
             [
              0.4444444444444444,
              "#bd3786"
             ],
             [
              0.5555555555555556,
              "#d8576b"
             ],
             [
              0.6666666666666666,
              "#ed7953"
             ],
             [
              0.7777777777777778,
              "#fb9f3a"
             ],
             [
              0.8888888888888888,
              "#fdca26"
             ],
             [
              1,
              "#f0f921"
             ]
            ],
            "type": "surface"
           }
          ],
          "table": [
           {
            "cells": {
             "fill": {
              "color": "#EBF0F8"
             },
             "line": {
              "color": "white"
             }
            },
            "header": {
             "fill": {
              "color": "#C8D4E3"
             },
             "line": {
              "color": "white"
             }
            },
            "type": "table"
           }
          ]
         },
         "layout": {
          "annotationdefaults": {
           "arrowcolor": "#2a3f5f",
           "arrowhead": 0,
           "arrowwidth": 1
          },
          "autotypenumbers": "strict",
          "coloraxis": {
           "colorbar": {
            "outlinewidth": 0,
            "ticks": ""
           }
          },
          "colorscale": {
           "diverging": [
            [
             0,
             "#8e0152"
            ],
            [
             0.1,
             "#c51b7d"
            ],
            [
             0.2,
             "#de77ae"
            ],
            [
             0.3,
             "#f1b6da"
            ],
            [
             0.4,
             "#fde0ef"
            ],
            [
             0.5,
             "#f7f7f7"
            ],
            [
             0.6,
             "#e6f5d0"
            ],
            [
             0.7,
             "#b8e186"
            ],
            [
             0.8,
             "#7fbc41"
            ],
            [
             0.9,
             "#4d9221"
            ],
            [
             1,
             "#276419"
            ]
           ],
           "sequential": [
            [
             0,
             "#0d0887"
            ],
            [
             0.1111111111111111,
             "#46039f"
            ],
            [
             0.2222222222222222,
             "#7201a8"
            ],
            [
             0.3333333333333333,
             "#9c179e"
            ],
            [
             0.4444444444444444,
             "#bd3786"
            ],
            [
             0.5555555555555556,
             "#d8576b"
            ],
            [
             0.6666666666666666,
             "#ed7953"
            ],
            [
             0.7777777777777778,
             "#fb9f3a"
            ],
            [
             0.8888888888888888,
             "#fdca26"
            ],
            [
             1,
             "#f0f921"
            ]
           ],
           "sequentialminus": [
            [
             0,
             "#0d0887"
            ],
            [
             0.1111111111111111,
             "#46039f"
            ],
            [
             0.2222222222222222,
             "#7201a8"
            ],
            [
             0.3333333333333333,
             "#9c179e"
            ],
            [
             0.4444444444444444,
             "#bd3786"
            ],
            [
             0.5555555555555556,
             "#d8576b"
            ],
            [
             0.6666666666666666,
             "#ed7953"
            ],
            [
             0.7777777777777778,
             "#fb9f3a"
            ],
            [
             0.8888888888888888,
             "#fdca26"
            ],
            [
             1,
             "#f0f921"
            ]
           ]
          },
          "colorway": [
           "#636efa",
           "#EF553B",
           "#00cc96",
           "#ab63fa",
           "#FFA15A",
           "#19d3f3",
           "#FF6692",
           "#B6E880",
           "#FF97FF",
           "#FECB52"
          ],
          "font": {
           "color": "#2a3f5f"
          },
          "geo": {
           "bgcolor": "white",
           "lakecolor": "white",
           "landcolor": "#E5ECF6",
           "showlakes": true,
           "showland": true,
           "subunitcolor": "white"
          },
          "hoverlabel": {
           "align": "left"
          },
          "hovermode": "closest",
          "mapbox": {
           "style": "light"
          },
          "paper_bgcolor": "white",
          "plot_bgcolor": "#E5ECF6",
          "polar": {
           "angularaxis": {
            "gridcolor": "white",
            "linecolor": "white",
            "ticks": ""
           },
           "bgcolor": "#E5ECF6",
           "radialaxis": {
            "gridcolor": "white",
            "linecolor": "white",
            "ticks": ""
           }
          },
          "scene": {
           "xaxis": {
            "backgroundcolor": "#E5ECF6",
            "gridcolor": "white",
            "gridwidth": 2,
            "linecolor": "white",
            "showbackground": true,
            "ticks": "",
            "zerolinecolor": "white"
           },
           "yaxis": {
            "backgroundcolor": "#E5ECF6",
            "gridcolor": "white",
            "gridwidth": 2,
            "linecolor": "white",
            "showbackground": true,
            "ticks": "",
            "zerolinecolor": "white"
           },
           "zaxis": {
            "backgroundcolor": "#E5ECF6",
            "gridcolor": "white",
            "gridwidth": 2,
            "linecolor": "white",
            "showbackground": true,
            "ticks": "",
            "zerolinecolor": "white"
           }
          },
          "shapedefaults": {
           "line": {
            "color": "#2a3f5f"
           }
          },
          "ternary": {
           "aaxis": {
            "gridcolor": "white",
            "linecolor": "white",
            "ticks": ""
           },
           "baxis": {
            "gridcolor": "white",
            "linecolor": "white",
            "ticks": ""
           },
           "bgcolor": "#E5ECF6",
           "caxis": {
            "gridcolor": "white",
            "linecolor": "white",
            "ticks": ""
           }
          },
          "title": {
           "x": 0.05
          },
          "xaxis": {
           "automargin": true,
           "gridcolor": "white",
           "linecolor": "white",
           "ticks": "",
           "title": {
            "standoff": 15
           },
           "zerolinecolor": "white",
           "zerolinewidth": 2
          },
          "yaxis": {
           "automargin": true,
           "gridcolor": "white",
           "linecolor": "white",
           "ticks": "",
           "title": {
            "standoff": 15
           },
           "zerolinecolor": "white",
           "zerolinewidth": 2
          }
         }
        },
        "title": {
         "text": "Detected anomalies"
        }
       }
      }
     },
     "metadata": {},
     "output_type": "display_data"
    }
   ],
   "source": [
    "fig1 = go.Figure()\n",
    "fig1.add_trace(go.Scatter(x=test1_score_df.index, y=test1_trans['ss_id'], name='Tripduration'))\n",
    "fig1.add_trace(go.Scatter(x=anomalies1.index, y=anamolies1_tr['ss_id'], mode='markers', name='Anomaly'))\n",
    "fig1.update_layout(showlegend=True, title='Detected anomalies')\n",
    "fig1.show()"
   ]
  }
 ],
 "metadata": {
  "kernelspec": {
   "display_name": "Python 3",
   "language": "python",
   "name": "python3"
  },
  "language_info": {
   "codemirror_mode": {
    "name": "ipython",
    "version": 3
   },
   "file_extension": ".py",
   "mimetype": "text/x-python",
   "name": "python",
   "nbconvert_exporter": "python",
   "pygments_lexer": "ipython3",
   "version": "3.10.9"
  },
  "orig_nbformat": 4
 },
 "nbformat": 4,
 "nbformat_minor": 2
}
