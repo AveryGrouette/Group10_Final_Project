{
 "cells": [
  {
   "cell_type": "code",
   "execution_count": 2,
   "metadata": {},
   "outputs": [],
   "source": [
    "import pandas as pd\n",
    "import numpy as np\n",
    "from sklearn.preprocessing import MinMaxScaler\n",
    "from keras.models import Sequential\n",
    "from keras.layers import Dense, LSTM, Dropout, RepeatVector, TimeDistributed\n",
    "import matplotlib.pyplot as plt\n",
    "import plotly.graph_objects as go"
   ]
  },
  {
   "cell_type": "code",
   "execution_count": 3,
   "metadata": {},
   "outputs": [
    {
     "data": {
      "text/html": [
       "<div>\n",
       "<style scoped>\n",
       "    .dataframe tbody tr th:only-of-type {\n",
       "        vertical-align: middle;\n",
       "    }\n",
       "\n",
       "    .dataframe tbody tr th {\n",
       "        vertical-align: top;\n",
       "    }\n",
       "\n",
       "    .dataframe thead th {\n",
       "        text-align: right;\n",
       "    }\n",
       "</style>\n",
       "<table border=\"1\" class=\"dataframe\">\n",
       "  <thead>\n",
       "    <tr style=\"text-align: right;\">\n",
       "      <th></th>\n",
       "      <th>ID</th>\n",
       "      <th>tripduration</th>\n",
       "      <th>starttime</th>\n",
       "      <th>stoptime</th>\n",
       "      <th>ss_id</th>\n",
       "      <th>ss_name</th>\n",
       "      <th>ss_latitude</th>\n",
       "      <th>ss_longitude</th>\n",
       "      <th>es_id</th>\n",
       "      <th>es_name</th>\n",
       "      <th>es_latitude</th>\n",
       "      <th>es_longitude</th>\n",
       "      <th>bikeid</th>\n",
       "      <th>usertype</th>\n",
       "      <th>birth year</th>\n",
       "      <th>gender</th>\n",
       "    </tr>\n",
       "  </thead>\n",
       "  <tbody>\n",
       "    <tr>\n",
       "      <th>0</th>\n",
       "      <td>0</td>\n",
       "      <td>695</td>\n",
       "      <td>2013-06-01 00:00:00</td>\n",
       "      <td>2013-06-01 00:11:00</td>\n",
       "      <td>444</td>\n",
       "      <td>Broadway &amp; W 24 St</td>\n",
       "      <td>40.742354</td>\n",
       "      <td>-73.989151</td>\n",
       "      <td>434</td>\n",
       "      <td>9 Ave &amp; W 18 St</td>\n",
       "      <td>40.743174</td>\n",
       "      <td>-74.003664</td>\n",
       "      <td>19678</td>\n",
       "      <td>Subscriber</td>\n",
       "      <td>1983</td>\n",
       "      <td>1</td>\n",
       "    </tr>\n",
       "    <tr>\n",
       "      <th>1</th>\n",
       "      <td>1</td>\n",
       "      <td>693</td>\n",
       "      <td>2013-06-01 00:00:00</td>\n",
       "      <td>2013-06-01 00:11:00</td>\n",
       "      <td>444</td>\n",
       "      <td>Broadway &amp; W 24 St</td>\n",
       "      <td>40.742354</td>\n",
       "      <td>-73.989151</td>\n",
       "      <td>434</td>\n",
       "      <td>9 Ave &amp; W 18 St</td>\n",
       "      <td>40.743174</td>\n",
       "      <td>-74.003664</td>\n",
       "      <td>16649</td>\n",
       "      <td>Subscriber</td>\n",
       "      <td>1984</td>\n",
       "      <td>1</td>\n",
       "    </tr>\n",
       "    <tr>\n",
       "      <th>2</th>\n",
       "      <td>2</td>\n",
       "      <td>2059</td>\n",
       "      <td>2013-06-01 00:00:00</td>\n",
       "      <td>2013-06-01 00:35:00</td>\n",
       "      <td>406</td>\n",
       "      <td>Hicks St &amp; Montague St</td>\n",
       "      <td>40.695128</td>\n",
       "      <td>-73.995951</td>\n",
       "      <td>406</td>\n",
       "      <td>Hicks St &amp; Montague St</td>\n",
       "      <td>40.695128</td>\n",
       "      <td>-73.995951</td>\n",
       "      <td>19599</td>\n",
       "      <td>Customer</td>\n",
       "      <td>0</td>\n",
       "      <td>0</td>\n",
       "    </tr>\n",
       "    <tr>\n",
       "      <th>3</th>\n",
       "      <td>3</td>\n",
       "      <td>123</td>\n",
       "      <td>2013-06-01 00:01:00</td>\n",
       "      <td>2013-06-01 00:03:00</td>\n",
       "      <td>475</td>\n",
       "      <td>E 15 St &amp; Irving Pl</td>\n",
       "      <td>40.735243</td>\n",
       "      <td>-73.987586</td>\n",
       "      <td>262</td>\n",
       "      <td>Washington Park</td>\n",
       "      <td>40.691782</td>\n",
       "      <td>-73.973730</td>\n",
       "      <td>16352</td>\n",
       "      <td>Subscriber</td>\n",
       "      <td>1960</td>\n",
       "      <td>1</td>\n",
       "    </tr>\n",
       "    <tr>\n",
       "      <th>4</th>\n",
       "      <td>4</td>\n",
       "      <td>1521</td>\n",
       "      <td>2013-06-01 00:01:00</td>\n",
       "      <td>2013-06-01 00:26:00</td>\n",
       "      <td>2008</td>\n",
       "      <td>Little West St &amp; 1 Pl</td>\n",
       "      <td>40.705693</td>\n",
       "      <td>-74.016777</td>\n",
       "      <td>310</td>\n",
       "      <td>State St &amp; Smith St</td>\n",
       "      <td>40.689269</td>\n",
       "      <td>-73.989129</td>\n",
       "      <td>15567</td>\n",
       "      <td>Subscriber</td>\n",
       "      <td>1983</td>\n",
       "      <td>1</td>\n",
       "    </tr>\n",
       "  </tbody>\n",
       "</table>\n",
       "</div>"
      ],
      "text/plain": [
       "   ID  tripduration           starttime            stoptime  ss_id  \\\n",
       "0   0           695 2013-06-01 00:00:00 2013-06-01 00:11:00    444   \n",
       "1   1           693 2013-06-01 00:00:00 2013-06-01 00:11:00    444   \n",
       "2   2          2059 2013-06-01 00:00:00 2013-06-01 00:35:00    406   \n",
       "3   3           123 2013-06-01 00:01:00 2013-06-01 00:03:00    475   \n",
       "4   4          1521 2013-06-01 00:01:00 2013-06-01 00:26:00   2008   \n",
       "\n",
       "                  ss_name  ss_latitude  ss_longitude  es_id  \\\n",
       "0      Broadway & W 24 St    40.742354    -73.989151    434   \n",
       "1      Broadway & W 24 St    40.742354    -73.989151    434   \n",
       "2  Hicks St & Montague St    40.695128    -73.995951    406   \n",
       "3     E 15 St & Irving Pl    40.735243    -73.987586    262   \n",
       "4   Little West St & 1 Pl    40.705693    -74.016777    310   \n",
       "\n",
       "                  es_name  es_latitude  es_longitude  bikeid    usertype  \\\n",
       "0         9 Ave & W 18 St    40.743174    -74.003664   19678  Subscriber   \n",
       "1         9 Ave & W 18 St    40.743174    -74.003664   16649  Subscriber   \n",
       "2  Hicks St & Montague St    40.695128    -73.995951   19599    Customer   \n",
       "3         Washington Park    40.691782    -73.973730   16352  Subscriber   \n",
       "4     State St & Smith St    40.689269    -73.989129   15567  Subscriber   \n",
       "\n",
       "   birth year  gender  \n",
       "0        1983       1  \n",
       "1        1984       1  \n",
       "2           0       0  \n",
       "3        1960       1  \n",
       "4        1983       1  "
      ]
     },
     "execution_count": 3,
     "metadata": {},
     "output_type": "execute_result"
    }
   ],
   "source": [
    "# Load the bike trip data from CSV file\n",
    "df = pd.read_csv(\"clean_data.csv\", parse_dates=['starttime','stoptime'])\n",
    "df.head()"
   ]
  },
  {
   "cell_type": "code",
   "execution_count": 4,
   "metadata": {},
   "outputs": [],
   "source": [
    "# Drop irrelevant columns\n",
    "df = df.drop(['ID', 'bikeid', 'usertype', 'birth year', 'gender'], axis=1)\n",
    "\n",
    "# Set the index to the starttime column\n",
    "df = df.set_index('starttime')\n",
    "# Aggregate the data by hour and station\n",
    "df = df.resample('H').agg({'tripduration': 'count', 'ss_id': 'nunique', 'es_id': 'nunique'})"
   ]
  },
  {
   "cell_type": "code",
   "execution_count": 5,
   "metadata": {},
   "outputs": [
    {
     "data": {
      "text/html": [
       "<div>\n",
       "<style scoped>\n",
       "    .dataframe tbody tr th:only-of-type {\n",
       "        vertical-align: middle;\n",
       "    }\n",
       "\n",
       "    .dataframe tbody tr th {\n",
       "        vertical-align: top;\n",
       "    }\n",
       "\n",
       "    .dataframe thead th {\n",
       "        text-align: right;\n",
       "    }\n",
       "</style>\n",
       "<table border=\"1\" class=\"dataframe\">\n",
       "  <thead>\n",
       "    <tr style=\"text-align: right;\">\n",
       "      <th></th>\n",
       "      <th>tripduration</th>\n",
       "      <th>ss_id</th>\n",
       "      <th>es_id</th>\n",
       "    </tr>\n",
       "    <tr>\n",
       "      <th>starttime</th>\n",
       "      <th></th>\n",
       "      <th></th>\n",
       "      <th></th>\n",
       "    </tr>\n",
       "  </thead>\n",
       "  <tbody>\n",
       "    <tr>\n",
       "      <th>2013-06-01 00:00:00</th>\n",
       "      <td>152</td>\n",
       "      <td>101</td>\n",
       "      <td>106</td>\n",
       "    </tr>\n",
       "    <tr>\n",
       "      <th>2013-06-01 01:00:00</th>\n",
       "      <td>102</td>\n",
       "      <td>74</td>\n",
       "      <td>72</td>\n",
       "    </tr>\n",
       "    <tr>\n",
       "      <th>2013-06-01 02:00:00</th>\n",
       "      <td>67</td>\n",
       "      <td>52</td>\n",
       "      <td>56</td>\n",
       "    </tr>\n",
       "    <tr>\n",
       "      <th>2013-06-01 03:00:00</th>\n",
       "      <td>41</td>\n",
       "      <td>32</td>\n",
       "      <td>32</td>\n",
       "    </tr>\n",
       "    <tr>\n",
       "      <th>2013-06-01 04:00:00</th>\n",
       "      <td>16</td>\n",
       "      <td>15</td>\n",
       "      <td>14</td>\n",
       "    </tr>\n",
       "  </tbody>\n",
       "</table>\n",
       "</div>"
      ],
      "text/plain": [
       "                     tripduration  ss_id  es_id\n",
       "starttime                                      \n",
       "2013-06-01 00:00:00           152    101    106\n",
       "2013-06-01 01:00:00           102     74     72\n",
       "2013-06-01 02:00:00            67     52     56\n",
       "2013-06-01 03:00:00            41     32     32\n",
       "2013-06-01 04:00:00            16     15     14"
      ]
     },
     "execution_count": 5,
     "metadata": {},
     "output_type": "execute_result"
    }
   ],
   "source": [
    "df.head()"
   ]
  },
  {
   "cell_type": "code",
   "execution_count": 6,
   "metadata": {},
   "outputs": [
    {
     "data": {
      "text/plain": [
       "(721, 3)"
      ]
     },
     "execution_count": 6,
     "metadata": {},
     "output_type": "execute_result"
    }
   ],
   "source": [
    "df.shape"
   ]
  },
  {
   "cell_type": "code",
   "execution_count": 7,
   "metadata": {},
   "outputs": [
    {
     "data": {
      "text/plain": [
       "<Axes: xlabel='starttime'>"
      ]
     },
     "execution_count": 7,
     "metadata": {},
     "output_type": "execute_result"
    },
    {
     "data": {
      "image/png": "[encoded data removed]",
      "text/plain": [
       "<Figure size 640x480 with 1 Axes>"
      ]
     },
     "metadata": {},
     "output_type": "display_data"
    }
   ],
   "source": [
    "df.plot()"
   ]
  },
  {
   "cell_type": "code",
   "execution_count": 8,
   "metadata": {},
   "outputs": [],
   "source": [
    "# Split the data into training and testing sets\n",
    "train_size = int(len(df) * 0.8)\n",
    "test_size = len(df) - train_size\n",
    "train_data, test_data = df[0:train_size], df[train_size:len(df)]"
   ]
  },
  {
   "cell_type": "code",
   "execution_count": 9,
   "metadata": {},
   "outputs": [
    {
     "name": "stdout",
     "output_type": "stream",
     "text": [
      "(145, 3)\n",
      "(576, 3)\n"
     ]
    }
   ],
   "source": [
    "print(test_data.shape)\n",
    "print(train_data.shape)"
   ]
  },
  {
   "cell_type": "code",
   "execution_count": 10,
   "metadata": {},
   "outputs": [],
   "source": [
    "# Split the data into training and testing sets\n",
    "train_size = int(len(df) * 0.8)\n",
    "test_size = len(df) - train_size\n",
    "train_data, test_data = df[0:train_size], df[train_size:len(df)]"
   ]
  },
  {
   "cell_type": "code",
   "execution_count": 11,
   "metadata": {},
   "outputs": [
    {
     "name": "stderr",
     "output_type": "stream",
     "text": [
      "C:\\Users\\Rahul\\AppData\\Local\\Temp\\ipykernel_18100\\4113082349.py:9: SettingWithCopyWarning: \n",
      "A value is trying to be set on a copy of a slice from a DataFrame.\n",
      "Try using .loc[row_indexer,col_indexer] = value instead\n",
      "\n",
      "See the caveats in the documentation: https://pandas.pydata.org/pandas-docs/stable/user_guide/indexing.html#returning-a-view-versus-a-copy\n",
      "  train_data[['tripduration','ss_id','es_id']] = scaler.transform(train_data[['tripduration','ss_id','es_id']])\n",
      "C:\\Users\\Rahul\\AppData\\Local\\Temp\\ipykernel_18100\\4113082349.py:10: SettingWithCopyWarning: \n",
      "A value is trying to be set on a copy of a slice from a DataFrame.\n",
      "Try using .loc[row_indexer,col_indexer] = value instead\n",
      "\n",
      "See the caveats in the documentation: https://pandas.pydata.org/pandas-docs/stable/user_guide/indexing.html#returning-a-view-versus-a-copy\n",
      "  test_data[['tripduration','ss_id','es_id']] = scaler.transform(test_data[['tripduration','ss_id','es_id']])\n"
     ]
    }
   ],
   "source": [
    "from sklearn.preprocessing import StandardScaler\n",
    "\n",
    "\n",
    "\n",
    "# Normalize the data using MinMaxScaler\n",
    "scaler = StandardScaler()\n",
    "scaler = scaler.fit(train_data[['tripduration','ss_id','es_id']])\n",
    "\n",
    "train_data[['tripduration','ss_id','es_id']] = scaler.transform(train_data[['tripduration','ss_id','es_id']])\n",
    "test_data[['tripduration','ss_id','es_id']] = scaler.transform(test_data[['tripduration','ss_id','es_id']])"
   ]
  },
  {
   "cell_type": "code",
   "execution_count": 12,
   "metadata": {},
   "outputs": [
    {
     "data": {
      "text/html": [
       "<div>\n",
       "<style scoped>\n",
       "    .dataframe tbody tr th:only-of-type {\n",
       "        vertical-align: middle;\n",
       "    }\n",
       "\n",
       "    .dataframe tbody tr th {\n",
       "        vertical-align: top;\n",
       "    }\n",
       "\n",
       "    .dataframe thead th {\n",
       "        text-align: right;\n",
       "    }\n",
       "</style>\n",
       "<table border=\"1\" class=\"dataframe\">\n",
       "  <thead>\n",
       "    <tr style=\"text-align: right;\">\n",
       "      <th></th>\n",
       "      <th>tripduration</th>\n",
       "      <th>ss_id</th>\n",
       "      <th>es_id</th>\n",
       "    </tr>\n",
       "    <tr>\n",
       "      <th>starttime</th>\n",
       "      <th></th>\n",
       "      <th></th>\n",
       "      <th></th>\n",
       "    </tr>\n",
       "  </thead>\n",
       "  <tbody>\n",
       "    <tr>\n",
       "      <th>2013-06-01 00:00:00</th>\n",
       "      <td>-0.827179</td>\n",
       "      <td>-0.788981</td>\n",
       "      <td>-0.738461</td>\n",
       "    </tr>\n",
       "    <tr>\n",
       "      <th>2013-06-01 01:00:00</th>\n",
       "      <td>-0.900252</td>\n",
       "      <td>-1.059388</td>\n",
       "      <td>-1.077181</td>\n",
       "    </tr>\n",
       "    <tr>\n",
       "      <th>2013-06-01 02:00:00</th>\n",
       "      <td>-0.951404</td>\n",
       "      <td>-1.279719</td>\n",
       "      <td>-1.236579</td>\n",
       "    </tr>\n",
       "    <tr>\n",
       "      <th>2013-06-01 03:00:00</th>\n",
       "      <td>-0.989402</td>\n",
       "      <td>-1.480020</td>\n",
       "      <td>-1.475676</td>\n",
       "    </tr>\n",
       "    <tr>\n",
       "      <th>2013-06-01 04:00:00</th>\n",
       "      <td>-1.025939</td>\n",
       "      <td>-1.650276</td>\n",
       "      <td>-1.654999</td>\n",
       "    </tr>\n",
       "    <tr>\n",
       "      <th>...</th>\n",
       "      <td>...</td>\n",
       "      <td>...</td>\n",
       "      <td>...</td>\n",
       "    </tr>\n",
       "    <tr>\n",
       "      <th>2013-06-24 19:00:00</th>\n",
       "      <td>2.108922</td>\n",
       "      <td>1.264105</td>\n",
       "      <td>1.353637</td>\n",
       "    </tr>\n",
       "    <tr>\n",
       "      <th>2013-06-24 20:00:00</th>\n",
       "      <td>1.046430</td>\n",
       "      <td>1.143924</td>\n",
       "      <td>1.044804</td>\n",
       "    </tr>\n",
       "    <tr>\n",
       "      <th>2013-06-24 21:00:00</th>\n",
       "      <td>0.524684</td>\n",
       "      <td>0.793397</td>\n",
       "      <td>0.985029</td>\n",
       "    </tr>\n",
       "    <tr>\n",
       "      <th>2013-06-24 22:00:00</th>\n",
       "      <td>-0.010215</td>\n",
       "      <td>0.573066</td>\n",
       "      <td>0.676196</td>\n",
       "    </tr>\n",
       "    <tr>\n",
       "      <th>2013-06-24 23:00:00</th>\n",
       "      <td>-0.358046</td>\n",
       "      <td>0.132404</td>\n",
       "      <td>0.227889</td>\n",
       "    </tr>\n",
       "  </tbody>\n",
       "</table>\n",
       "<p>576 rows × 3 columns</p>\n",
       "</div>"
      ],
      "text/plain": [
       "                     tripduration     ss_id     es_id\n",
       "starttime                                            \n",
       "2013-06-01 00:00:00     -0.827179 -0.788981 -0.738461\n",
       "2013-06-01 01:00:00     -0.900252 -1.059388 -1.077181\n",
       "2013-06-01 02:00:00     -0.951404 -1.279719 -1.236579\n",
       "2013-06-01 03:00:00     -0.989402 -1.480020 -1.475676\n",
       "2013-06-01 04:00:00     -1.025939 -1.650276 -1.654999\n",
       "...                           ...       ...       ...\n",
       "2013-06-24 19:00:00      2.108922  1.264105  1.353637\n",
       "2013-06-24 20:00:00      1.046430  1.143924  1.044804\n",
       "2013-06-24 21:00:00      0.524684  0.793397  0.985029\n",
       "2013-06-24 22:00:00     -0.010215  0.573066  0.676196\n",
       "2013-06-24 23:00:00     -0.358046  0.132404  0.227889\n",
       "\n",
       "[576 rows x 3 columns]"
      ]
     },
     "execution_count": 12,
     "metadata": {},
     "output_type": "execute_result"
    }
   ],
   "source": [
    "train_data"
   ]
  },
  {
   "cell_type": "markdown",
   "metadata": {},
   "source": [
    "def create_sequences(data, seq_length):\n",
    "    X, y = [], []\n",
    "    for i in range(len(data)-seq_length):\n",
    "        X.append(data[i:(i+seq_length)])\n",
    "        y.append(data[i+seq_length])\n",
    "    return np.array(X), np.array(y)"
   ]
  },
  {
   "cell_type": "code",
   "execution_count": 13,
   "metadata": {},
   "outputs": [],
   "source": [
    "def create_sequences(X,y, time_steps):\n",
    "    Xs, ys = [], []\n",
    "    for i in range(len(X)-time_steps):\n",
    "        Xs.append(X.iloc[i:(i+time_steps)].values)\n",
    "        ys.append(y.iloc[i+time_steps])\n",
    "    \n",
    "    return np.array(Xs), np.array(ys)"
   ]
  },
  {
   "cell_type": "code",
   "execution_count": 14,
   "metadata": {},
   "outputs": [],
   "source": [
    "seq_length = 24 # number of hours in a day\n",
    "train_X, train_y = create_sequences(train_data[['tripduration']],train_data[['ss_id']], seq_length)\n",
    "test_X, test_y = create_sequences(test_data[['tripduration']],test_data[['ss_id']], seq_length)"
   ]
  },
  {
   "cell_type": "code",
   "execution_count": 15,
   "metadata": {},
   "outputs": [
    {
     "name": "stdout",
     "output_type": "stream",
     "text": [
      "(552, 24, 1)\n"
     ]
    },
    {
     "data": {
      "text/plain": [
       "(552, 1)"
      ]
     },
     "execution_count": 15,
     "metadata": {},
     "output_type": "execute_result"
    }
   ],
   "source": [
    "print(train_X.shape)\n",
    "train_y.shape"
   ]
  },
  {
   "cell_type": "code",
   "execution_count": 16,
   "metadata": {},
   "outputs": [
    {
     "name": "stdout",
     "output_type": "stream",
     "text": [
      "(121, 24, 1)\n"
     ]
    },
    {
     "data": {
      "text/plain": [
       "(121, 1)"
      ]
     },
     "execution_count": 16,
     "metadata": {},
     "output_type": "execute_result"
    }
   ],
   "source": [
    "print(test_X.shape)\n",
    "test_y.shape"
   ]
  },
  {
   "cell_type": "code",
   "execution_count": 17,
   "metadata": {},
   "outputs": [],
   "source": [
    "# define the model architecture\n",
    "model = Sequential()\n",
    "model.add(LSTM(128, input_shape=(train_X.shape[1], train_X.shape[2]), return_sequences=True))\n",
    "model.add(Dropout(rate=0.2))\n",
    "model.add(TimeDistributed(Dense(64, activation='relu')))\n",
    "model.add(Dropout(rate=0.2))\n",
    "model.add(TimeDistributed(Dense(1)))\n",
    "\n",
    "# compile the model\n",
    "model.compile(optimizer='adam', loss='mae')\n",
    "\n"
   ]
  },
  {
   "cell_type": "code",
   "execution_count": 18,
   "metadata": {},
   "outputs": [
    {
     "name": "stdout",
     "output_type": "stream",
     "text": [
      "Model: \"sequential\"\n",
      "_________________________________________________________________\n",
      " Layer (type)                Output Shape              Param #   \n",
      "=================================================================\n",
      " lstm (LSTM)                 (None, 24, 128)           66560     \n",
      "                                                                 \n",
      " dropout (Dropout)           (None, 24, 128)           0         \n",
      "                                                                 \n",
      " time_distributed (TimeDistr  (None, 24, 64)           8256      \n",
      " ibuted)                                                         \n",
      "                                                                 \n",
      " dropout_1 (Dropout)         (None, 24, 64)            0         \n",
      "                                                                 \n",
      " time_distributed_1 (TimeDis  (None, 24, 1)            65        \n",
      " tributed)                                                       \n",
      "                                                                 \n",
      "=================================================================\n",
      "Total params: 74,881\n",
      "Trainable params: 74,881\n",
      "Non-trainable params: 0\n",
      "_________________________________________________________________\n"
     ]
    }
   ],
   "source": [
    "model.summary()"
   ]
  },
  {
   "cell_type": "code",
   "execution_count": 19,
   "metadata": {},
   "outputs": [
    {
     "name": "stdout",
     "output_type": "stream",
     "text": [
      "Epoch 1/20\n",
      "248/248 [==============================] - 8s 18ms/step - loss: 0.8997 - val_loss: 0.7171\n",
      "Epoch 2/20\n",
      "248/248 [==============================] - 3s 14ms/step - loss: 0.8789 - val_loss: 0.7455\n",
      "Epoch 3/20\n",
      "248/248 [==============================] - 3s 14ms/step - loss: 0.8594 - val_loss: 0.6500\n",
      "Epoch 4/20\n",
      "248/248 [==============================] - 3s 14ms/step - loss: 0.8422 - val_loss: 0.5691\n",
      "Epoch 5/20\n",
      "248/248 [==============================] - 4s 14ms/step - loss: 0.8749 - val_loss: 0.7050\n",
      "Epoch 6/20\n",
      "248/248 [==============================] - 3s 14ms/step - loss: 0.8379 - val_loss: 0.6088\n",
      "Epoch 7/20\n",
      "248/248 [==============================] - 3s 14ms/step - loss: 0.7980 - val_loss: 0.4768\n",
      "Epoch 8/20\n",
      "248/248 [==============================] - 3s 14ms/step - loss: 0.7906 - val_loss: 0.4217\n",
      "Epoch 9/20\n",
      "248/248 [==============================] - 3s 14ms/step - loss: 0.7614 - val_loss: 0.4338\n",
      "Epoch 10/20\n",
      "248/248 [==============================] - 3s 14ms/step - loss: 0.6951 - val_loss: 0.3857\n",
      "Epoch 11/20\n",
      "248/248 [==============================] - 3s 14ms/step - loss: 0.7129 - val_loss: 0.3930\n",
      "Epoch 12/20\n",
      "248/248 [==============================] - 4s 14ms/step - loss: 0.6726 - val_loss: 0.3580\n",
      "Epoch 13/20\n",
      "248/248 [==============================] - 3s 14ms/step - loss: 0.6466 - val_loss: 0.3510\n",
      "Epoch 14/20\n",
      "248/248 [==============================] - 3s 14ms/step - loss: 0.6376 - val_loss: 0.3449\n",
      "Epoch 15/20\n",
      "248/248 [==============================] - 4s 14ms/step - loss: 0.6259 - val_loss: 0.3490\n",
      "Epoch 16/20\n",
      "248/248 [==============================] - 3s 14ms/step - loss: 0.6093 - val_loss: 0.3443\n",
      "Epoch 17/20\n",
      "248/248 [==============================] - 3s 14ms/step - loss: 0.5990 - val_loss: 0.3368\n",
      "Epoch 18/20\n",
      "248/248 [==============================] - 3s 14ms/step - loss: 0.5945 - val_loss: 0.3315\n",
      "Epoch 19/20\n",
      "248/248 [==============================] - 4s 17ms/step - loss: 0.5854 - val_loss: 0.3258\n",
      "Epoch 20/20\n",
      "248/248 [==============================] - 4s 15ms/step - loss: 0.5767 - val_loss: 0.3231\n"
     ]
    }
   ],
   "source": [
    "# train the model\n",
    "history = model.fit(train_X, train_y, epochs=20, batch_size=2, validation_split=0.1, shuffle=False)"
   ]
  },
  {
   "cell_type": "code",
   "execution_count": 20,
   "metadata": {},
   "outputs": [
    {
     "data": {
      "text/plain": [
       "<matplotlib.legend.Legend at 0x2ed903e38e0>"
      ]
     },
     "execution_count": 20,
     "metadata": {},
     "output_type": "execute_result"
    },
    {
     "data": {
      "image/png": "[encoded data removed]",
      "text/plain": [
       "<Figure size 640x480 with 1 Axes>"
      ]
     },
     "metadata": {},
     "output_type": "display_data"
    }
   ],
   "source": [
    "plt.plot(history.history['loss'], label='Training loss')\n",
    "plt.plot(history.history['val_loss'], label='Validation loss')\n",
    "plt.legend()"
   ]
  },
  {
   "cell_type": "code",
   "execution_count": 21,
   "metadata": {},
   "outputs": [
    {
     "name": "stdout",
     "output_type": "stream",
     "text": [
      "4/4 [==============================] - 1s 17ms/step - loss: 0.2943\n"
     ]
    },
    {
     "data": {
      "text/plain": [
       "0.2943280339241028"
      ]
     },
     "execution_count": 21,
     "metadata": {},
     "output_type": "execute_result"
    }
   ],
   "source": [
    "model.evaluate(test_X, test_y)"
   ]
  },
  {
   "cell_type": "code",
   "execution_count": 22,
   "metadata": {},
   "outputs": [
    {
     "name": "stdout",
     "output_type": "stream",
     "text": [
      "Reconstruction error threshold: 1.8430837065802532\n"
     ]
    },
    {
     "data": {
      "image/png": "[encoded data removed]",
      "text/plain": [
       "<Figure size 640x480 with 1 Axes>"
      ]
     },
     "metadata": {},
     "output_type": "display_data"
    }
   ],
   "source": [
    "X_train_pred = model.predict(train_X, verbose=0)\n",
    "train_mae_loss = np.mean(np.abs(X_train_pred - train_X), axis=1)\n",
    "\n",
    "plt.hist(train_mae_loss, bins=50)\n",
    "plt.xlabel('Train MAE loss')\n",
    "plt.ylabel('Number of Samples');\n",
    "\n",
    "threshold = np.max(train_mae_loss)\n",
    "print(f'Reconstruction error threshold: {threshold}')"
   ]
  },
  {
   "cell_type": "code",
   "execution_count": 23,
   "metadata": {},
   "outputs": [
    {
     "data": {
      "image/png": "[encoded data removed]",
      "text/plain": [
       "<Figure size 640x480 with 1 Axes>"
      ]
     },
     "metadata": {},
     "output_type": "display_data"
    }
   ],
   "source": [
    "X_test_pred = model.predict(test_X, verbose=0)\n",
    "test_mae_loss = np.mean(np.abs(X_test_pred-test_X), axis=1)\n",
    "\n",
    "plt.hist(test_mae_loss, bins=50)\n",
    "plt.xlabel('Test MAE loss')\n",
    "plt.ylabel('Number of samples');"
   ]
  },
  {
   "cell_type": "code",
   "execution_count": 24,
   "metadata": {},
   "outputs": [],
   "source": [
    "test_score_df = pd.DataFrame(test_data[seq_length:])\n",
    "test_score_df['loss'] = test_mae_loss\n",
    "test_score_df['threshold'] = threshold\n",
    "test_score_df['anomaly'] = test_score_df['loss'] > test_score_df['threshold']\n",
    "test_score_df['tripduration'] = test_data[seq_length:]['tripduration']\n",
    "test_score_df['ss_id'] = test_data[seq_length:]['ss_id']"
   ]
  },
  {
   "cell_type": "code",
   "execution_count": 25,
   "metadata": {},
   "outputs": [
    {
     "data": {
      "text/html": [
       "<div>\n",
       "<style scoped>\n",
       "    .dataframe tbody tr th:only-of-type {\n",
       "        vertical-align: middle;\n",
       "    }\n",
       "\n",
       "    .dataframe tbody tr th {\n",
       "        vertical-align: top;\n",
       "    }\n",
       "\n",
       "    .dataframe thead th {\n",
       "        text-align: right;\n",
       "    }\n",
       "</style>\n",
       "<table border=\"1\" class=\"dataframe\">\n",
       "  <thead>\n",
       "    <tr style=\"text-align: right;\">\n",
       "      <th></th>\n",
       "      <th>tripduration</th>\n",
       "      <th>ss_id</th>\n",
       "      <th>es_id</th>\n",
       "      <th>loss</th>\n",
       "      <th>threshold</th>\n",
       "      <th>anomaly</th>\n",
       "    </tr>\n",
       "    <tr>\n",
       "      <th>starttime</th>\n",
       "      <th></th>\n",
       "      <th></th>\n",
       "      <th></th>\n",
       "      <th></th>\n",
       "      <th></th>\n",
       "      <th></th>\n",
       "    </tr>\n",
       "  </thead>\n",
       "  <tbody>\n",
       "    <tr>\n",
       "      <th>2013-06-30 20:00:00</th>\n",
       "      <td>1.084429</td>\n",
       "      <td>1.194000</td>\n",
       "      <td>1.154390</td>\n",
       "      <td>0.977049</td>\n",
       "      <td>1.843084</td>\n",
       "      <td>False</td>\n",
       "    </tr>\n",
       "    <tr>\n",
       "      <th>2013-06-30 21:00:00</th>\n",
       "      <td>0.397536</td>\n",
       "      <td>0.853488</td>\n",
       "      <td>0.805707</td>\n",
       "      <td>0.959712</td>\n",
       "      <td>1.843084</td>\n",
       "      <td>False</td>\n",
       "    </tr>\n",
       "    <tr>\n",
       "      <th>2013-06-30 22:00:00</th>\n",
       "      <td>0.096472</td>\n",
       "      <td>0.543021</td>\n",
       "      <td>0.676196</td>\n",
       "      <td>0.937430</td>\n",
       "      <td>1.843084</td>\n",
       "      <td>False</td>\n",
       "    </tr>\n",
       "    <tr>\n",
       "      <th>2013-06-30 23:00:00</th>\n",
       "      <td>-0.423812</td>\n",
       "      <td>0.082329</td>\n",
       "      <td>0.227889</td>\n",
       "      <td>0.901974</td>\n",
       "      <td>1.843084</td>\n",
       "      <td>False</td>\n",
       "    </tr>\n",
       "    <tr>\n",
       "      <th>2013-07-01 00:00:00</th>\n",
       "      <td>-1.047861</td>\n",
       "      <td>-1.790486</td>\n",
       "      <td>-1.784510</td>\n",
       "      <td>0.864084</td>\n",
       "      <td>1.843084</td>\n",
       "      <td>False</td>\n",
       "    </tr>\n",
       "  </tbody>\n",
       "</table>\n",
       "</div>"
      ],
      "text/plain": [
       "                     tripduration     ss_id     es_id      loss  threshold  \\\n",
       "starttime                                                                    \n",
       "2013-06-30 20:00:00      1.084429  1.194000  1.154390  0.977049   1.843084   \n",
       "2013-06-30 21:00:00      0.397536  0.853488  0.805707  0.959712   1.843084   \n",
       "2013-06-30 22:00:00      0.096472  0.543021  0.676196  0.937430   1.843084   \n",
       "2013-06-30 23:00:00     -0.423812  0.082329  0.227889  0.901974   1.843084   \n",
       "2013-07-01 00:00:00     -1.047861 -1.790486 -1.784510  0.864084   1.843084   \n",
       "\n",
       "                     anomaly  \n",
       "starttime                     \n",
       "2013-06-30 20:00:00    False  \n",
       "2013-06-30 21:00:00    False  \n",
       "2013-06-30 22:00:00    False  \n",
       "2013-06-30 23:00:00    False  \n",
       "2013-07-01 00:00:00    False  "
      ]
     },
     "execution_count": 25,
     "metadata": {},
     "output_type": "execute_result"
    }
   ],
   "source": [
    "test_score_df.tail()"
   ]
  },
  {
   "cell_type": "code",
   "execution_count": 26,
   "metadata": {},
   "outputs": [
    {
     "data": {
      "application/vnd.plotly.v1+json": {
       "config": {
        "plotlyServerURL": "https://plot.ly"
       },
       "data": [
        {
         "name": "Test loss",
         "type": "scatter",
         "x": [
          "2013-06-26T00:00:00",
          "2013-06-26T01:00:00",
          "2013-06-26T02:00:00",
          "2013-06-26T03:00:00",
          "2013-06-26T04:00:00",
          "2013-06-26T05:00:00",
          "2013-06-26T06:00:00",
          "2013-06-26T07:00:00",
          "2013-06-26T08:00:00",
          "2013-06-26T09:00:00",
          "2013-06-26T10:00:00",
          "2013-06-26T11:00:00",
          "2013-06-26T12:00:00",
          "2013-06-26T13:00:00",
          "2013-06-26T14:00:00",
          "2013-06-26T15:00:00",
          "2013-06-26T16:00:00",
          "2013-06-26T17:00:00",
          "2013-06-26T18:00:00",
          "2013-06-26T19:00:00",
          "2013-06-26T20:00:00",
          "2013-06-26T21:00:00",
          "2013-06-26T22:00:00",
          "2013-06-26T23:00:00",
          "2013-06-27T00:00:00",
          "2013-06-27T01:00:00",
          "2013-06-27T02:00:00",
          "2013-06-27T03:00:00",
          "2013-06-27T04:00:00",
          "2013-06-27T05:00:00",
          "2013-06-27T06:00:00",
          "2013-06-27T07:00:00",
          "2013-06-27T08:00:00",
          "2013-06-27T09:00:00",
          "2013-06-27T10:00:00",
          "2013-06-27T11:00:00",
          "2013-06-27T12:00:00",
          "2013-06-27T13:00:00",
          "2013-06-27T14:00:00",
          "2013-06-27T15:00:00",
          "2013-06-27T16:00:00",
          "2013-06-27T17:00:00",
          "2013-06-27T18:00:00",
          "2013-06-27T19:00:00",
          "2013-06-27T20:00:00",
          "2013-06-27T21:00:00",
          "2013-06-27T22:00:00",
          "2013-06-27T23:00:00",
          "2013-06-28T00:00:00",
          "2013-06-28T01:00:00",
          "2013-06-28T02:00:00",
          "2013-06-28T03:00:00",
          "2013-06-28T04:00:00",
          "2013-06-28T05:00:00",
          "2013-06-28T06:00:00",
          "2013-06-28T07:00:00",
          "2013-06-28T08:00:00",
          "2013-06-28T09:00:00",
          "2013-06-28T10:00:00",
          "2013-06-28T11:00:00",
          "2013-06-28T12:00:00",
          "2013-06-28T13:00:00",
          "2013-06-28T14:00:00",
          "2013-06-28T15:00:00",
          "2013-06-28T16:00:00",
          "2013-06-28T17:00:00",
          "2013-06-28T18:00:00",
          "2013-06-28T19:00:00",
          "2013-06-28T20:00:00",
          "2013-06-28T21:00:00",
          "2013-06-28T22:00:00",
          "2013-06-28T23:00:00",
          "2013-06-29T00:00:00",
          "2013-06-29T01:00:00",
          "2013-06-29T02:00:00",
          "2013-06-29T03:00:00",
          "2013-06-29T04:00:00",
          "2013-06-29T05:00:00",
          "2013-06-29T06:00:00",
          "2013-06-29T07:00:00",
          "2013-06-29T08:00:00",
          "2013-06-29T09:00:00",
          "2013-06-29T10:00:00",
          "2013-06-29T11:00:00",
          "2013-06-29T12:00:00",
          "2013-06-29T13:00:00",
          "2013-06-29T14:00:00",
          "2013-06-29T15:00:00",
          "2013-06-29T16:00:00",
          "2013-06-29T17:00:00",
          "2013-06-29T18:00:00",
          "2013-06-29T19:00:00",
          "2013-06-29T20:00:00",
          "2013-06-29T21:00:00",
          "2013-06-29T22:00:00",
          "2013-06-29T23:00:00",
          "2013-06-30T00:00:00",
          "2013-06-30T01:00:00",
          "2013-06-30T02:00:00",
          "2013-06-30T03:00:00",
          "2013-06-30T04:00:00",
          "2013-06-30T05:00:00",
          "2013-06-30T06:00:00",
          "2013-06-30T07:00:00",
          "2013-06-30T08:00:00",
          "2013-06-30T09:00:00",
          "2013-06-30T10:00:00",
          "2013-06-30T11:00:00",
          "2013-06-30T12:00:00",
          "2013-06-30T13:00:00",
          "2013-06-30T14:00:00",
          "2013-06-30T15:00:00",
          "2013-06-30T16:00:00",
          "2013-06-30T17:00:00",
          "2013-06-30T18:00:00",
          "2013-06-30T19:00:00",
          "2013-06-30T20:00:00",
          "2013-06-30T21:00:00",
          "2013-06-30T22:00:00",
          "2013-06-30T23:00:00",
          "2013-07-01T00:00:00"
         ],
         "y": [
          1.3217366905517234,
          1.483828152734028,
          1.626854419102779,
          1.713752677439621,
          1.7303781512083578,
          1.2417673515645433,
          0.9945623262468409,
          1.027822398880063,
          1.043202712210336,
          1.0409156871982819,
          1.0336558009080632,
          1.0391579714354373,
          1.0314067878847777,
          1.0261799985450881,
          1.0195871847676077,
          1.0152736615881512,
          1.0073466866417466,
          0.9997341574855901,
          1.0105900589906254,
          1.0072370275143563,
          1.0012562854614022,
          0.9942522252258232,
          0.9894557916889628,
          0.9620612794581209,
          1.4746981785837991,
          1.613382973834309,
          1.7333309769839433,
          1.81794440521204,
          1.831583965019573,
          1.2176199266293581,
          1.012102406319057,
          1.0195666989775967,
          1.03151002209768,
          1.0202368678499647,
          1.007601776255513,
          1.0086906810104843,
          1.0092362534024357,
          1.021755280842309,
          1.0425466630161575,
          1.0600118838295598,
          1.0576331314349046,
          1.0467049965964603,
          0.9940440588302769,
          0.942380557599936,
          0.9153780131694056,
          0.8845283380423048,
          0.8863322439130848,
          0.8184534600190615,
          1.2412686276681901,
          1.3587139779176483,
          1.4622097054743899,
          1.5347246305520967,
          1.532711805690415,
          0.9370630149881647,
          0.9902371610504611,
          1.02333656655986,
          1.038120157227261,
          1.0273501964797662,
          1.0184110803852808,
          1.0248200597452581,
          1.0273232393875615,
          1.0203644177532665,
          1.0038803358308412,
          0.9905599757456943,
          0.9941967948701951,
          1.015720330348158,
          1.0554516574244948,
          1.0751438521275198,
          1.0504469259792077,
          0.8672507162490769,
          0.8218616855582598,
          0.8740604147196068,
          1.333790336076096,
          1.5213960201850216,
          1.651845359046666,
          1.7378569240652582,
          1.7618589476860775,
          1.377806311297704,
          0.9296421956215911,
          0.9813326731808202,
          1.0329931662581655,
          1.0384646345049677,
          1.0500234377252042,
          1.0350789693012272,
          1.0424203736769506,
          1.088080315677082,
          1.1350767034194431,
          1.1887211339675192,
          1.2435120963129969,
          1.2598176191446053,
          1.2347571344729493,
          1.2157966992582108,
          1.2263642665302983,
          1.2158835249792743,
          1.173598464224492,
          1.1275615494240758,
          1.051477060500229,
          1.0690013935890181,
          1.4830748934901699,
          1.6940798591005866,
          1.808827889048062,
          1.8634739494155574,
          1.7643821428129243,
          1.1963905509655495,
          1.2206910926613634,
          1.2027430223765938,
          1.212395042823734,
          1.2263531741466736,
          1.2173663255161795,
          1.1990258538580736,
          1.181791109854225,
          1.1674537149181525,
          1.0963963309188904,
          1.0384040907860563,
          1.0080576669163321,
          0.9897503008518642,
          0.9770491659034722,
          0.9597118226224914,
          0.9374301849702705,
          0.9019737781254052,
          0.8640838574571443
         ]
        },
        {
         "name": "Threshold",
         "type": "scatter",
         "x": [
          "2013-06-26T00:00:00",
          "2013-06-26T01:00:00",
          "2013-06-26T02:00:00",
          "2013-06-26T03:00:00",
          "2013-06-26T04:00:00",
          "2013-06-26T05:00:00",
          "2013-06-26T06:00:00",
          "2013-06-26T07:00:00",
          "2013-06-26T08:00:00",
          "2013-06-26T09:00:00",
          "2013-06-26T10:00:00",
          "2013-06-26T11:00:00",
          "2013-06-26T12:00:00",
          "2013-06-26T13:00:00",
          "2013-06-26T14:00:00",
          "2013-06-26T15:00:00",
          "2013-06-26T16:00:00",
          "2013-06-26T17:00:00",
          "2013-06-26T18:00:00",
          "2013-06-26T19:00:00",
          "2013-06-26T20:00:00",
          "2013-06-26T21:00:00",
          "2013-06-26T22:00:00",
          "2013-06-26T23:00:00",
          "2013-06-27T00:00:00",
          "2013-06-27T01:00:00",
          "2013-06-27T02:00:00",
          "2013-06-27T03:00:00",
          "2013-06-27T04:00:00",
          "2013-06-27T05:00:00",
          "2013-06-27T06:00:00",
          "2013-06-27T07:00:00",
          "2013-06-27T08:00:00",
          "2013-06-27T09:00:00",
          "2013-06-27T10:00:00",
          "2013-06-27T11:00:00",
          "2013-06-27T12:00:00",
          "2013-06-27T13:00:00",
          "2013-06-27T14:00:00",
          "2013-06-27T15:00:00",
          "2013-06-27T16:00:00",
          "2013-06-27T17:00:00",
          "2013-06-27T18:00:00",
          "2013-06-27T19:00:00",
          "2013-06-27T20:00:00",
          "2013-06-27T21:00:00",
          "2013-06-27T22:00:00",
          "2013-06-27T23:00:00",
          "2013-06-28T00:00:00",
          "2013-06-28T01:00:00",
          "2013-06-28T02:00:00",
          "2013-06-28T03:00:00",
          "2013-06-28T04:00:00",
          "2013-06-28T05:00:00",
          "2013-06-28T06:00:00",
          "2013-06-28T07:00:00",
          "2013-06-28T08:00:00",
          "2013-06-28T09:00:00",
          "2013-06-28T10:00:00",
          "2013-06-28T11:00:00",
          "2013-06-28T12:00:00",
          "2013-06-28T13:00:00",
          "2013-06-28T14:00:00",
          "2013-06-28T15:00:00",
          "2013-06-28T16:00:00",
          "2013-06-28T17:00:00",
          "2013-06-28T18:00:00",
          "2013-06-28T19:00:00",
          "2013-06-28T20:00:00",
          "2013-06-28T21:00:00",
          "2013-06-28T22:00:00",
          "2013-06-28T23:00:00",
          "2013-06-29T00:00:00",
          "2013-06-29T01:00:00",
          "2013-06-29T02:00:00",
          "2013-06-29T03:00:00",
          "2013-06-29T04:00:00",
          "2013-06-29T05:00:00",
          "2013-06-29T06:00:00",
          "2013-06-29T07:00:00",
          "2013-06-29T08:00:00",
          "2013-06-29T09:00:00",
          "2013-06-29T10:00:00",
          "2013-06-29T11:00:00",
          "2013-06-29T12:00:00",
          "2013-06-29T13:00:00",
          "2013-06-29T14:00:00",
          "2013-06-29T15:00:00",
          "2013-06-29T16:00:00",
          "2013-06-29T17:00:00",
          "2013-06-29T18:00:00",
          "2013-06-29T19:00:00",
          "2013-06-29T20:00:00",
          "2013-06-29T21:00:00",
          "2013-06-29T22:00:00",
          "2013-06-29T23:00:00",
          "2013-06-30T00:00:00",
          "2013-06-30T01:00:00",
          "2013-06-30T02:00:00",
          "2013-06-30T03:00:00",
          "2013-06-30T04:00:00",
          "2013-06-30T05:00:00",
          "2013-06-30T06:00:00",
          "2013-06-30T07:00:00",
          "2013-06-30T08:00:00",
          "2013-06-30T09:00:00",
          "2013-06-30T10:00:00",
          "2013-06-30T11:00:00",
          "2013-06-30T12:00:00",
          "2013-06-30T13:00:00",
          "2013-06-30T14:00:00",
          "2013-06-30T15:00:00",
          "2013-06-30T16:00:00",
          "2013-06-30T17:00:00",
          "2013-06-30T18:00:00",
          "2013-06-30T19:00:00",
          "2013-06-30T20:00:00",
          "2013-06-30T21:00:00",
          "2013-06-30T22:00:00",
          "2013-06-30T23:00:00",
          "2013-07-01T00:00:00"
         ],
         "y": [
          1.8430837065802532,
          1.8430837065802532,
          1.8430837065802532,
          1.8430837065802532,
          1.8430837065802532,
          1.8430837065802532,
          1.8430837065802532,
          1.8430837065802532,
          1.8430837065802532,
          1.8430837065802532,
          1.8430837065802532,
          1.8430837065802532,
          1.8430837065802532,
          1.8430837065802532,
          1.8430837065802532,
          1.8430837065802532,
          1.8430837065802532,
          1.8430837065802532,
          1.8430837065802532,
          1.8430837065802532,
          1.8430837065802532,
          1.8430837065802532,
          1.8430837065802532,
          1.8430837065802532,
          1.8430837065802532,
          1.8430837065802532,
          1.8430837065802532,
          1.8430837065802532,
          1.8430837065802532,
          1.8430837065802532,
          1.8430837065802532,
          1.8430837065802532,
          1.8430837065802532,
          1.8430837065802532,
          1.8430837065802532,
          1.8430837065802532,
          1.8430837065802532,
          1.8430837065802532,
          1.8430837065802532,
          1.8430837065802532,
          1.8430837065802532,
          1.8430837065802532,
          1.8430837065802532,
          1.8430837065802532,
          1.8430837065802532,
          1.8430837065802532,
          1.8430837065802532,
          1.8430837065802532,
          1.8430837065802532,
          1.8430837065802532,
          1.8430837065802532,
          1.8430837065802532,
          1.8430837065802532,
          1.8430837065802532,
          1.8430837065802532,
          1.8430837065802532,
          1.8430837065802532,
          1.8430837065802532,
          1.8430837065802532,
          1.8430837065802532,
          1.8430837065802532,
          1.8430837065802532,
          1.8430837065802532,
          1.8430837065802532,
          1.8430837065802532,
          1.8430837065802532,
          1.8430837065802532,
          1.8430837065802532,
          1.8430837065802532,
          1.8430837065802532,
          1.8430837065802532,
          1.8430837065802532,
          1.8430837065802532,
          1.8430837065802532,
          1.8430837065802532,
          1.8430837065802532,
          1.8430837065802532,
          1.8430837065802532,
          1.8430837065802532,
          1.8430837065802532,
          1.8430837065802532,
          1.8430837065802532,
          1.8430837065802532,
          1.8430837065802532,
          1.8430837065802532,
          1.8430837065802532,
          1.8430837065802532,
          1.8430837065802532,
          1.8430837065802532,
          1.8430837065802532,
          1.8430837065802532,
          1.8430837065802532,
          1.8430837065802532,
          1.8430837065802532,
          1.8430837065802532,
          1.8430837065802532,
          1.8430837065802532,
          1.8430837065802532,
          1.8430837065802532,
          1.8430837065802532,
          1.8430837065802532,
          1.8430837065802532,
          1.8430837065802532,
          1.8430837065802532,
          1.8430837065802532,
          1.8430837065802532,
          1.8430837065802532,
          1.8430837065802532,
          1.8430837065802532,
          1.8430837065802532,
          1.8430837065802532,
          1.8430837065802532,
          1.8430837065802532,
          1.8430837065802532,
          1.8430837065802532,
          1.8430837065802532,
          1.8430837065802532,
          1.8430837065802532,
          1.8430837065802532,
          1.8430837065802532,
          1.8430837065802532
         ]
        }
       ],
       "layout": {
        "showlegend": true,
        "template": {
         "data": {
          "bar": [
           {
            "error_x": {
             "color": "#2a3f5f"
            },
            "error_y": {
             "color": "#2a3f5f"
            },
            "marker": {
             "line": {
              "color": "#E5ECF6",
              "width": 0.5
             },
             "pattern": {
              "fillmode": "overlay",
              "size": 10,
              "solidity": 0.2
             }
            },
            "type": "bar"
           }
          ],
          "barpolar": [
           {
            "marker": {
             "line": {
              "color": "#E5ECF6",
              "width": 0.5
             },
             "pattern": {
              "fillmode": "overlay",
              "size": 10,
              "solidity": 0.2
             }
            },
            "type": "barpolar"
           }
          ],
          "carpet": [
           {
            "aaxis": {
             "endlinecolor": "#2a3f5f",
             "gridcolor": "white",
             "linecolor": "white",
             "minorgridcolor": "white",
             "startlinecolor": "#2a3f5f"
            },
            "baxis": {
             "endlinecolor": "#2a3f5f",
             "gridcolor": "white",
             "linecolor": "white",
             "minorgridcolor": "white",
             "startlinecolor": "#2a3f5f"
            },
            "type": "carpet"
           }
          ],
          "choropleth": [
           {
            "colorbar": {
             "outlinewidth": 0,
             "ticks": ""
            },
            "type": "choropleth"
           }
          ],
          "contour": [
           {
            "colorbar": {
             "outlinewidth": 0,
             "ticks": ""
            },
            "colorscale": [
             [
              0,
              "#0d0887"
             ],
             [
              0.1111111111111111,
              "#46039f"
             ],
             [
              0.2222222222222222,
              "#7201a8"
             ],
             [
              0.3333333333333333,
              "#9c179e"
             ],
             [
              0.4444444444444444,
              "#bd3786"
             ],
             [
              0.5555555555555556,
              "#d8576b"
             ],
             [
              0.6666666666666666,
              "#ed7953"
             ],
             [
              0.7777777777777778,
              "#fb9f3a"
             ],
             [
              0.8888888888888888,
              "#fdca26"
             ],
             [
              1,
              "#f0f921"
             ]
            ],
            "type": "contour"
           }
          ],
          "contourcarpet": [
           {
            "colorbar": {
             "outlinewidth": 0,
             "ticks": ""
            },
            "type": "contourcarpet"
           }
          ],
          "heatmap": [
           {
            "colorbar": {
             "outlinewidth": 0,
             "ticks": ""
            },
            "colorscale": [
             [
              0,
              "#0d0887"
             ],
             [
              0.1111111111111111,
              "#46039f"
             ],
             [
              0.2222222222222222,
              "#7201a8"
             ],
             [
              0.3333333333333333,
              "#9c179e"
             ],
             [
              0.4444444444444444,
              "#bd3786"
             ],
             [
              0.5555555555555556,
              "#d8576b"
             ],
             [
              0.6666666666666666,
              "#ed7953"
             ],
             [
              0.7777777777777778,
              "#fb9f3a"
             ],
             [
              0.8888888888888888,
              "#fdca26"
             ],
             [
              1,
              "#f0f921"
             ]
            ],
            "type": "heatmap"
           }
          ],
          "heatmapgl": [
           {
            "colorbar": {
             "outlinewidth": 0,
             "ticks": ""
            },
            "colorscale": [
             [
              0,
              "#0d0887"
             ],
             [
              0.1111111111111111,
              "#46039f"
             ],
             [
              0.2222222222222222,
              "#7201a8"
             ],
             [
              0.3333333333333333,
              "#9c179e"
             ],
             [
              0.4444444444444444,
              "#bd3786"
             ],
             [
              0.5555555555555556,
              "#d8576b"
             ],
             [
              0.6666666666666666,
              "#ed7953"
             ],
             [
              0.7777777777777778,
              "#fb9f3a"
             ],
             [
              0.8888888888888888,
              "#fdca26"
             ],
             [
              1,
              "#f0f921"
             ]
            ],
            "type": "heatmapgl"
           }
          ],
          "histogram": [
           {
            "marker": {
             "pattern": {
              "fillmode": "overlay",
              "size": 10,
              "solidity": 0.2
             }
            },
            "type": "histogram"
           }
          ],
          "histogram2d": [
           {
            "colorbar": {
             "outlinewidth": 0,
             "ticks": ""
            },
            "colorscale": [
             [
              0,
              "#0d0887"
             ],
             [
              0.1111111111111111,
              "#46039f"
             ],
             [
              0.2222222222222222,
              "#7201a8"
             ],
             [
              0.3333333333333333,
              "#9c179e"
             ],
             [
              0.4444444444444444,
              "#bd3786"
             ],
             [
              0.5555555555555556,
              "#d8576b"
             ],
             [
              0.6666666666666666,
              "#ed7953"
             ],
             [
              0.7777777777777778,
              "#fb9f3a"
             ],
             [
              0.8888888888888888,
              "#fdca26"
             ],
             [
              1,
              "#f0f921"
             ]
            ],
            "type": "histogram2d"
           }
          ],
          "histogram2dcontour": [
           {
            "colorbar": {
             "outlinewidth": 0,
             "ticks": ""
            },
            "colorscale": [
             [
              0,
              "#0d0887"
             ],
             [
              0.1111111111111111,
              "#46039f"
             ],
             [
              0.2222222222222222,
              "#7201a8"
             ],
             [
              0.3333333333333333,
              "#9c179e"
             ],
             [
              0.4444444444444444,
              "#bd3786"
             ],
             [
              0.5555555555555556,
              "#d8576b"
             ],
             [
              0.6666666666666666,
              "#ed7953"
             ],
             [
              0.7777777777777778,
              "#fb9f3a"
             ],
             [
              0.8888888888888888,
              "#fdca26"
             ],
             [
              1,
              "#f0f921"
             ]
            ],
            "type": "histogram2dcontour"
           }
          ],
          "mesh3d": [
           {
            "colorbar": {
             "outlinewidth": 0,
             "ticks": ""
            },
            "type": "mesh3d"
           }
          ],
          "parcoords": [
           {
            "line": {
             "colorbar": {
              "outlinewidth": 0,
              "ticks": ""
             }
            },
            "type": "parcoords"
           }
          ],
          "pie": [
           {
            "automargin": true,
            "type": "pie"
           }
          ],
          "scatter": [
           {
            "fillpattern": {
             "fillmode": "overlay",
             "size": 10,
             "solidity": 0.2
            },
            "type": "scatter"
           }
          ],
          "scatter3d": [
           {
            "line": {
             "colorbar": {
              "outlinewidth": 0,
              "ticks": ""
             }
            },
            "marker": {
             "colorbar": {
              "outlinewidth": 0,
              "ticks": ""
             }
            },
            "type": "scatter3d"
           }
          ],
          "scattercarpet": [
           {
            "marker": {
             "colorbar": {
              "outlinewidth": 0,
              "ticks": ""
             }
            },
            "type": "scattercarpet"
           }
          ],
          "scattergeo": [
           {
            "marker": {
             "colorbar": {
              "outlinewidth": 0,
              "ticks": ""
             }
            },
            "type": "scattergeo"
           }
          ],
          "scattergl": [
           {
            "marker": {
             "colorbar": {
              "outlinewidth": 0,
              "ticks": ""
             }
            },
            "type": "scattergl"
           }
          ],
          "scattermapbox": [
           {
            "marker": {
             "colorbar": {
              "outlinewidth": 0,
              "ticks": ""
             }
            },
            "type": "scattermapbox"
           }
          ],
          "scatterpolar": [
           {
            "marker": {
             "colorbar": {
              "outlinewidth": 0,
              "ticks": ""
             }
            },
            "type": "scatterpolar"
           }
          ],
          "scatterpolargl": [
           {
            "marker": {
             "colorbar": {
              "outlinewidth": 0,
              "ticks": ""
             }
            },
            "type": "scatterpolargl"
           }
          ],
          "scatterternary": [
           {
            "marker": {
             "colorbar": {
              "outlinewidth": 0,
              "ticks": ""
             }
            },
            "type": "scatterternary"
           }
          ],
          "surface": [
           {
            "colorbar": {
             "outlinewidth": 0,
             "ticks": ""
            },
            "colorscale": [
             [
              0,
              "#0d0887"
             ],
             [
              0.1111111111111111,
              "#46039f"
             ],
             [
              0.2222222222222222,
              "#7201a8"
             ],
             [
              0.3333333333333333,
              "#9c179e"
             ],
             [
              0.4444444444444444,
              "#bd3786"
             ],
             [
              0.5555555555555556,
              "#d8576b"
             ],
             [
              0.6666666666666666,
              "#ed7953"
             ],
             [
              0.7777777777777778,
              "#fb9f3a"
             ],
             [
              0.8888888888888888,
              "#fdca26"
             ],
             [
              1,
              "#f0f921"
             ]
            ],
            "type": "surface"
           }
          ],
          "table": [
           {
            "cells": {
             "fill": {
              "color": "#EBF0F8"
             },
             "line": {
              "color": "white"
             }
            },
            "header": {
             "fill": {
              "color": "#C8D4E3"
             },
             "line": {
              "color": "white"
             }
            },
            "type": "table"
           }
          ]
         },
         "layout": {
          "annotationdefaults": {
           "arrowcolor": "#2a3f5f",
           "arrowhead": 0,
           "arrowwidth": 1
          },
          "autotypenumbers": "strict",
          "coloraxis": {
           "colorbar": {
            "outlinewidth": 0,
            "ticks": ""
           }
          },
          "colorscale": {
           "diverging": [
            [
             0,
             "#8e0152"
            ],
            [
             0.1,
             "#c51b7d"
            ],
            [
             0.2,
             "#de77ae"
            ],
            [
             0.3,
             "#f1b6da"
            ],
            [
             0.4,
             "#fde0ef"
            ],
            [
             0.5,
             "#f7f7f7"
            ],
            [
             0.6,
             "#e6f5d0"
            ],
            [
             0.7,
             "#b8e186"
            ],
            [
             0.8,
             "#7fbc41"
            ],
            [
             0.9,
             "#4d9221"
            ],
            [
             1,
             "#276419"
            ]
           ],
           "sequential": [
            [
             0,
             "#0d0887"
            ],
            [
             0.1111111111111111,
             "#46039f"
            ],
            [
             0.2222222222222222,
             "#7201a8"
            ],
            [
             0.3333333333333333,
             "#9c179e"
            ],
            [
             0.4444444444444444,
             "#bd3786"
            ],
            [
             0.5555555555555556,
             "#d8576b"
            ],
            [
             0.6666666666666666,
             "#ed7953"
            ],
            [
             0.7777777777777778,
             "#fb9f3a"
            ],
            [
             0.8888888888888888,
             "#fdca26"
            ],
            [
             1,
             "#f0f921"
            ]
           ],
           "sequentialminus": [
            [
             0,
             "#0d0887"
            ],
            [
             0.1111111111111111,
             "#46039f"
            ],
            [
             0.2222222222222222,
             "#7201a8"
            ],
            [
             0.3333333333333333,
             "#9c179e"
            ],
            [
             0.4444444444444444,
             "#bd3786"
            ],
            [
             0.5555555555555556,
             "#d8576b"
            ],
            [
             0.6666666666666666,
             "#ed7953"
            ],
            [
             0.7777777777777778,
             "#fb9f3a"
            ],
            [
             0.8888888888888888,
             "#fdca26"
            ],
            [
             1,
             "#f0f921"
            ]
           ]
          },
          "colorway": [
           "#636efa",
           "#EF553B",
           "#00cc96",
           "#ab63fa",
           "#FFA15A",
           "#19d3f3",
           "#FF6692",
           "#B6E880",
           "#FF97FF",
           "#FECB52"
          ],
          "font": {
           "color": "#2a3f5f"
          },
          "geo": {
           "bgcolor": "white",
           "lakecolor": "white",
           "landcolor": "#E5ECF6",
           "showlakes": true,
           "showland": true,
           "subunitcolor": "white"
          },
          "hoverlabel": {
           "align": "left"
          },
          "hovermode": "closest",
          "mapbox": {
           "style": "light"
          },
          "paper_bgcolor": "white",
          "plot_bgcolor": "#E5ECF6",
          "polar": {
           "angularaxis": {
            "gridcolor": "white",
            "linecolor": "white",
            "ticks": ""
           },
           "bgcolor": "#E5ECF6",
           "radialaxis": {
            "gridcolor": "white",
            "linecolor": "white",
            "ticks": ""
           }
          },
          "scene": {
           "xaxis": {
            "backgroundcolor": "#E5ECF6",
            "gridcolor": "white",
            "gridwidth": 2,
            "linecolor": "white",
            "showbackground": true,
            "ticks": "",
            "zerolinecolor": "white"
           },
           "yaxis": {
            "backgroundcolor": "#E5ECF6",
            "gridcolor": "white",
            "gridwidth": 2,
            "linecolor": "white",
            "showbackground": true,
            "ticks": "",
            "zerolinecolor": "white"
           },
           "zaxis": {
            "backgroundcolor": "#E5ECF6",
            "gridcolor": "white",
            "gridwidth": 2,
            "linecolor": "white",
            "showbackground": true,
            "ticks": "",
            "zerolinecolor": "white"
           }
          },
          "shapedefaults": {
           "line": {
            "color": "#2a3f5f"
           }
          },
          "ternary": {
           "aaxis": {
            "gridcolor": "white",
            "linecolor": "white",
            "ticks": ""
           },
           "baxis": {
            "gridcolor": "white",
            "linecolor": "white",
            "ticks": ""
           },
           "bgcolor": "#E5ECF6",
           "caxis": {
            "gridcolor": "white",
            "linecolor": "white",
            "ticks": ""
           }
          },
          "title": {
           "x": 0.05
          },
          "xaxis": {
           "automargin": true,
           "gridcolor": "white",
           "linecolor": "white",
           "ticks": "",
           "title": {
            "standoff": 15
           },
           "zerolinecolor": "white",
           "zerolinewidth": 2
          },
          "yaxis": {
           "automargin": true,
           "gridcolor": "white",
           "linecolor": "white",
           "ticks": "",
           "title": {
            "standoff": 15
           },
           "zerolinecolor": "white",
           "zerolinewidth": 2
          }
         }
        },
        "title": {
         "text": "Test loss vs. Threshold"
        }
       }
      }
     },
     "metadata": {},
     "output_type": "display_data"
    }
   ],
   "source": [
    "# Interactive chart (plotly): Test Loss & Treshold\n",
    "\n",
    "fig = go.Figure()\n",
    "fig.add_trace(go.Scatter(x=test_score_df.index, y=test_score_df['loss'], name='Test loss'))\n",
    "fig.add_trace(go.Scatter(x=test_score_df.index, y=test_score_df['threshold'], name='Threshold'))\n",
    "fig.update_layout(showlegend=True, title='Test loss vs. Threshold')\n",
    "fig.show()"
   ]
  },
  {
   "cell_type": "code",
   "execution_count": 27,
   "metadata": {},
   "outputs": [
    {
     "data": {
      "text/html": [
       "<div>\n",
       "<style scoped>\n",
       "    .dataframe tbody tr th:only-of-type {\n",
       "        vertical-align: middle;\n",
       "    }\n",
       "\n",
       "    .dataframe tbody tr th {\n",
       "        vertical-align: top;\n",
       "    }\n",
       "\n",
       "    .dataframe thead th {\n",
       "        text-align: right;\n",
       "    }\n",
       "</style>\n",
       "<table border=\"1\" class=\"dataframe\">\n",
       "  <thead>\n",
       "    <tr style=\"text-align: right;\">\n",
       "      <th></th>\n",
       "      <th>tripduration</th>\n",
       "      <th>ss_id</th>\n",
       "      <th>es_id</th>\n",
       "      <th>loss</th>\n",
       "      <th>threshold</th>\n",
       "      <th>anomaly</th>\n",
       "    </tr>\n",
       "    <tr>\n",
       "      <th>starttime</th>\n",
       "      <th></th>\n",
       "      <th></th>\n",
       "      <th></th>\n",
       "      <th></th>\n",
       "      <th></th>\n",
       "      <th></th>\n",
       "    </tr>\n",
       "  </thead>\n",
       "  <tbody>\n",
       "    <tr>\n",
       "      <th>2013-06-30 05:00:00</th>\n",
       "      <td>-0.942635</td>\n",
       "      <td>-1.229643</td>\n",
       "      <td>-1.236579</td>\n",
       "      <td>1.863474</td>\n",
       "      <td>1.843084</td>\n",
       "      <td>True</td>\n",
       "    </tr>\n",
       "  </tbody>\n",
       "</table>\n",
       "</div>"
      ],
      "text/plain": [
       "                     tripduration     ss_id     es_id      loss  threshold  \\\n",
       "starttime                                                                    \n",
       "2013-06-30 05:00:00     -0.942635 -1.229643 -1.236579  1.863474   1.843084   \n",
       "\n",
       "                     anomaly  \n",
       "starttime                     \n",
       "2013-06-30 05:00:00     True  "
      ]
     },
     "execution_count": 27,
     "metadata": {},
     "output_type": "execute_result"
    }
   ],
   "source": [
    "anomalies = test_score_df.loc[test_score_df['anomaly'] == True]\n",
    "anomalies.head()"
   ]
  },
  {
   "cell_type": "code",
   "execution_count": 28,
   "metadata": {},
   "outputs": [
    {
     "data": {
      "text/plain": [
       "(1, 6)"
      ]
     },
     "execution_count": 28,
     "metadata": {},
     "output_type": "execute_result"
    }
   ],
   "source": [
    "anomalies.shape"
   ]
  },
  {
   "cell_type": "code",
   "execution_count": 29,
   "metadata": {},
   "outputs": [],
   "source": [
    "starttime=test_score_df.index"
   ]
  },
  {
   "cell_type": "code",
   "execution_count": 30,
   "metadata": {},
   "outputs": [
    {
     "data": {
      "text/plain": [
       "DatetimeIndex(['2013-06-26 00:00:00', '2013-06-26 01:00:00',\n",
       "               '2013-06-26 02:00:00', '2013-06-26 03:00:00',\n",
       "               '2013-06-26 04:00:00', '2013-06-26 05:00:00',\n",
       "               '2013-06-26 06:00:00', '2013-06-26 07:00:00',\n",
       "               '2013-06-26 08:00:00', '2013-06-26 09:00:00',\n",
       "               ...\n",
       "               '2013-06-30 15:00:00', '2013-06-30 16:00:00',\n",
       "               '2013-06-30 17:00:00', '2013-06-30 18:00:00',\n",
       "               '2013-06-30 19:00:00', '2013-06-30 20:00:00',\n",
       "               '2013-06-30 21:00:00', '2013-06-30 22:00:00',\n",
       "               '2013-06-30 23:00:00', '2013-07-01 00:00:00'],\n",
       "              dtype='datetime64[ns]', name='starttime', length=121, freq='H')"
      ]
     },
     "execution_count": 30,
     "metadata": {},
     "output_type": "execute_result"
    }
   ],
   "source": [
    "starttime"
   ]
  },
  {
   "cell_type": "code",
   "execution_count": 31,
   "metadata": {},
   "outputs": [],
   "source": [
    "# Interactive chart (plotly): timeseries & Anomalies\n",
    "\n",
    "test_trans=pd.DataFrame(scaler.inverse_transform(test_score_df[['tripduration','ss_id','es_id']]),columns=['tripduration','ss_id','es_id'])\n",
    "anamolies_tr=pd.DataFrame(scaler.inverse_transform(test_score_df[['tripduration','ss_id','es_id']]),columns=['tripduration','ss_id','es_id'])\n"
   ]
  },
  {
   "cell_type": "code",
   "execution_count": 32,
   "metadata": {},
   "outputs": [
    {
     "data": {
      "text/html": [
       "<div>\n",
       "<style scoped>\n",
       "    .dataframe tbody tr th:only-of-type {\n",
       "        vertical-align: middle;\n",
       "    }\n",
       "\n",
       "    .dataframe tbody tr th {\n",
       "        vertical-align: top;\n",
       "    }\n",
       "\n",
       "    .dataframe thead th {\n",
       "        text-align: right;\n",
       "    }\n",
       "</style>\n",
       "<table border=\"1\" class=\"dataframe\">\n",
       "  <thead>\n",
       "    <tr style=\"text-align: right;\">\n",
       "      <th></th>\n",
       "      <th>tripduration</th>\n",
       "      <th>ss_id</th>\n",
       "      <th>es_id</th>\n",
       "    </tr>\n",
       "  </thead>\n",
       "  <tbody>\n",
       "    <tr>\n",
       "      <th>0</th>\n",
       "      <td>271.0</td>\n",
       "      <td>142.0</td>\n",
       "      <td>156.0</td>\n",
       "    </tr>\n",
       "    <tr>\n",
       "      <th>1</th>\n",
       "      <td>135.0</td>\n",
       "      <td>83.0</td>\n",
       "      <td>92.0</td>\n",
       "    </tr>\n",
       "    <tr>\n",
       "      <th>2</th>\n",
       "      <td>88.0</td>\n",
       "      <td>65.0</td>\n",
       "      <td>58.0</td>\n",
       "    </tr>\n",
       "    <tr>\n",
       "      <th>3</th>\n",
       "      <td>57.0</td>\n",
       "      <td>39.0</td>\n",
       "      <td>39.0</td>\n",
       "    </tr>\n",
       "    <tr>\n",
       "      <th>4</th>\n",
       "      <td>33.0</td>\n",
       "      <td>30.0</td>\n",
       "      <td>26.0</td>\n",
       "    </tr>\n",
       "    <tr>\n",
       "      <th>...</th>\n",
       "      <td>...</td>\n",
       "      <td>...</td>\n",
       "      <td>...</td>\n",
       "    </tr>\n",
       "    <tr>\n",
       "      <th>116</th>\n",
       "      <td>1460.0</td>\n",
       "      <td>299.0</td>\n",
       "      <td>296.0</td>\n",
       "    </tr>\n",
       "    <tr>\n",
       "      <th>117</th>\n",
       "      <td>990.0</td>\n",
       "      <td>265.0</td>\n",
       "      <td>261.0</td>\n",
       "    </tr>\n",
       "    <tr>\n",
       "      <th>118</th>\n",
       "      <td>784.0</td>\n",
       "      <td>234.0</td>\n",
       "      <td>248.0</td>\n",
       "    </tr>\n",
       "    <tr>\n",
       "      <th>119</th>\n",
       "      <td>428.0</td>\n",
       "      <td>188.0</td>\n",
       "      <td>203.0</td>\n",
       "    </tr>\n",
       "    <tr>\n",
       "      <th>120</th>\n",
       "      <td>1.0</td>\n",
       "      <td>1.0</td>\n",
       "      <td>1.0</td>\n",
       "    </tr>\n",
       "  </tbody>\n",
       "</table>\n",
       "<p>121 rows × 3 columns</p>\n",
       "</div>"
      ],
      "text/plain": [
       "     tripduration  ss_id  es_id\n",
       "0           271.0  142.0  156.0\n",
       "1           135.0   83.0   92.0\n",
       "2            88.0   65.0   58.0\n",
       "3            57.0   39.0   39.0\n",
       "4            33.0   30.0   26.0\n",
       "..            ...    ...    ...\n",
       "116        1460.0  299.0  296.0\n",
       "117         990.0  265.0  261.0\n",
       "118         784.0  234.0  248.0\n",
       "119         428.0  188.0  203.0\n",
       "120           1.0    1.0    1.0\n",
       "\n",
       "[121 rows x 3 columns]"
      ]
     },
     "execution_count": 32,
     "metadata": {},
     "output_type": "execute_result"
    }
   ],
   "source": [
    "test_trans"
   ]
  },
  {
   "cell_type": "code",
   "execution_count": 33,
   "metadata": {},
   "outputs": [
    {
     "data": {
      "application/vnd.plotly.v1+json": {
       "config": {
        "plotlyServerURL": "https://plot.ly"
       },
       "data": [
        {
         "name": "Tripduration",
         "type": "scatter",
         "x": [
          "2013-06-26T00:00:00",
          "2013-06-26T01:00:00",
          "2013-06-26T02:00:00",
          "2013-06-26T03:00:00",
          "2013-06-26T04:00:00",
          "2013-06-26T05:00:00",
          "2013-06-26T06:00:00",
          "2013-06-26T07:00:00",
          "2013-06-26T08:00:00",
          "2013-06-26T09:00:00",
          "2013-06-26T10:00:00",
          "2013-06-26T11:00:00",
          "2013-06-26T12:00:00",
          "2013-06-26T13:00:00",
          "2013-06-26T14:00:00",
          "2013-06-26T15:00:00",
          "2013-06-26T16:00:00",
          "2013-06-26T17:00:00",
          "2013-06-26T18:00:00",
          "2013-06-26T19:00:00",
          "2013-06-26T20:00:00",
          "2013-06-26T21:00:00",
          "2013-06-26T22:00:00",
          "2013-06-26T23:00:00",
          "2013-06-27T00:00:00",
          "2013-06-27T01:00:00",
          "2013-06-27T02:00:00",
          "2013-06-27T03:00:00",
          "2013-06-27T04:00:00",
          "2013-06-27T05:00:00",
          "2013-06-27T06:00:00",
          "2013-06-27T07:00:00",
          "2013-06-27T08:00:00",
          "2013-06-27T09:00:00",
          "2013-06-27T10:00:00",
          "2013-06-27T11:00:00",
          "2013-06-27T12:00:00",
          "2013-06-27T13:00:00",
          "2013-06-27T14:00:00",
          "2013-06-27T15:00:00",
          "2013-06-27T16:00:00",
          "2013-06-27T17:00:00",
          "2013-06-27T18:00:00",
          "2013-06-27T19:00:00",
          "2013-06-27T20:00:00",
          "2013-06-27T21:00:00",
          "2013-06-27T22:00:00",
          "2013-06-27T23:00:00",
          "2013-06-28T00:00:00",
          "2013-06-28T01:00:00",
          "2013-06-28T02:00:00",
          "2013-06-28T03:00:00",
          "2013-06-28T04:00:00",
          "2013-06-28T05:00:00",
          "2013-06-28T06:00:00",
          "2013-06-28T07:00:00",
          "2013-06-28T08:00:00",
          "2013-06-28T09:00:00",
          "2013-06-28T10:00:00",
          "2013-06-28T11:00:00",
          "2013-06-28T12:00:00",
          "2013-06-28T13:00:00",
          "2013-06-28T14:00:00",
          "2013-06-28T15:00:00",
          "2013-06-28T16:00:00",
          "2013-06-28T17:00:00",
          "2013-06-28T18:00:00",
          "2013-06-28T19:00:00",
          "2013-06-28T20:00:00",
          "2013-06-28T21:00:00",
          "2013-06-28T22:00:00",
          "2013-06-28T23:00:00",
          "2013-06-29T00:00:00",
          "2013-06-29T01:00:00",
          "2013-06-29T02:00:00",
          "2013-06-29T03:00:00",
          "2013-06-29T04:00:00",
          "2013-06-29T05:00:00",
          "2013-06-29T06:00:00",
          "2013-06-29T07:00:00",
          "2013-06-29T08:00:00",
          "2013-06-29T09:00:00",
          "2013-06-29T10:00:00",
          "2013-06-29T11:00:00",
          "2013-06-29T12:00:00",
          "2013-06-29T13:00:00",
          "2013-06-29T14:00:00",
          "2013-06-29T15:00:00",
          "2013-06-29T16:00:00",
          "2013-06-29T17:00:00",
          "2013-06-29T18:00:00",
          "2013-06-29T19:00:00",
          "2013-06-29T20:00:00",
          "2013-06-29T21:00:00",
          "2013-06-29T22:00:00",
          "2013-06-29T23:00:00",
          "2013-06-30T00:00:00",
          "2013-06-30T01:00:00",
          "2013-06-30T02:00:00",
          "2013-06-30T03:00:00",
          "2013-06-30T04:00:00",
          "2013-06-30T05:00:00",
          "2013-06-30T06:00:00",
          "2013-06-30T07:00:00",
          "2013-06-30T08:00:00",
          "2013-06-30T09:00:00",
          "2013-06-30T10:00:00",
          "2013-06-30T11:00:00",
          "2013-06-30T12:00:00",
          "2013-06-30T13:00:00",
          "2013-06-30T14:00:00",
          "2013-06-30T15:00:00",
          "2013-06-30T16:00:00",
          "2013-06-30T17:00:00",
          "2013-06-30T18:00:00",
          "2013-06-30T19:00:00",
          "2013-06-30T20:00:00",
          "2013-06-30T21:00:00",
          "2013-06-30T22:00:00",
          "2013-06-30T23:00:00",
          "2013-07-01T00:00:00"
         ],
         "y": [
          142,
          83,
          65.00000000000001,
          39,
          30,
          109,
          221,
          286,
          317,
          308,
          280,
          285,
          293,
          284,
          288,
          291,
          286,
          305,
          308,
          307,
          296,
          275,
          269,
          237,
          155,
          99,
          64,
          34,
          33,
          100,
          217,
          282,
          304,
          300,
          282,
          266,
          278,
          266,
          276,
          282,
          292,
          291,
          295,
          305,
          287,
          189,
          180,
          186,
          137,
          98,
          65.00000000000001,
          35,
          44,
          84,
          210,
          276,
          310,
          305,
          276,
          273,
          290,
          299,
          293,
          283,
          297,
          304,
          312,
          294,
          284,
          255,
          255,
          222,
          206,
          155,
          128,
          89,
          66.00000000000001,
          50,
          93,
          168,
          220,
          275,
          286,
          303,
          312,
          315,
          314,
          316,
          303,
          312,
          308,
          310,
          294,
          272,
          251,
          248,
          228,
          175,
          135,
          104,
          75,
          57,
          88,
          143,
          207,
          255,
          285,
          300,
          302,
          307,
          301,
          298,
          280,
          302,
          307,
          295,
          299,
          265,
          234,
          188,
          1
         ]
        },
        {
         "mode": "markers",
         "name": "Anomaly",
         "type": "scatter",
         "x": [
          "2013-06-30T05:00:00"
         ],
         "y": [
          142,
          83,
          65.00000000000001,
          39,
          30,
          109,
          221,
          286,
          317,
          308,
          280,
          285,
          293,
          284,
          288,
          291,
          286,
          305,
          308,
          307,
          296,
          275,
          269,
          237,
          155,
          99,
          64,
          34,
          33,
          100,
          217,
          282,
          304,
          300,
          282,
          266,
          278,
          266,
          276,
          282,
          292,
          291,
          295,
          305,
          287,
          189,
          180,
          186,
          137,
          98,
          65.00000000000001,
          35,
          44,
          84,
          210,
          276,
          310,
          305,
          276,
          273,
          290,
          299,
          293,
          283,
          297,
          304,
          312,
          294,
          284,
          255,
          255,
          222,
          206,
          155,
          128,
          89,
          66.00000000000001,
          50,
          93,
          168,
          220,
          275,
          286,
          303,
          312,
          315,
          314,
          316,
          303,
          312,
          308,
          310,
          294,
          272,
          251,
          248,
          228,
          175,
          135,
          104,
          75,
          57,
          88,
          143,
          207,
          255,
          285,
          300,
          302,
          307,
          301,
          298,
          280,
          302,
          307,
          295,
          299,
          265,
          234,
          188,
          1
         ]
        }
       ],
       "layout": {
        "showlegend": true,
        "template": {
         "data": {
          "bar": [
           {
            "error_x": {
             "color": "#2a3f5f"
            },
            "error_y": {
             "color": "#2a3f5f"
            },
            "marker": {
             "line": {
              "color": "#E5ECF6",
              "width": 0.5
             },
             "pattern": {
              "fillmode": "overlay",
              "size": 10,
              "solidity": 0.2
             }
            },
            "type": "bar"
           }
          ],
          "barpolar": [
           {
            "marker": {
             "line": {
              "color": "#E5ECF6",
              "width": 0.5
             },
             "pattern": {
              "fillmode": "overlay",
              "size": 10,
              "solidity": 0.2
             }
            },
            "type": "barpolar"
           }
          ],
          "carpet": [
           {
            "aaxis": {
             "endlinecolor": "#2a3f5f",
             "gridcolor": "white",
             "linecolor": "white",
             "minorgridcolor": "white",
             "startlinecolor": "#2a3f5f"
            },
            "baxis": {
             "endlinecolor": "#2a3f5f",
             "gridcolor": "white",
             "linecolor": "white",
             "minorgridcolor": "white",
             "startlinecolor": "#2a3f5f"
            },
            "type": "carpet"
           }
          ],
          "choropleth": [
           {
            "colorbar": {
             "outlinewidth": 0,
             "ticks": ""
            },
            "type": "choropleth"
           }
          ],
          "contour": [
           {
            "colorbar": {
             "outlinewidth": 0,
             "ticks": ""
            },
            "colorscale": [
             [
              0,
              "#0d0887"
             ],
             [
              0.1111111111111111,
              "#46039f"
             ],
             [
              0.2222222222222222,
              "#7201a8"
             ],
             [
              0.3333333333333333,
              "#9c179e"
             ],
             [
              0.4444444444444444,
              "#bd3786"
             ],
             [
              0.5555555555555556,
              "#d8576b"
             ],
             [
              0.6666666666666666,
              "#ed7953"
             ],
             [
              0.7777777777777778,
              "#fb9f3a"
             ],
             [
              0.8888888888888888,
              "#fdca26"
             ],
             [
              1,
              "#f0f921"
             ]
            ],
            "type": "contour"
           }
          ],
          "contourcarpet": [
           {
            "colorbar": {
             "outlinewidth": 0,
             "ticks": ""
            },
            "type": "contourcarpet"
           }
          ],
          "heatmap": [
           {
            "colorbar": {
             "outlinewidth": 0,
             "ticks": ""
            },
            "colorscale": [
             [
              0,
              "#0d0887"
             ],
             [
              0.1111111111111111,
              "#46039f"
             ],
             [
              0.2222222222222222,
              "#7201a8"
             ],
             [
              0.3333333333333333,
              "#9c179e"
             ],
             [
              0.4444444444444444,
              "#bd3786"
             ],
             [
              0.5555555555555556,
              "#d8576b"
             ],
             [
              0.6666666666666666,
              "#ed7953"
             ],
             [
              0.7777777777777778,
              "#fb9f3a"
             ],
             [
              0.8888888888888888,
              "#fdca26"
             ],
             [
              1,
              "#f0f921"
             ]
            ],
            "type": "heatmap"
           }
          ],
          "heatmapgl": [
           {
            "colorbar": {
             "outlinewidth": 0,
             "ticks": ""
            },
            "colorscale": [
             [
              0,
              "#0d0887"
             ],
             [
              0.1111111111111111,
              "#46039f"
             ],
             [
              0.2222222222222222,
              "#7201a8"
             ],
             [
              0.3333333333333333,
              "#9c179e"
             ],
             [
              0.4444444444444444,
              "#bd3786"
             ],
             [
              0.5555555555555556,
              "#d8576b"
             ],
             [
              0.6666666666666666,
              "#ed7953"
             ],
             [
              0.7777777777777778,
              "#fb9f3a"
             ],
             [
              0.8888888888888888,
              "#fdca26"
             ],
             [
              1,
              "#f0f921"
             ]
            ],
            "type": "heatmapgl"
           }
          ],
          "histogram": [
           {
            "marker": {
             "pattern": {
              "fillmode": "overlay",
              "size": 10,
              "solidity": 0.2
             }
            },
            "type": "histogram"
           }
          ],
          "histogram2d": [
           {
            "colorbar": {
             "outlinewidth": 0,
             "ticks": ""
            },
            "colorscale": [
             [
              0,
              "#0d0887"
             ],
             [
              0.1111111111111111,
              "#46039f"
             ],
             [
              0.2222222222222222,
              "#7201a8"
             ],
             [
              0.3333333333333333,
              "#9c179e"
             ],
             [
              0.4444444444444444,
              "#bd3786"
             ],
             [
              0.5555555555555556,
              "#d8576b"
             ],
             [
              0.6666666666666666,
              "#ed7953"
             ],
             [
              0.7777777777777778,
              "#fb9f3a"
             ],
             [
              0.8888888888888888,
              "#fdca26"
             ],
             [
              1,
              "#f0f921"
             ]
            ],
            "type": "histogram2d"
           }
          ],
          "histogram2dcontour": [
           {
            "colorbar": {
             "outlinewidth": 0,
             "ticks": ""
            },
            "colorscale": [
             [
              0,
              "#0d0887"
             ],
             [
              0.1111111111111111,
              "#46039f"
             ],
             [
              0.2222222222222222,
              "#7201a8"
             ],
             [
              0.3333333333333333,
              "#9c179e"
             ],
             [
              0.4444444444444444,
              "#bd3786"
             ],
             [
              0.5555555555555556,
              "#d8576b"
             ],
             [
              0.6666666666666666,
              "#ed7953"
             ],
             [
              0.7777777777777778,
              "#fb9f3a"
             ],
             [
              0.8888888888888888,
              "#fdca26"
             ],
             [
              1,
              "#f0f921"
             ]
            ],
            "type": "histogram2dcontour"
           }
          ],
          "mesh3d": [
           {
            "colorbar": {
             "outlinewidth": 0,
             "ticks": ""
            },
            "type": "mesh3d"
           }
          ],
          "parcoords": [
           {
            "line": {
             "colorbar": {
              "outlinewidth": 0,
              "ticks": ""
             }
            },
            "type": "parcoords"
           }
          ],
          "pie": [
           {
            "automargin": true,
            "type": "pie"
           }
          ],
          "scatter": [
           {
            "fillpattern": {
             "fillmode": "overlay",
             "size": 10,
             "solidity": 0.2
            },
            "type": "scatter"
           }
          ],
          "scatter3d": [
           {
            "line": {
             "colorbar": {
              "outlinewidth": 0,
              "ticks": ""
             }
            },
            "marker": {
             "colorbar": {
              "outlinewidth": 0,
              "ticks": ""
             }
            },
            "type": "scatter3d"
           }
          ],
          "scattercarpet": [
           {
            "marker": {
             "colorbar": {
              "outlinewidth": 0,
              "ticks": ""
             }
            },
            "type": "scattercarpet"
           }
          ],
          "scattergeo": [
           {
            "marker": {
             "colorbar": {
              "outlinewidth": 0,
              "ticks": ""
             }
            },
            "type": "scattergeo"
           }
          ],
          "scattergl": [
           {
            "marker": {
             "colorbar": {
              "outlinewidth": 0,
              "ticks": ""
             }
            },
            "type": "scattergl"
           }
          ],
          "scattermapbox": [
           {
            "marker": {
             "colorbar": {
              "outlinewidth": 0,
              "ticks": ""
             }
            },
            "type": "scattermapbox"
           }
          ],
          "scatterpolar": [
           {
            "marker": {
             "colorbar": {
              "outlinewidth": 0,
              "ticks": ""
             }
            },
            "type": "scatterpolar"
           }
          ],
          "scatterpolargl": [
           {
            "marker": {
             "colorbar": {
              "outlinewidth": 0,
              "ticks": ""
             }
            },
            "type": "scatterpolargl"
           }
          ],
          "scatterternary": [
           {
            "marker": {
             "colorbar": {
              "outlinewidth": 0,
              "ticks": ""
             }
            },
            "type": "scatterternary"
           }
          ],
          "surface": [
           {
            "colorbar": {
             "outlinewidth": 0,
             "ticks": ""
            },
            "colorscale": [
             [
              0,
              "#0d0887"
             ],
             [
              0.1111111111111111,
              "#46039f"
             ],
             [
              0.2222222222222222,
              "#7201a8"
             ],
             [
              0.3333333333333333,
              "#9c179e"
             ],
             [
              0.4444444444444444,
              "#bd3786"
             ],
             [
              0.5555555555555556,
              "#d8576b"
             ],
             [
              0.6666666666666666,
              "#ed7953"
             ],
             [
              0.7777777777777778,
              "#fb9f3a"
             ],
             [
              0.8888888888888888,
              "#fdca26"
             ],
             [
              1,
              "#f0f921"
             ]
            ],
            "type": "surface"
           }
          ],
          "table": [
           {
            "cells": {
             "fill": {
              "color": "#EBF0F8"
             },
             "line": {
              "color": "white"
             }
            },
            "header": {
             "fill": {
              "color": "#C8D4E3"
             },
             "line": {
              "color": "white"
             }
            },
            "type": "table"
           }
          ]
         },
         "layout": {
          "annotationdefaults": {
           "arrowcolor": "#2a3f5f",
           "arrowhead": 0,
           "arrowwidth": 1
          },
          "autotypenumbers": "strict",
          "coloraxis": {
           "colorbar": {
            "outlinewidth": 0,
            "ticks": ""
           }
          },
          "colorscale": {
           "diverging": [
            [
             0,
             "#8e0152"
            ],
            [
             0.1,
             "#c51b7d"
            ],
            [
             0.2,
             "#de77ae"
            ],
            [
             0.3,
             "#f1b6da"
            ],
            [
             0.4,
             "#fde0ef"
            ],
            [
             0.5,
             "#f7f7f7"
            ],
            [
             0.6,
             "#e6f5d0"
            ],
            [
             0.7,
             "#b8e186"
            ],
            [
             0.8,
             "#7fbc41"
            ],
            [
             0.9,
             "#4d9221"
            ],
            [
             1,
             "#276419"
            ]
           ],
           "sequential": [
            [
             0,
             "#0d0887"
            ],
            [
             0.1111111111111111,
             "#46039f"
            ],
            [
             0.2222222222222222,
             "#7201a8"
            ],
            [
             0.3333333333333333,
             "#9c179e"
            ],
            [
             0.4444444444444444,
             "#bd3786"
            ],
            [
             0.5555555555555556,
             "#d8576b"
            ],
            [
             0.6666666666666666,
             "#ed7953"
            ],
            [
             0.7777777777777778,
             "#fb9f3a"
            ],
            [
             0.8888888888888888,
             "#fdca26"
            ],
            [
             1,
             "#f0f921"
            ]
           ],
           "sequentialminus": [
            [
             0,
             "#0d0887"
            ],
            [
             0.1111111111111111,
             "#46039f"
            ],
            [
             0.2222222222222222,
             "#7201a8"
            ],
            [
             0.3333333333333333,
             "#9c179e"
            ],
            [
             0.4444444444444444,
             "#bd3786"
            ],
            [
             0.5555555555555556,
             "#d8576b"
            ],
            [
             0.6666666666666666,
             "#ed7953"
            ],
            [
             0.7777777777777778,
             "#fb9f3a"
            ],
            [
             0.8888888888888888,
             "#fdca26"
            ],
            [
             1,
             "#f0f921"
            ]
           ]
          },
          "colorway": [
           "#636efa",
           "#EF553B",
           "#00cc96",
           "#ab63fa",
           "#FFA15A",
           "#19d3f3",
           "#FF6692",
           "#B6E880",
           "#FF97FF",
           "#FECB52"
          ],
          "font": {
           "color": "#2a3f5f"
          },
          "geo": {
           "bgcolor": "white",
           "lakecolor": "white",
           "landcolor": "#E5ECF6",
           "showlakes": true,
           "showland": true,
           "subunitcolor": "white"
          },
          "hoverlabel": {
           "align": "left"
          },
          "hovermode": "closest",
          "mapbox": {
           "style": "light"
          },
          "paper_bgcolor": "white",
          "plot_bgcolor": "#E5ECF6",
          "polar": {
           "angularaxis": {
            "gridcolor": "white",
            "linecolor": "white",
            "ticks": ""
           },
           "bgcolor": "#E5ECF6",
           "radialaxis": {
            "gridcolor": "white",
            "linecolor": "white",
            "ticks": ""
           }
          },
          "scene": {
           "xaxis": {
            "backgroundcolor": "#E5ECF6",
            "gridcolor": "white",
            "gridwidth": 2,
            "linecolor": "white",
            "showbackground": true,
            "ticks": "",
            "zerolinecolor": "white"
           },
           "yaxis": {
            "backgroundcolor": "#E5ECF6",
            "gridcolor": "white",
            "gridwidth": 2,
            "linecolor": "white",
            "showbackground": true,
            "ticks": "",
            "zerolinecolor": "white"
           },
           "zaxis": {
            "backgroundcolor": "#E5ECF6",
            "gridcolor": "white",
            "gridwidth": 2,
            "linecolor": "white",
            "showbackground": true,
            "ticks": "",
            "zerolinecolor": "white"
           }
          },
          "shapedefaults": {
           "line": {
            "color": "#2a3f5f"
           }
          },
          "ternary": {
           "aaxis": {
            "gridcolor": "white",
            "linecolor": "white",
            "ticks": ""
           },
           "baxis": {
            "gridcolor": "white",
            "linecolor": "white",
            "ticks": ""
           },
           "bgcolor": "#E5ECF6",
           "caxis": {
            "gridcolor": "white",
            "linecolor": "white",
            "ticks": ""
           }
          },
          "title": {
           "x": 0.05
          },
          "xaxis": {
           "automargin": true,
           "gridcolor": "white",
           "linecolor": "white",
           "ticks": "",
           "title": {
            "standoff": 15
           },
           "zerolinecolor": "white",
           "zerolinewidth": 2
          },
          "yaxis": {
           "automargin": true,
           "gridcolor": "white",
           "linecolor": "white",
           "ticks": "",
           "title": {
            "standoff": 15
           },
           "zerolinecolor": "white",
           "zerolinewidth": 2
          }
         }
        },
        "title": {
         "text": "Detected anomalies"
        }
       }
      }
     },
     "metadata": {},
     "output_type": "display_data"
    }
   ],
   "source": [
    "fig = go.Figure()\n",
    "fig.add_trace(go.Scatter(x=test_score_df.index, y=test_trans['ss_id'], name='Tripduration'))\n",
    "fig.add_trace(go.Scatter(x=anomalies.index, y=anamolies_tr['ss_id'], mode='markers', name='Anomaly'))\n",
    "fig.update_layout(showlegend=True, title='Detected anomalies')\n",
    "fig.show()"
   ]
  },
  {
   "attachments": {},
   "cell_type": "markdown",
   "metadata": {},
   "source": [
    "Test"
   ]
  },
  {
   "cell_type": "code",
   "execution_count": null,
   "metadata": {},
   "outputs": [],
   "source": []
  }
 ],
 "metadata": {
  "kernelspec": {
   "display_name": "Python 3",
   "language": "python",
   "name": "python3"
  },
  "language_info": {
   "codemirror_mode": {
    "name": "ipython",
    "version": 3
   },
   "file_extension": ".py",
   "mimetype": "text/x-python",
   "name": "python",
   "nbconvert_exporter": "python",
   "pygments_lexer": "ipython3",
   "version": "3.10.9"
  },
  "orig_nbformat": 4
 },
 "nbformat": 4,
 "nbformat_minor": 2
}
